{
 "cells": [
  {
   "cell_type": "markdown",
   "id": "80e946cf",
   "metadata": {
    "toc": true
   },
   "source": [
    "<h1>Содержание<span class=\"tocSkip\"></span></h1>\n",
    "<div class=\"toc\"><ul class=\"toc-item\"><li><span><a href=\"#Описание-проекта\" data-toc-modified-id=\"Описание-проекта-1\"><span class=\"toc-item-num\">1&nbsp;&nbsp;</span>Описание проекта</a></span></li><li><span><a href=\"#Цель-проекта\" data-toc-modified-id=\"Цель-проекта-2\"><span class=\"toc-item-num\">2&nbsp;&nbsp;</span>Цель проекта</a></span></li><li><span><a href=\"#План-работы\" data-toc-modified-id=\"План-работы-3\"><span class=\"toc-item-num\">3&nbsp;&nbsp;</span>План работы</a></span></li><li><span><a href=\"#Описание-данных\" data-toc-modified-id=\"Описание-данных-4\"><span class=\"toc-item-num\">4&nbsp;&nbsp;</span>Описание данных</a></span></li><li><span><a href=\"#Предобработка-данных\" data-toc-modified-id=\"Предобработка-данных-5\"><span class=\"toc-item-num\">5&nbsp;&nbsp;</span>Предобработка данных</a></span><ul class=\"toc-item\"><li><span><a href=\"#Проверка-типов-данных\" data-toc-modified-id=\"Проверка-типов-данных-5.1\"><span class=\"toc-item-num\">5.1&nbsp;&nbsp;</span>Проверка типов данных</a></span></li><li><span><a href=\"#Изучение-пропусков\" data-toc-modified-id=\"Изучение-пропусков-5.2\"><span class=\"toc-item-num\">5.2&nbsp;&nbsp;</span>Изучение пропусков</a></span></li><li><span><a href=\"#Проверка-на-дубликаты\" data-toc-modified-id=\"Проверка-на-дубликаты-5.3\"><span class=\"toc-item-num\">5.3&nbsp;&nbsp;</span>Проверка на дубликаты</a></span></li><li><span><a href=\"#Категориальные-значения\" data-toc-modified-id=\"Категориальные-значения-5.4\"><span class=\"toc-item-num\">5.4&nbsp;&nbsp;</span>Категориальные значения</a></span></li><li><span><a href=\"#Количественные-значения\" data-toc-modified-id=\"Количественные-значения-5.5\"><span class=\"toc-item-num\">5.5&nbsp;&nbsp;</span>Количественные значения</a></span></li><li><span><a href=\"#Добавление-новых-столбцов\" data-toc-modified-id=\"Добавление-новых-столбцов-5.6\"><span class=\"toc-item-num\">5.6&nbsp;&nbsp;</span>Добавление новых столбцов</a></span></li></ul></li><li><span><a href=\"#Исследовательский-анализ-данных\" data-toc-modified-id=\"Исследовательский-анализ-данных-6\"><span class=\"toc-item-num\">6&nbsp;&nbsp;</span>Исследовательский анализ данных</a></span></li><li><span><a href=\"#Исследование-фильмов,-которые-получили-государственную-поддержку\" data-toc-modified-id=\"Исследование-фильмов,-которые-получили-государственную-поддержку-7\"><span class=\"toc-item-num\">7&nbsp;&nbsp;</span>Исследование фильмов, которые получили государственную поддержку</a></span></li><li><span><a href=\"#Общий-вывод\" data-toc-modified-id=\"Общий-вывод-8\"><span class=\"toc-item-num\">8&nbsp;&nbsp;</span>Общий вывод</a></span></li></ul></div>"
   ]
  },
  {
   "cell_type": "markdown",
   "id": "c4fba664",
   "metadata": {},
   "source": [
    "# Сборный проект"
   ]
  },
  {
   "cell_type": "markdown",
   "id": "d6e998d3",
   "metadata": {},
   "source": [
    "### Описание проекта"
   ]
  },
  {
   "cell_type": "markdown",
   "id": "bdb0ae85",
   "metadata": {},
   "source": [
    "Заказчик этого исследования — Министерство культуры Российской Федерации. \n",
    "Работа будет производиться с данными, опубликованными на портале открытых данных Министерства культуры. Набор данных содержит информацию о прокатных удостоверениях, сборах и государственной поддержке фильмов, а также информацию с сайта КиноПоиск."
   ]
  },
  {
   "cell_type": "markdown",
   "id": "9e523c5e",
   "metadata": {},
   "source": [
    "### Цель проекта"
   ]
  },
  {
   "cell_type": "markdown",
   "id": "75a8c313",
   "metadata": {},
   "source": [
    "Нужно изучить рынок российского кинопроката и выявить текущие тренды. Особое внимание нужно уделить фильмам, которые получили государственную поддержку и проанализировать насколько такие фильмы интересны зрителю. "
   ]
  },
  {
   "cell_type": "markdown",
   "id": "fe831775",
   "metadata": {},
   "source": [
    "### План работы"
   ]
  },
  {
   "cell_type": "markdown",
   "id": "4befa11c",
   "metadata": {},
   "source": [
    "- Изучение рынка российского кинопроката с целью выявления текущих трендов;    \n",
    "- Анализ статистических данных о российском кинопрокате за последние годы;    \n",
    "- Оценка интереса зрителей к фильмам, которые получили государственную поддержку."
   ]
  },
  {
   "cell_type": "markdown",
   "id": "54808169",
   "metadata": {},
   "source": [
    "### Описание данных"
   ]
  },
  {
   "cell_type": "markdown",
   "id": "0c5ff875",
   "metadata": {},
   "source": [
    "title — название фильма;    \n",
    "puNumber — номер прокатного удостоверения;    \n",
    "show_start_date — дата премьеры фильма;    \n",
    "type — тип фильма;    \n",
    "film_studio — студия-производитель;    \n",
    "production_country — страна-производитель;    \n",
    "director — режиссёр;    \n",
    "producer — продюсер;    \n",
    "age_restriction — возрастная категория;    \n",
    "refundable_support — объём возвратных средств государственной поддержки;    \n",
    "nonrefundable_support — объём невозвратных средств государственной поддержки;    \n",
    "financing_source — источник государственного финансирования;    \n",
    "budget — общий бюджет фильма;    \n",
    "ratings — рейтинг фильма на КиноПоиске;    \n",
    "genres — жанр фильма;    \n",
    "box_office — сборы в рублях.    "
   ]
  },
  {
   "cell_type": "markdown",
   "id": "c29e1a54",
   "metadata": {},
   "source": [
    "# Откройте файлы с данными и объедините их в один датафрейм"
   ]
  },
  {
   "cell_type": "code",
   "execution_count": 1,
   "id": "817b7823",
   "metadata": {},
   "outputs": [],
   "source": [
    "import pandas as pd\n",
    "import numpy as np\n",
    "import matplotlib.pyplot as plt\n",
    "import os\n",
    "import seaborn as sns"
   ]
  },
  {
   "cell_type": "code",
   "execution_count": 2,
   "id": "c463830b",
   "metadata": {},
   "outputs": [],
   "source": [
    "pth1 = '/datasets/mkrf_movies.csv'\n",
    "pth2 = '/datasets/mkrf_shows.csv'"
   ]
  },
  {
   "cell_type": "code",
   "execution_count": 3,
   "id": "ed70d65c",
   "metadata": {},
   "outputs": [],
   "source": [
    "try:\n",
    "    data_movies = pd.read_csv('/datasets/mkrf_movies.csv')\n",
    "except:\n",
    "    data_movies = pd.read_csv('https://code.s3.yandex.net/datasets/mkrf_movies.csv')"
   ]
  },
  {
   "cell_type": "code",
   "execution_count": 4,
   "id": "e2a0ad78",
   "metadata": {
    "scrolled": true
   },
   "outputs": [
    {
     "name": "stdout",
     "output_type": "stream",
     "text": [
      "<class 'pandas.core.frame.DataFrame'>\n",
      "RangeIndex: 7486 entries, 0 to 7485\n",
      "Data columns (total 15 columns):\n",
      " #   Column                 Non-Null Count  Dtype  \n",
      "---  ------                 --------------  -----  \n",
      " 0   title                  7486 non-null   object \n",
      " 1   puNumber               7486 non-null   object \n",
      " 2   show_start_date        7486 non-null   object \n",
      " 3   type                   7486 non-null   object \n",
      " 4   film_studio            7468 non-null   object \n",
      " 5   production_country     7484 non-null   object \n",
      " 6   director               7477 non-null   object \n",
      " 7   producer               6918 non-null   object \n",
      " 8   age_restriction        7486 non-null   object \n",
      " 9   refundable_support     332 non-null    float64\n",
      " 10  nonrefundable_support  332 non-null    float64\n",
      " 11  budget                 332 non-null    float64\n",
      " 12  financing_source       332 non-null    object \n",
      " 13  ratings                6519 non-null   object \n",
      " 14  genres                 6510 non-null   object \n",
      "dtypes: float64(3), object(12)\n",
      "memory usage: 877.4+ KB\n"
     ]
    }
   ],
   "source": [
    "data_movies.info()"
   ]
  },
  {
   "cell_type": "code",
   "execution_count": 5,
   "id": "7d4f15a6",
   "metadata": {},
   "outputs": [],
   "source": [
    "try:\n",
    "    data_shows = pd.read_csv('/datasets/mkrf_shows.csv')\n",
    "except:\n",
    "    data_shows = pd.read_csv('https://code.s3.yandex.net/datasets/mkrf_shows.csv')"
   ]
  },
  {
   "cell_type": "code",
   "execution_count": 6,
   "id": "4b39fee4",
   "metadata": {},
   "outputs": [
    {
     "name": "stdout",
     "output_type": "stream",
     "text": [
      "<class 'pandas.core.frame.DataFrame'>\n",
      "RangeIndex: 3158 entries, 0 to 3157\n",
      "Data columns (total 2 columns):\n",
      " #   Column      Non-Null Count  Dtype  \n",
      "---  ------      --------------  -----  \n",
      " 0   puNumber    3158 non-null   int64  \n",
      " 1   box_office  3158 non-null   float64\n",
      "dtypes: float64(1), int64(1)\n",
      "memory usage: 49.5 KB\n"
     ]
    }
   ],
   "source": [
    "data_shows.info()"
   ]
  },
  {
   "cell_type": "markdown",
   "id": "e41e2389",
   "metadata": {},
   "source": [
    "Так как объединение таблиц будет производиться по столбцу puNumber, проверим данные на наличие посторонних строк, символов."
   ]
  },
  {
   "cell_type": "code",
   "execution_count": 7,
   "id": "a7349ee2",
   "metadata": {},
   "outputs": [
    {
     "data": {
      "text/html": [
       "<div>\n",
       "<style scoped>\n",
       "    .dataframe tbody tr th:only-of-type {\n",
       "        vertical-align: middle;\n",
       "    }\n",
       "\n",
       "    .dataframe tbody tr th {\n",
       "        vertical-align: top;\n",
       "    }\n",
       "\n",
       "    .dataframe thead th {\n",
       "        text-align: right;\n",
       "    }\n",
       "</style>\n",
       "<table border=\"1\" class=\"dataframe\">\n",
       "  <thead>\n",
       "    <tr style=\"text-align: right;\">\n",
       "      <th></th>\n",
       "      <th>title</th>\n",
       "      <th>puNumber</th>\n",
       "      <th>show_start_date</th>\n",
       "      <th>type</th>\n",
       "      <th>film_studio</th>\n",
       "      <th>production_country</th>\n",
       "      <th>director</th>\n",
       "      <th>producer</th>\n",
       "      <th>age_restriction</th>\n",
       "      <th>refundable_support</th>\n",
       "      <th>nonrefundable_support</th>\n",
       "      <th>budget</th>\n",
       "      <th>financing_source</th>\n",
       "      <th>ratings</th>\n",
       "      <th>genres</th>\n",
       "    </tr>\n",
       "  </thead>\n",
       "  <tbody>\n",
       "    <tr>\n",
       "      <th>804</th>\n",
       "      <td>Паранормальный Якутск</td>\n",
       "      <td>111004112</td>\n",
       "      <td>2012-08-24T12:00:00.000Z</td>\n",
       "      <td>Художественный</td>\n",
       "      <td>ИП Тимофеев К.П.</td>\n",
       "      <td>Россия</td>\n",
       "      <td>К.Тимофеев</td>\n",
       "      <td>NaN</td>\n",
       "      <td>«16+» - для детей старше 16 лет</td>\n",
       "      <td>NaN</td>\n",
       "      <td>NaN</td>\n",
       "      <td>NaN</td>\n",
       "      <td>NaN</td>\n",
       "      <td>NaN</td>\n",
       "      <td>NaN</td>\n",
       "    </tr>\n",
       "    <tr>\n",
       "      <th>1797</th>\n",
       "      <td>Курбан-роман. (История с жертвой)</td>\n",
       "      <td>нет</td>\n",
       "      <td>2014-05-15T12:00:00.000Z</td>\n",
       "      <td>Художественный</td>\n",
       "      <td>ФОНД \"ИННОВАЦИЯ\"</td>\n",
       "      <td>Россия</td>\n",
       "      <td>С.Юзеев</td>\n",
       "      <td>М.Галицкая</td>\n",
       "      <td>«12+» - для детей старше 12 лет</td>\n",
       "      <td>NaN</td>\n",
       "      <td>NaN</td>\n",
       "      <td>NaN</td>\n",
       "      <td>NaN</td>\n",
       "      <td>NaN</td>\n",
       "      <td>NaN</td>\n",
       "    </tr>\n",
       "  </tbody>\n",
       "</table>\n",
       "</div>"
      ],
      "text/plain": [
       "                                  title    puNumber           show_start_date  \\\n",
       "804               Паранормальный Якутск   111004112  2012-08-24T12:00:00.000Z   \n",
       "1797  Курбан-роман. (История с жертвой)         нет  2014-05-15T12:00:00.000Z   \n",
       "\n",
       "                type       film_studio production_country    director  \\\n",
       "804   Художественный  ИП Тимофеев К.П.             Россия  К.Тимофеев   \n",
       "1797  Художественный  ФОНД \"ИННОВАЦИЯ\"             Россия     С.Юзеев   \n",
       "\n",
       "        producer                  age_restriction  refundable_support  \\\n",
       "804          NaN  «16+» - для детей старше 16 лет                 NaN   \n",
       "1797  М.Галицкая  «12+» - для детей старше 12 лет                 NaN   \n",
       "\n",
       "      nonrefundable_support  budget financing_source ratings genres  \n",
       "804                     NaN     NaN              NaN     NaN    NaN  \n",
       "1797                    NaN     NaN              NaN     NaN    NaN  "
      ]
     },
     "execution_count": 7,
     "metadata": {},
     "output_type": "execute_result"
    }
   ],
   "source": [
    "data_movies[data_movies['puNumber'].str.isdigit() == False]"
   ]
  },
  {
   "cell_type": "markdown",
   "id": "d72a8149",
   "metadata": {},
   "source": [
    "Попробуем преобразовать значения в число, если не получится, значение в ячейке будет заменено на Nan, а затем удалим строку со значением Nan. "
   ]
  },
  {
   "cell_type": "code",
   "execution_count": 8,
   "id": "b28112b4",
   "metadata": {},
   "outputs": [],
   "source": [
    "data_movies['puNumber'] = pd.to_numeric(data_movies['puNumber'], errors='coerce')\n",
    "result = data_movies.loc[pd.isnull(data_movies['puNumber'])]"
   ]
  },
  {
   "cell_type": "code",
   "execution_count": 9,
   "id": "ad2f2b80",
   "metadata": {},
   "outputs": [],
   "source": [
    "data_movies = data_movies.dropna(subset=['puNumber'])"
   ]
  },
  {
   "cell_type": "code",
   "execution_count": 10,
   "id": "865c1127",
   "metadata": {},
   "outputs": [],
   "source": [
    "data_movies['puNumber'] = data_movies['puNumber'].astype('int') # преобразуем тип данных в int"
   ]
  },
  {
   "cell_type": "code",
   "execution_count": 11,
   "id": "c929d186",
   "metadata": {},
   "outputs": [
    {
     "name": "stdout",
     "output_type": "stream",
     "text": [
      "<class 'pandas.core.frame.DataFrame'>\n",
      "Index: 7485 entries, 0 to 7485\n",
      "Data columns (total 15 columns):\n",
      " #   Column                 Non-Null Count  Dtype  \n",
      "---  ------                 --------------  -----  \n",
      " 0   title                  7485 non-null   object \n",
      " 1   puNumber               7485 non-null   int32  \n",
      " 2   show_start_date        7485 non-null   object \n",
      " 3   type                   7485 non-null   object \n",
      " 4   film_studio            7467 non-null   object \n",
      " 5   production_country     7483 non-null   object \n",
      " 6   director               7476 non-null   object \n",
      " 7   producer               6917 non-null   object \n",
      " 8   age_restriction        7485 non-null   object \n",
      " 9   refundable_support     332 non-null    float64\n",
      " 10  nonrefundable_support  332 non-null    float64\n",
      " 11  budget                 332 non-null    float64\n",
      " 12  financing_source       332 non-null    object \n",
      " 13  ratings                6519 non-null   object \n",
      " 14  genres                 6510 non-null   object \n",
      "dtypes: float64(3), int32(1), object(11)\n",
      "memory usage: 906.4+ KB\n"
     ]
    }
   ],
   "source": [
    "data_movies.info()"
   ]
  },
  {
   "cell_type": "code",
   "execution_count": 12,
   "id": "3b0f0912",
   "metadata": {},
   "outputs": [],
   "source": [
    "data_movies = data_movies.merge(data_shows, on='puNumber', how='outer')"
   ]
  },
  {
   "cell_type": "code",
   "execution_count": 13,
   "id": "6cf654ee",
   "metadata": {},
   "outputs": [
    {
     "data": {
      "text/plain": [
       "Index(['title', 'puNumber', 'show_start_date', 'type', 'film_studio',\n",
       "       'production_country', 'director', 'producer', 'age_restriction',\n",
       "       'refundable_support', 'nonrefundable_support', 'budget',\n",
       "       'financing_source', 'ratings', 'genres', 'box_office'],\n",
       "      dtype='object')"
      ]
     },
     "execution_count": 13,
     "metadata": {},
     "output_type": "execute_result"
    }
   ],
   "source": [
    "data_movies.columns"
   ]
  },
  {
   "cell_type": "markdown",
   "id": "1c1cf0b3",
   "metadata": {},
   "source": [
    "В данные основного датафрейма добавился столбец box_office."
   ]
  },
  {
   "cell_type": "code",
   "execution_count": 14,
   "id": "6c506428",
   "metadata": {
    "scrolled": true
   },
   "outputs": [
    {
     "name": "stdout",
     "output_type": "stream",
     "text": [
      "<class 'pandas.core.frame.DataFrame'>\n",
      "RangeIndex: 7485 entries, 0 to 7484\n",
      "Data columns (total 16 columns):\n",
      " #   Column                 Non-Null Count  Dtype  \n",
      "---  ------                 --------------  -----  \n",
      " 0   title                  7485 non-null   object \n",
      " 1   puNumber               7485 non-null   int32  \n",
      " 2   show_start_date        7485 non-null   object \n",
      " 3   type                   7485 non-null   object \n",
      " 4   film_studio            7467 non-null   object \n",
      " 5   production_country     7483 non-null   object \n",
      " 6   director               7476 non-null   object \n",
      " 7   producer               6917 non-null   object \n",
      " 8   age_restriction        7485 non-null   object \n",
      " 9   refundable_support     332 non-null    float64\n",
      " 10  nonrefundable_support  332 non-null    float64\n",
      " 11  budget                 332 non-null    float64\n",
      " 12  financing_source       332 non-null    object \n",
      " 13  ratings                6519 non-null   object \n",
      " 14  genres                 6510 non-null   object \n",
      " 15  box_office             3158 non-null   float64\n",
      "dtypes: float64(4), int32(1), object(11)\n",
      "memory usage: 906.5+ KB\n"
     ]
    }
   ],
   "source": [
    "data_movies.info()"
   ]
  },
  {
   "cell_type": "markdown",
   "id": "b1b5f451",
   "metadata": {},
   "source": [
    "На этом этапе объединил две таблицы с данными о прокатных удостоверениях и данные о прокате в российских кинотеатрах в один датафрейм. Так как объединение было выполнено по столбцу puNumber, проверил этот столбец на наличие посторонних строк, символов. В процессе проверки были обнаружены две ячейки с несоответствующими значениями: \"нет\" и \"111004112\". Попробовал преобразовать эти значения в числовые, при невозможности этого сделать, значения заменяются на NaN и удаляются. Так же сразу преобразовал тип данных столбца puNumber в целочисленный. Перед объединением в таблице data_shows было 3158 строк, в новую таблицу data_movies в столбец box_office попали 3158 значений, что говорит нам о том, что мы не потеряли данные."
   ]
  },
  {
   "cell_type": "markdown",
   "id": "e026bbf0",
   "metadata": {},
   "source": [
    "### Предобработка данных"
   ]
  },
  {
   "cell_type": "markdown",
   "id": "65db500d",
   "metadata": {},
   "source": [
    "#### Проверка типов данных"
   ]
  },
  {
   "cell_type": "markdown",
   "id": "ee72ee86",
   "metadata": {},
   "source": [
    "Изучив тип данных в датафрейме, можно отметить следующие столбцы в которых необходимо сделать преобразования:\n",
    "- show_start_date (дата премьеры фильма) — приведем его к типу Datetime;    \n",
    "- ratings (рейтинг фильма на КиноПоиске) — рейтинг это значения от 0 до 10, которое может быть дробным, целесообразно привести это значение к float."
   ]
  },
  {
   "cell_type": "code",
   "execution_count": 15,
   "id": "418ab687",
   "metadata": {},
   "outputs": [],
   "source": [
    "data_movies['show_start_date'] = pd.to_datetime(data_movies['show_start_date'],format='%Y-%m-%dT%H:%M:%S.%fZ')"
   ]
  },
  {
   "cell_type": "code",
   "execution_count": 16,
   "id": "8aa849a9",
   "metadata": {},
   "outputs": [
    {
     "data": {
      "text/plain": [
       "0   2010-12-23 12:00:00\n",
       "1   2010-01-14 12:00:00\n",
       "2   2011-01-13 12:00:00\n",
       "3   2012-01-16 12:00:00\n",
       "4   2013-01-17 12:00:00\n",
       "Name: show_start_date, dtype: datetime64[ns]"
      ]
     },
     "execution_count": 16,
     "metadata": {},
     "output_type": "execute_result"
    }
   ],
   "source": [
    "data_movies['show_start_date'].head()"
   ]
  },
  {
   "cell_type": "markdown",
   "id": "432d5128",
   "metadata": {},
   "source": [
    "Рассмотри столбец с рэйтингом"
   ]
  },
  {
   "cell_type": "code",
   "execution_count": 17,
   "id": "560040a8",
   "metadata": {},
   "outputs": [
    {
     "data": {
      "text/plain": [
       "array(['6.7', '8.0', '7.2', '5.1', '6.1', '5.8', '3.2', '5.3', '6.6',\n",
       "       '7.3', '3.0', '7.5', '5.4', nan, '5.0', '4.0', '5.9', '4.7', '6.9',\n",
       "       '6.0', '7.1', '4.5', '4.3', '3.3', '6.8', '5.7', '4.9', '2.8',\n",
       "       '3.9', '6.2', '6.4', '7.6', '1.9', '6.5', '7.0', '4.8', '99%',\n",
       "       '4.2', '5.2', '3.8', '3.1', '6.3', '1.5', '4.4', '7.7', '5.6',\n",
       "       '8.2', '7.4', '3.7', '2.6', '5.5', '7.8', '4.1', '91%', '2.9',\n",
       "       '8.1', '3.4', '4.6', '7.9', '8.5', '98%', '3.5', '94%', '1.4',\n",
       "       '8.4', '8.8', '79%', '1.7', '3.6', '2.7', '2.4', '2.5', '8.3',\n",
       "       '83%', '1.2', '8.7', '1.6', '1.1', '62%', '9.2', '1.0', '89%',\n",
       "       '90%', '2.1', '8.6', '1.3', '28%', '97%', '9.0', '64%', '88%',\n",
       "       '8.9', '9.1', '19%', '1.8'], dtype=object)"
      ]
     },
     "execution_count": 17,
     "metadata": {},
     "output_type": "execute_result"
    }
   ],
   "source": [
    "data_movies['ratings'].unique()"
   ]
  },
  {
   "cell_type": "markdown",
   "id": "69820c16",
   "metadata": {},
   "source": [
    "В данных, рейтинг указан в диапазоне от 0 до 10. Заметно чередование процентных значений. \n",
    "Предположим, что значения в процентах это вариант отображения рейтинга, следовательно можно привести данные в единый формат без потерь. \n",
    "Избавимся от знака % и привидем тип данных в формат float. Те значения, которые находятся в интервале от 10 до 100, приведем к рейтингу делением на 10."
   ]
  },
  {
   "cell_type": "code",
   "execution_count": 18,
   "id": "de393683",
   "metadata": {},
   "outputs": [],
   "source": [
    "data_movies['ratings'] = data_movies['ratings'].str.replace('%', '') # избавляемся от знака %"
   ]
  },
  {
   "cell_type": "code",
   "execution_count": 19,
   "id": "f7d4fdaa",
   "metadata": {},
   "outputs": [],
   "source": [
    "data_movies['ratings'] = data_movies['ratings'].astype('float') # преобразуем тип данных в float"
   ]
  },
  {
   "cell_type": "code",
   "execution_count": 20,
   "id": "82416eb8",
   "metadata": {},
   "outputs": [],
   "source": [
    "correct_ratings = data_movies.loc[data_movies['ratings'] > 10] # выбираем значения > 10"
   ]
  },
  {
   "cell_type": "code",
   "execution_count": 21,
   "id": "d8c89c4c",
   "metadata": {},
   "outputs": [],
   "source": [
    "data_movies.loc[data_movies['ratings'] >= 10, 'ratings'] = \\\n",
    "correct_ratings['ratings'] / 10 # приводим те значения, которые > 10 к рейтингу делением на 10"
   ]
  },
  {
   "cell_type": "markdown",
   "id": "904418f4",
   "metadata": {},
   "source": [
    "Проверим уникальные значения после всех преобразований"
   ]
  },
  {
   "cell_type": "code",
   "execution_count": 22,
   "id": "b2fe7c62",
   "metadata": {},
   "outputs": [
    {
     "data": {
      "text/plain": [
       "array([6.7, 8. , 7.2, 5.1, 6.1, 5.8, 3.2, 5.3, 6.6, 7.3, 3. , 7.5, 5.4,\n",
       "       nan, 5. , 4. , 5.9, 4.7, 6.9, 6. , 7.1, 4.5, 4.3, 3.3, 6.8, 5.7,\n",
       "       4.9, 2.8, 3.9, 6.2, 6.4, 7.6, 1.9, 6.5, 7. , 4.8, 9.9, 4.2, 5.2,\n",
       "       3.8, 3.1, 6.3, 1.5, 4.4, 7.7, 5.6, 8.2, 7.4, 3.7, 2.6, 5.5, 7.8,\n",
       "       4.1, 9.1, 2.9, 8.1, 3.4, 4.6, 7.9, 8.5, 9.8, 3.5, 9.4, 1.4, 8.4,\n",
       "       8.8, 1.7, 3.6, 2.7, 2.4, 2.5, 8.3, 1.2, 8.7, 1.6, 1.1, 9.2, 1. ,\n",
       "       8.9, 9. , 2.1, 8.6, 1.3, 9.7, 1.8])"
      ]
     },
     "execution_count": 22,
     "metadata": {},
     "output_type": "execute_result"
    }
   ],
   "source": [
    "data_movies['ratings'].unique()"
   ]
  },
  {
   "cell_type": "markdown",
   "id": "76b84ecf",
   "metadata": {},
   "source": [
    "#### Изучение пропусков"
   ]
  },
  {
   "cell_type": "code",
   "execution_count": 23,
   "id": "ac63b964",
   "metadata": {},
   "outputs": [
    {
     "data": {
      "text/plain": [
       "title                       0\n",
       "puNumber                    0\n",
       "show_start_date             0\n",
       "type                        0\n",
       "film_studio                18\n",
       "production_country          2\n",
       "director                    9\n",
       "producer                  568\n",
       "age_restriction             0\n",
       "refundable_support       7153\n",
       "nonrefundable_support    7153\n",
       "budget                   7153\n",
       "financing_source         7153\n",
       "ratings                   966\n",
       "genres                    975\n",
       "box_office               4327\n",
       "dtype: int64"
      ]
     },
     "execution_count": 23,
     "metadata": {},
     "output_type": "execute_result"
    }
   ],
   "source": [
    "data_movies.isna().sum()"
   ]
  },
  {
   "cell_type": "markdown",
   "id": "3eadc635",
   "metadata": {},
   "source": [
    " Посмотрим на количество пропусков в процентном соотношении"
   ]
  },
  {
   "cell_type": "code",
   "execution_count": 24,
   "id": "7f2c0af7",
   "metadata": {},
   "outputs": [
    {
     "data": {
      "text/html": [
       "<style type=\"text/css\">\n",
       "#T_d232b_row0_col0, #T_d232b_row1_col0, #T_d232b_row2_col0, #T_d232b_row3_col0, #T_d232b_row4_col0, #T_d232b_row5_col0, #T_d232b_row6_col0, #T_d232b_row8_col0 {\n",
       "  background-color: #3b4cc0;\n",
       "  color: #f1f1f1;\n",
       "}\n",
       "#T_d232b_row7_col0 {\n",
       "  background-color: #536edd;\n",
       "  color: #f1f1f1;\n",
       "}\n",
       "#T_d232b_row9_col0, #T_d232b_row10_col0, #T_d232b_row11_col0, #T_d232b_row12_col0 {\n",
       "  background-color: #b40426;\n",
       "  color: #f1f1f1;\n",
       "}\n",
       "#T_d232b_row13_col0, #T_d232b_row14_col0 {\n",
       "  background-color: #6485ec;\n",
       "  color: #f1f1f1;\n",
       "}\n",
       "#T_d232b_row15_col0 {\n",
       "  background-color: #f2cab5;\n",
       "  color: #000000;\n",
       "}\n",
       "</style>\n",
       "<table id=\"T_d232b\">\n",
       "  <thead>\n",
       "    <tr>\n",
       "      <th class=\"blank level0\" >&nbsp;</th>\n",
       "      <th id=\"T_d232b_level0_col0\" class=\"col_heading level0 col0\" >0</th>\n",
       "    </tr>\n",
       "  </thead>\n",
       "  <tbody>\n",
       "    <tr>\n",
       "      <th id=\"T_d232b_level0_row0\" class=\"row_heading level0 row0\" >title</th>\n",
       "      <td id=\"T_d232b_row0_col0\" class=\"data row0 col0\" >0.000000</td>\n",
       "    </tr>\n",
       "    <tr>\n",
       "      <th id=\"T_d232b_level0_row1\" class=\"row_heading level0 row1\" >puNumber</th>\n",
       "      <td id=\"T_d232b_row1_col0\" class=\"data row1 col0\" >0.000000</td>\n",
       "    </tr>\n",
       "    <tr>\n",
       "      <th id=\"T_d232b_level0_row2\" class=\"row_heading level0 row2\" >show_start_date</th>\n",
       "      <td id=\"T_d232b_row2_col0\" class=\"data row2 col0\" >0.000000</td>\n",
       "    </tr>\n",
       "    <tr>\n",
       "      <th id=\"T_d232b_level0_row3\" class=\"row_heading level0 row3\" >type</th>\n",
       "      <td id=\"T_d232b_row3_col0\" class=\"data row3 col0\" >0.000000</td>\n",
       "    </tr>\n",
       "    <tr>\n",
       "      <th id=\"T_d232b_level0_row4\" class=\"row_heading level0 row4\" >film_studio</th>\n",
       "      <td id=\"T_d232b_row4_col0\" class=\"data row4 col0\" >0.200000</td>\n",
       "    </tr>\n",
       "    <tr>\n",
       "      <th id=\"T_d232b_level0_row5\" class=\"row_heading level0 row5\" >production_country</th>\n",
       "      <td id=\"T_d232b_row5_col0\" class=\"data row5 col0\" >0.000000</td>\n",
       "    </tr>\n",
       "    <tr>\n",
       "      <th id=\"T_d232b_level0_row6\" class=\"row_heading level0 row6\" >director</th>\n",
       "      <td id=\"T_d232b_row6_col0\" class=\"data row6 col0\" >0.100000</td>\n",
       "    </tr>\n",
       "    <tr>\n",
       "      <th id=\"T_d232b_level0_row7\" class=\"row_heading level0 row7\" >producer</th>\n",
       "      <td id=\"T_d232b_row7_col0\" class=\"data row7 col0\" >7.600000</td>\n",
       "    </tr>\n",
       "    <tr>\n",
       "      <th id=\"T_d232b_level0_row8\" class=\"row_heading level0 row8\" >age_restriction</th>\n",
       "      <td id=\"T_d232b_row8_col0\" class=\"data row8 col0\" >0.000000</td>\n",
       "    </tr>\n",
       "    <tr>\n",
       "      <th id=\"T_d232b_level0_row9\" class=\"row_heading level0 row9\" >refundable_support</th>\n",
       "      <td id=\"T_d232b_row9_col0\" class=\"data row9 col0\" >95.600000</td>\n",
       "    </tr>\n",
       "    <tr>\n",
       "      <th id=\"T_d232b_level0_row10\" class=\"row_heading level0 row10\" >nonrefundable_support</th>\n",
       "      <td id=\"T_d232b_row10_col0\" class=\"data row10 col0\" >95.600000</td>\n",
       "    </tr>\n",
       "    <tr>\n",
       "      <th id=\"T_d232b_level0_row11\" class=\"row_heading level0 row11\" >budget</th>\n",
       "      <td id=\"T_d232b_row11_col0\" class=\"data row11 col0\" >95.600000</td>\n",
       "    </tr>\n",
       "    <tr>\n",
       "      <th id=\"T_d232b_level0_row12\" class=\"row_heading level0 row12\" >financing_source</th>\n",
       "      <td id=\"T_d232b_row12_col0\" class=\"data row12 col0\" >95.600000</td>\n",
       "    </tr>\n",
       "    <tr>\n",
       "      <th id=\"T_d232b_level0_row13\" class=\"row_heading level0 row13\" >ratings</th>\n",
       "      <td id=\"T_d232b_row13_col0\" class=\"data row13 col0\" >12.900000</td>\n",
       "    </tr>\n",
       "    <tr>\n",
       "      <th id=\"T_d232b_level0_row14\" class=\"row_heading level0 row14\" >genres</th>\n",
       "      <td id=\"T_d232b_row14_col0\" class=\"data row14 col0\" >13.000000</td>\n",
       "    </tr>\n",
       "    <tr>\n",
       "      <th id=\"T_d232b_level0_row15\" class=\"row_heading level0 row15\" >box_office</th>\n",
       "      <td id=\"T_d232b_row15_col0\" class=\"data row15 col0\" >57.800000</td>\n",
       "    </tr>\n",
       "  </tbody>\n",
       "</table>\n"
      ],
      "text/plain": [
       "<pandas.io.formats.style.Styler at 0x248940c1110>"
      ]
     },
     "execution_count": 24,
     "metadata": {},
     "output_type": "execute_result"
    }
   ],
   "source": [
    "pd.DataFrame(round(data_movies.isna().mean()*100,1)).style.background_gradient('coolwarm')"
   ]
  },
  {
   "cell_type": "markdown",
   "id": "c337c6d4",
   "metadata": {},
   "source": [
    "В столбцах production_country (страна-производитель), film_studio (студия-производитель) и director (режиссёр) содержится относительно мало пустых значений. Думаю с ними смело можно расстаться."
   ]
  },
  {
   "cell_type": "code",
   "execution_count": 25,
   "id": "ed1caa0b",
   "metadata": {},
   "outputs": [],
   "source": [
    "data_movies = data_movies.dropna(subset=['film_studio'])"
   ]
  },
  {
   "cell_type": "code",
   "execution_count": 26,
   "id": "fbd1d3d5",
   "metadata": {},
   "outputs": [],
   "source": [
    "data_movies = data_movies.dropna(subset=['production_country'])"
   ]
  },
  {
   "cell_type": "code",
   "execution_count": 27,
   "id": "eedd07bc",
   "metadata": {},
   "outputs": [],
   "source": [
    "data_movies = data_movies.dropna(subset=['director'])"
   ]
  },
  {
   "cell_type": "code",
   "execution_count": 28,
   "id": "bf21922c",
   "metadata": {
    "scrolled": true
   },
   "outputs": [
    {
     "data": {
      "text/html": [
       "<style type=\"text/css\">\n",
       "#T_b0961_row0_col0, #T_b0961_row1_col0, #T_b0961_row2_col0, #T_b0961_row3_col0, #T_b0961_row4_col0, #T_b0961_row5_col0, #T_b0961_row6_col0, #T_b0961_row8_col0 {\n",
       "  background-color: #3b4cc0;\n",
       "  color: #f1f1f1;\n",
       "}\n",
       "#T_b0961_row7_col0 {\n",
       "  background-color: #536edd;\n",
       "  color: #f1f1f1;\n",
       "}\n",
       "#T_b0961_row9_col0, #T_b0961_row10_col0, #T_b0961_row11_col0, #T_b0961_row12_col0 {\n",
       "  background-color: #b40426;\n",
       "  color: #f1f1f1;\n",
       "}\n",
       "#T_b0961_row13_col0, #T_b0961_row14_col0 {\n",
       "  background-color: #6485ec;\n",
       "  color: #f1f1f1;\n",
       "}\n",
       "#T_b0961_row15_col0 {\n",
       "  background-color: #f2cab5;\n",
       "  color: #000000;\n",
       "}\n",
       "</style>\n",
       "<table id=\"T_b0961\">\n",
       "  <thead>\n",
       "    <tr>\n",
       "      <th class=\"blank level0\" >&nbsp;</th>\n",
       "      <th id=\"T_b0961_level0_col0\" class=\"col_heading level0 col0\" >0</th>\n",
       "    </tr>\n",
       "  </thead>\n",
       "  <tbody>\n",
       "    <tr>\n",
       "      <th id=\"T_b0961_level0_row0\" class=\"row_heading level0 row0\" >title</th>\n",
       "      <td id=\"T_b0961_row0_col0\" class=\"data row0 col0\" >0.000000</td>\n",
       "    </tr>\n",
       "    <tr>\n",
       "      <th id=\"T_b0961_level0_row1\" class=\"row_heading level0 row1\" >puNumber</th>\n",
       "      <td id=\"T_b0961_row1_col0\" class=\"data row1 col0\" >0.000000</td>\n",
       "    </tr>\n",
       "    <tr>\n",
       "      <th id=\"T_b0961_level0_row2\" class=\"row_heading level0 row2\" >show_start_date</th>\n",
       "      <td id=\"T_b0961_row2_col0\" class=\"data row2 col0\" >0.000000</td>\n",
       "    </tr>\n",
       "    <tr>\n",
       "      <th id=\"T_b0961_level0_row3\" class=\"row_heading level0 row3\" >type</th>\n",
       "      <td id=\"T_b0961_row3_col0\" class=\"data row3 col0\" >0.000000</td>\n",
       "    </tr>\n",
       "    <tr>\n",
       "      <th id=\"T_b0961_level0_row4\" class=\"row_heading level0 row4\" >film_studio</th>\n",
       "      <td id=\"T_b0961_row4_col0\" class=\"data row4 col0\" >0.000000</td>\n",
       "    </tr>\n",
       "    <tr>\n",
       "      <th id=\"T_b0961_level0_row5\" class=\"row_heading level0 row5\" >production_country</th>\n",
       "      <td id=\"T_b0961_row5_col0\" class=\"data row5 col0\" >0.000000</td>\n",
       "    </tr>\n",
       "    <tr>\n",
       "      <th id=\"T_b0961_level0_row6\" class=\"row_heading level0 row6\" >director</th>\n",
       "      <td id=\"T_b0961_row6_col0\" class=\"data row6 col0\" >0.000000</td>\n",
       "    </tr>\n",
       "    <tr>\n",
       "      <th id=\"T_b0961_level0_row7\" class=\"row_heading level0 row7\" >producer</th>\n",
       "      <td id=\"T_b0961_row7_col0\" class=\"data row7 col0\" >7.600000</td>\n",
       "    </tr>\n",
       "    <tr>\n",
       "      <th id=\"T_b0961_level0_row8\" class=\"row_heading level0 row8\" >age_restriction</th>\n",
       "      <td id=\"T_b0961_row8_col0\" class=\"data row8 col0\" >0.000000</td>\n",
       "    </tr>\n",
       "    <tr>\n",
       "      <th id=\"T_b0961_level0_row9\" class=\"row_heading level0 row9\" >refundable_support</th>\n",
       "      <td id=\"T_b0961_row9_col0\" class=\"data row9 col0\" >95.500000</td>\n",
       "    </tr>\n",
       "    <tr>\n",
       "      <th id=\"T_b0961_level0_row10\" class=\"row_heading level0 row10\" >nonrefundable_support</th>\n",
       "      <td id=\"T_b0961_row10_col0\" class=\"data row10 col0\" >95.500000</td>\n",
       "    </tr>\n",
       "    <tr>\n",
       "      <th id=\"T_b0961_level0_row11\" class=\"row_heading level0 row11\" >budget</th>\n",
       "      <td id=\"T_b0961_row11_col0\" class=\"data row11 col0\" >95.500000</td>\n",
       "    </tr>\n",
       "    <tr>\n",
       "      <th id=\"T_b0961_level0_row12\" class=\"row_heading level0 row12\" >financing_source</th>\n",
       "      <td id=\"T_b0961_row12_col0\" class=\"data row12 col0\" >95.500000</td>\n",
       "    </tr>\n",
       "    <tr>\n",
       "      <th id=\"T_b0961_level0_row13\" class=\"row_heading level0 row13\" >ratings</th>\n",
       "      <td id=\"T_b0961_row13_col0\" class=\"data row13 col0\" >12.700000</td>\n",
       "    </tr>\n",
       "    <tr>\n",
       "      <th id=\"T_b0961_level0_row14\" class=\"row_heading level0 row14\" >genres</th>\n",
       "      <td id=\"T_b0961_row14_col0\" class=\"data row14 col0\" >12.800000</td>\n",
       "    </tr>\n",
       "    <tr>\n",
       "      <th id=\"T_b0961_level0_row15\" class=\"row_heading level0 row15\" >box_office</th>\n",
       "      <td id=\"T_b0961_row15_col0\" class=\"data row15 col0\" >57.700000</td>\n",
       "    </tr>\n",
       "  </tbody>\n",
       "</table>\n"
      ],
      "text/plain": [
       "<pandas.io.formats.style.Styler at 0x24894acb910>"
      ]
     },
     "execution_count": 28,
     "metadata": {},
     "output_type": "execute_result"
    }
   ],
   "source": [
    "pd.DataFrame(round(data_movies.isna().mean()*100,1)).style.background_gradient('coolwarm')"
   ]
  },
  {
   "cell_type": "markdown",
   "id": "bfd0bb36",
   "metadata": {},
   "source": [
    "Посмотрим на отсутствующие значения в столбце producer (продюсер)"
   ]
  },
  {
   "cell_type": "code",
   "execution_count": 29,
   "id": "74160a9f",
   "metadata": {},
   "outputs": [
    {
     "data": {
      "text/html": [
       "<div>\n",
       "<style scoped>\n",
       "    .dataframe tbody tr th:only-of-type {\n",
       "        vertical-align: middle;\n",
       "    }\n",
       "\n",
       "    .dataframe tbody tr th {\n",
       "        vertical-align: top;\n",
       "    }\n",
       "\n",
       "    .dataframe thead th {\n",
       "        text-align: right;\n",
       "    }\n",
       "</style>\n",
       "<table border=\"1\" class=\"dataframe\">\n",
       "  <thead>\n",
       "    <tr style=\"text-align: right;\">\n",
       "      <th></th>\n",
       "      <th>title</th>\n",
       "      <th>puNumber</th>\n",
       "      <th>show_start_date</th>\n",
       "      <th>type</th>\n",
       "      <th>film_studio</th>\n",
       "      <th>production_country</th>\n",
       "      <th>director</th>\n",
       "      <th>producer</th>\n",
       "      <th>age_restriction</th>\n",
       "      <th>refundable_support</th>\n",
       "      <th>nonrefundable_support</th>\n",
       "      <th>budget</th>\n",
       "      <th>financing_source</th>\n",
       "      <th>ratings</th>\n",
       "      <th>genres</th>\n",
       "      <th>box_office</th>\n",
       "    </tr>\n",
       "  </thead>\n",
       "  <tbody>\n",
       "    <tr>\n",
       "      <th>0</th>\n",
       "      <td>1001 рецепт влюбленного кулинара</td>\n",
       "      <td>1811096</td>\n",
       "      <td>2010-12-23 12:00:00</td>\n",
       "      <td>Художественный</td>\n",
       "      <td>Ле Фильм дю Риваж, Ля Сет Синема, Адам и Ева, ...</td>\n",
       "      <td>Франция-Грузия-Германия-Россия-Украина-Бельгия</td>\n",
       "      <td>Н.Джорджадзе</td>\n",
       "      <td>NaN</td>\n",
       "      <td>«0+» - для любой зрительской аудитории</td>\n",
       "      <td>NaN</td>\n",
       "      <td>NaN</td>\n",
       "      <td>NaN</td>\n",
       "      <td>NaN</td>\n",
       "      <td>6.7</td>\n",
       "      <td>мелодрама,комедия</td>\n",
       "      <td>NaN</td>\n",
       "    </tr>\n",
       "    <tr>\n",
       "      <th>73</th>\n",
       "      <td>Белые ночи.</td>\n",
       "      <td>111000815</td>\n",
       "      <td>2015-02-05 12:00:00</td>\n",
       "      <td>Художественный</td>\n",
       "      <td>Киностудия \"Ленфильм\"</td>\n",
       "      <td>Россия</td>\n",
       "      <td>Л.Квинихидзе</td>\n",
       "      <td>NaN</td>\n",
       "      <td>«12+» - для детей старше 12 лет</td>\n",
       "      <td>NaN</td>\n",
       "      <td>NaN</td>\n",
       "      <td>NaN</td>\n",
       "      <td>NaN</td>\n",
       "      <td>7.0</td>\n",
       "      <td>драма,музыка</td>\n",
       "      <td>NaN</td>\n",
       "    </tr>\n",
       "    <tr>\n",
       "      <th>82</th>\n",
       "      <td>Горе от ума.</td>\n",
       "      <td>111000915</td>\n",
       "      <td>2015-02-05 12:00:00</td>\n",
       "      <td>Художественный</td>\n",
       "      <td>Киностудия им. М.Горького</td>\n",
       "      <td>СССР</td>\n",
       "      <td>С.Алексеев, В.Войтецкий</td>\n",
       "      <td>NaN</td>\n",
       "      <td>«6+» - для детей старше 6 лет</td>\n",
       "      <td>NaN</td>\n",
       "      <td>NaN</td>\n",
       "      <td>NaN</td>\n",
       "      <td>NaN</td>\n",
       "      <td>6.0</td>\n",
       "      <td>драма</td>\n",
       "      <td>197464.5</td>\n",
       "    </tr>\n",
       "    <tr>\n",
       "      <th>150</th>\n",
       "      <td>Ленин в 1918 году.</td>\n",
       "      <td>111001616</td>\n",
       "      <td>2016-02-12 12:00:00</td>\n",
       "      <td>Художественный</td>\n",
       "      <td>Киностудия \"Мосфильм\"</td>\n",
       "      <td>СССР</td>\n",
       "      <td>М.Ромм</td>\n",
       "      <td>NaN</td>\n",
       "      <td>«12+» - для детей старше 12 лет</td>\n",
       "      <td>NaN</td>\n",
       "      <td>NaN</td>\n",
       "      <td>NaN</td>\n",
       "      <td>NaN</td>\n",
       "      <td>6.7</td>\n",
       "      <td>драма,биография,история</td>\n",
       "      <td>NaN</td>\n",
       "    </tr>\n",
       "    <tr>\n",
       "      <th>158</th>\n",
       "      <td>Ленин в Польше</td>\n",
       "      <td>111001716</td>\n",
       "      <td>2016-02-12 12:00:00</td>\n",
       "      <td>Художественный</td>\n",
       "      <td>Киностудия \"Мосфильм\", Творческое объединение ...</td>\n",
       "      <td>СССР, Польша</td>\n",
       "      <td>С.Юткевич</td>\n",
       "      <td>NaN</td>\n",
       "      <td>«12+» - для детей старше 12 лет</td>\n",
       "      <td>NaN</td>\n",
       "      <td>NaN</td>\n",
       "      <td>NaN</td>\n",
       "      <td>NaN</td>\n",
       "      <td>6.4</td>\n",
       "      <td>драма,история</td>\n",
       "      <td>NaN</td>\n",
       "    </tr>\n",
       "  </tbody>\n",
       "</table>\n",
       "</div>"
      ],
      "text/plain": [
       "                                title   puNumber     show_start_date  \\\n",
       "0    1001 рецепт влюбленного кулинара    1811096 2010-12-23 12:00:00   \n",
       "73                        Белые ночи.  111000815 2015-02-05 12:00:00   \n",
       "82                       Горе от ума.  111000915 2015-02-05 12:00:00   \n",
       "150                Ленин в 1918 году.  111001616 2016-02-12 12:00:00   \n",
       "158                    Ленин в Польше  111001716 2016-02-12 12:00:00   \n",
       "\n",
       "               type                                        film_studio  \\\n",
       "0    Художественный  Ле Фильм дю Риваж, Ля Сет Синема, Адам и Ева, ...   \n",
       "73   Художественный                              Киностудия \"Ленфильм\"   \n",
       "82   Художественный                          Киностудия им. М.Горького   \n",
       "150  Художественный                              Киностудия \"Мосфильм\"   \n",
       "158  Художественный  Киностудия \"Мосфильм\", Творческое объединение ...   \n",
       "\n",
       "                                 production_country                 director  \\\n",
       "0    Франция-Грузия-Германия-Россия-Украина-Бельгия             Н.Джорджадзе   \n",
       "73                                           Россия             Л.Квинихидзе   \n",
       "82                                             СССР  С.Алексеев, В.Войтецкий   \n",
       "150                                            СССР                   М.Ромм   \n",
       "158                                    СССР, Польша                С.Юткевич   \n",
       "\n",
       "    producer                         age_restriction  refundable_support  \\\n",
       "0        NaN  «0+» - для любой зрительской аудитории                 NaN   \n",
       "73       NaN         «12+» - для детей старше 12 лет                 NaN   \n",
       "82       NaN           «6+» - для детей старше 6 лет                 NaN   \n",
       "150      NaN         «12+» - для детей старше 12 лет                 NaN   \n",
       "158      NaN         «12+» - для детей старше 12 лет                 NaN   \n",
       "\n",
       "     nonrefundable_support  budget financing_source  ratings  \\\n",
       "0                      NaN     NaN              NaN      6.7   \n",
       "73                     NaN     NaN              NaN      7.0   \n",
       "82                     NaN     NaN              NaN      6.0   \n",
       "150                    NaN     NaN              NaN      6.7   \n",
       "158                    NaN     NaN              NaN      6.4   \n",
       "\n",
       "                      genres  box_office  \n",
       "0          мелодрама,комедия         NaN  \n",
       "73              драма,музыка         NaN  \n",
       "82                     драма    197464.5  \n",
       "150  драма,биография,история         NaN  \n",
       "158            драма,история         NaN  "
      ]
     },
     "execution_count": 29,
     "metadata": {},
     "output_type": "execute_result"
    }
   ],
   "source": [
    "data_movies.loc[data_movies['producer'].isna()].head(5)"
   ]
  },
  {
   "cell_type": "code",
   "execution_count": 30,
   "id": "ab55d95f",
   "metadata": {},
   "outputs": [
    {
     "data": {
      "text/html": [
       "<div>\n",
       "<style scoped>\n",
       "    .dataframe tbody tr th:only-of-type {\n",
       "        vertical-align: middle;\n",
       "    }\n",
       "\n",
       "    .dataframe tbody tr th {\n",
       "        vertical-align: top;\n",
       "    }\n",
       "\n",
       "    .dataframe thead th {\n",
       "        text-align: right;\n",
       "    }\n",
       "</style>\n",
       "<table border=\"1\" class=\"dataframe\">\n",
       "  <thead>\n",
       "    <tr style=\"text-align: right;\">\n",
       "      <th></th>\n",
       "      <th>title</th>\n",
       "      <th>puNumber</th>\n",
       "      <th>show_start_date</th>\n",
       "      <th>type</th>\n",
       "      <th>film_studio</th>\n",
       "      <th>production_country</th>\n",
       "      <th>director</th>\n",
       "      <th>producer</th>\n",
       "      <th>age_restriction</th>\n",
       "      <th>refundable_support</th>\n",
       "      <th>nonrefundable_support</th>\n",
       "      <th>budget</th>\n",
       "      <th>financing_source</th>\n",
       "      <th>ratings</th>\n",
       "      <th>genres</th>\n",
       "      <th>box_office</th>\n",
       "    </tr>\n",
       "  </thead>\n",
       "  <tbody>\n",
       "    <tr>\n",
       "      <th>0</th>\n",
       "      <td>1001 рецепт влюбленного кулинара</td>\n",
       "      <td>1811096</td>\n",
       "      <td>2010-12-23 12:00:00</td>\n",
       "      <td>Художественный</td>\n",
       "      <td>Ле Фильм дю Риваж, Ля Сет Синема, Адам и Ева, ...</td>\n",
       "      <td>Франция-Грузия-Германия-Россия-Украина-Бельгия</td>\n",
       "      <td>Н.Джорджадзе</td>\n",
       "      <td>NaN</td>\n",
       "      <td>«0+» - для любой зрительской аудитории</td>\n",
       "      <td>NaN</td>\n",
       "      <td>NaN</td>\n",
       "      <td>NaN</td>\n",
       "      <td>NaN</td>\n",
       "      <td>6.7</td>\n",
       "      <td>мелодрама,комедия</td>\n",
       "      <td>NaN</td>\n",
       "    </tr>\n",
       "    <tr>\n",
       "      <th>1</th>\n",
       "      <td>Небесный тихоход (новая цветная версия)</td>\n",
       "      <td>111000110</td>\n",
       "      <td>2010-01-14 12:00:00</td>\n",
       "      <td>Художественный</td>\n",
       "      <td>Киностудия \"Ленфильм\", ЗАО \"Киновидеообъединен...</td>\n",
       "      <td>СССР, Россия</td>\n",
       "      <td>И.Цветов (режиссер ч/б фильма - С.Тимошенко)</td>\n",
       "      <td>ЗАО \"Киновидеообъединение \"Крупный план\"</td>\n",
       "      <td>«0+» - для любой зрительской аудитории</td>\n",
       "      <td>NaN</td>\n",
       "      <td>NaN</td>\n",
       "      <td>NaN</td>\n",
       "      <td>NaN</td>\n",
       "      <td>8.0</td>\n",
       "      <td>комедия,военный</td>\n",
       "      <td>NaN</td>\n",
       "    </tr>\n",
       "    <tr>\n",
       "      <th>2</th>\n",
       "      <td>И не было лучше брата</td>\n",
       "      <td>111000111</td>\n",
       "      <td>2011-01-13 12:00:00</td>\n",
       "      <td>Художественный</td>\n",
       "      <td>ООО \"Ибрус\"  при поддержке Киностудии \"Азербай...</td>\n",
       "      <td>Россия - Азербайджан</td>\n",
       "      <td>М.Ибрагимбеков</td>\n",
       "      <td>М.Ибрагимбеков, А.Швыдкой, Д.Шуфутинский</td>\n",
       "      <td>«16+» - для детей старше 16 лет</td>\n",
       "      <td>NaN</td>\n",
       "      <td>NaN</td>\n",
       "      <td>NaN</td>\n",
       "      <td>NaN</td>\n",
       "      <td>6.7</td>\n",
       "      <td>детектив</td>\n",
       "      <td>NaN</td>\n",
       "    </tr>\n",
       "    <tr>\n",
       "      <th>3</th>\n",
       "      <td>Детский юмористический киножурнал \"Ералаш\", вы...</td>\n",
       "      <td>111000112</td>\n",
       "      <td>2012-01-16 12:00:00</td>\n",
       "      <td>Художественный</td>\n",
       "      <td>ООО \"Ералаш\"</td>\n",
       "      <td>Россия</td>\n",
       "      <td>В.Панжев, Г.Курлаев, И.Белостоцкий, М.Сулейман...</td>\n",
       "      <td>ООО \"Ералаш\"</td>\n",
       "      <td>«0+» - для любой зрительской аудитории</td>\n",
       "      <td>NaN</td>\n",
       "      <td>NaN</td>\n",
       "      <td>NaN</td>\n",
       "      <td>NaN</td>\n",
       "      <td>7.2</td>\n",
       "      <td>детский,комедия</td>\n",
       "      <td>NaN</td>\n",
       "    </tr>\n",
       "    <tr>\n",
       "      <th>4</th>\n",
       "      <td>Тайна перевала Дятлова</td>\n",
       "      <td>111000113</td>\n",
       "      <td>2013-01-17 12:00:00</td>\n",
       "      <td>Художественный</td>\n",
       "      <td>ООО \"Нон-Стоп Продакшн\"</td>\n",
       "      <td>Россия</td>\n",
       "      <td>Ренни Харлин</td>\n",
       "      <td>А.Роднянский, С.Мелькумов, С.Беспалов, Киа Джэм</td>\n",
       "      <td>«16+» - для детей старше 16 лет</td>\n",
       "      <td>NaN</td>\n",
       "      <td>NaN</td>\n",
       "      <td>NaN</td>\n",
       "      <td>NaN</td>\n",
       "      <td>5.1</td>\n",
       "      <td>ужасы,фантастика</td>\n",
       "      <td>2450.0</td>\n",
       "    </tr>\n",
       "  </tbody>\n",
       "</table>\n",
       "</div>"
      ],
      "text/plain": [
       "                                               title   puNumber  \\\n",
       "0                   1001 рецепт влюбленного кулинара    1811096   \n",
       "1            Небесный тихоход (новая цветная версия)  111000110   \n",
       "2                              И не было лучше брата  111000111   \n",
       "3  Детский юмористический киножурнал \"Ералаш\", вы...  111000112   \n",
       "4                             Тайна перевала Дятлова  111000113   \n",
       "\n",
       "      show_start_date            type  \\\n",
       "0 2010-12-23 12:00:00  Художественный   \n",
       "1 2010-01-14 12:00:00  Художественный   \n",
       "2 2011-01-13 12:00:00  Художественный   \n",
       "3 2012-01-16 12:00:00  Художественный   \n",
       "4 2013-01-17 12:00:00  Художественный   \n",
       "\n",
       "                                         film_studio  \\\n",
       "0  Ле Фильм дю Риваж, Ля Сет Синема, Адам и Ева, ...   \n",
       "1  Киностудия \"Ленфильм\", ЗАО \"Киновидеообъединен...   \n",
       "2  ООО \"Ибрус\"  при поддержке Киностудии \"Азербай...   \n",
       "3                                       ООО \"Ералаш\"   \n",
       "4                            ООО \"Нон-Стоп Продакшн\"   \n",
       "\n",
       "                               production_country  \\\n",
       "0  Франция-Грузия-Германия-Россия-Украина-Бельгия   \n",
       "1                                    СССР, Россия   \n",
       "2                            Россия - Азербайджан   \n",
       "3                                          Россия   \n",
       "4                                          Россия   \n",
       "\n",
       "                                            director  \\\n",
       "0                                       Н.Джорджадзе   \n",
       "1       И.Цветов (режиссер ч/б фильма - С.Тимошенко)   \n",
       "2                                     М.Ибрагимбеков   \n",
       "3  В.Панжев, Г.Курлаев, И.Белостоцкий, М.Сулейман...   \n",
       "4                                       Ренни Харлин   \n",
       "\n",
       "                                          producer  \\\n",
       "0                                              NaN   \n",
       "1         ЗАО \"Киновидеообъединение \"Крупный план\"   \n",
       "2         М.Ибрагимбеков, А.Швыдкой, Д.Шуфутинский   \n",
       "3                                     ООО \"Ералаш\"   \n",
       "4  А.Роднянский, С.Мелькумов, С.Беспалов, Киа Джэм   \n",
       "\n",
       "                          age_restriction  refundable_support  \\\n",
       "0  «0+» - для любой зрительской аудитории                 NaN   \n",
       "1  «0+» - для любой зрительской аудитории                 NaN   \n",
       "2         «16+» - для детей старше 16 лет                 NaN   \n",
       "3  «0+» - для любой зрительской аудитории                 NaN   \n",
       "4         «16+» - для детей старше 16 лет                 NaN   \n",
       "\n",
       "   nonrefundable_support  budget financing_source  ratings             genres  \\\n",
       "0                    NaN     NaN              NaN      6.7  мелодрама,комедия   \n",
       "1                    NaN     NaN              NaN      8.0    комедия,военный   \n",
       "2                    NaN     NaN              NaN      6.7           детектив   \n",
       "3                    NaN     NaN              NaN      7.2    детский,комедия   \n",
       "4                    NaN     NaN              NaN      5.1   ужасы,фантастика   \n",
       "\n",
       "   box_office  \n",
       "0         NaN  \n",
       "1         NaN  \n",
       "2         NaN  \n",
       "3         NaN  \n",
       "4      2450.0  "
      ]
     },
     "execution_count": 30,
     "metadata": {},
     "output_type": "execute_result"
    }
   ],
   "source": [
    "data_movies.head()"
   ]
  },
  {
   "cell_type": "markdown",
   "id": "1401ac64",
   "metadata": {},
   "source": [
    "Не во всех случаях продюсером фильма является режиссер. Поэтому, логически заменить отсутствующие значения в столбце продюсер не чем. Заполним значения \"Без продюсера\"."
   ]
  },
  {
   "cell_type": "code",
   "execution_count": 31,
   "id": "e8060bfc",
   "metadata": {},
   "outputs": [],
   "source": [
    "data_movies['producer'] = data_movies['producer'].fillna(value='Без продюсера')"
   ]
  },
  {
   "cell_type": "markdown",
   "id": "4f5579c6",
   "metadata": {},
   "source": [
    "Посмотрим на отсутствующие значения в столбце genres (жанр фильма)"
   ]
  },
  {
   "cell_type": "code",
   "execution_count": 32,
   "id": "cee8b3ab",
   "metadata": {
    "scrolled": true
   },
   "outputs": [
    {
     "data": {
      "text/html": [
       "<div>\n",
       "<style scoped>\n",
       "    .dataframe tbody tr th:only-of-type {\n",
       "        vertical-align: middle;\n",
       "    }\n",
       "\n",
       "    .dataframe tbody tr th {\n",
       "        vertical-align: top;\n",
       "    }\n",
       "\n",
       "    .dataframe thead th {\n",
       "        text-align: right;\n",
       "    }\n",
       "</style>\n",
       "<table border=\"1\" class=\"dataframe\">\n",
       "  <thead>\n",
       "    <tr style=\"text-align: right;\">\n",
       "      <th></th>\n",
       "      <th>title</th>\n",
       "      <th>puNumber</th>\n",
       "      <th>show_start_date</th>\n",
       "      <th>type</th>\n",
       "      <th>film_studio</th>\n",
       "      <th>production_country</th>\n",
       "      <th>director</th>\n",
       "      <th>producer</th>\n",
       "      <th>age_restriction</th>\n",
       "      <th>refundable_support</th>\n",
       "      <th>nonrefundable_support</th>\n",
       "      <th>budget</th>\n",
       "      <th>financing_source</th>\n",
       "      <th>ratings</th>\n",
       "      <th>genres</th>\n",
       "      <th>box_office</th>\n",
       "    </tr>\n",
       "  </thead>\n",
       "  <tbody>\n",
       "    <tr>\n",
       "      <th>20</th>\n",
       "      <td>А.С.Пушкин \"Сказка о Царе Салтане\"</td>\n",
       "      <td>111000219</td>\n",
       "      <td>2019-01-18 12:00:00</td>\n",
       "      <td>Художественный</td>\n",
       "      <td>ООО \"ВИАРТИСТ\"</td>\n",
       "      <td>Россия</td>\n",
       "      <td>Е.Егоров</td>\n",
       "      <td>М.Батков, С.Старых, Г.Мустафин</td>\n",
       "      <td>«0+» - для любой зрительской аудитории</td>\n",
       "      <td>NaN</td>\n",
       "      <td>NaN</td>\n",
       "      <td>NaN</td>\n",
       "      <td>NaN</td>\n",
       "      <td>NaN</td>\n",
       "      <td>NaN</td>\n",
       "      <td>NaN</td>\n",
       "    </tr>\n",
       "    <tr>\n",
       "      <th>27</th>\n",
       "      <td>Апостасия</td>\n",
       "      <td>111000317</td>\n",
       "      <td>2017-01-18 12:00:00</td>\n",
       "      <td>Художественный</td>\n",
       "      <td>ООО \"ТПО Кинокомпания М2Ф\"</td>\n",
       "      <td>Россия</td>\n",
       "      <td>А.Мурадов</td>\n",
       "      <td>А.Мурадов, Р.Филатов, А.Голодницкий</td>\n",
       "      <td>«16+» - для детей старше 16 лет</td>\n",
       "      <td>NaN</td>\n",
       "      <td>NaN</td>\n",
       "      <td>NaN</td>\n",
       "      <td>NaN</td>\n",
       "      <td>NaN</td>\n",
       "      <td>NaN</td>\n",
       "      <td>NaN</td>\n",
       "    </tr>\n",
       "    <tr>\n",
       "      <th>38</th>\n",
       "      <td>20:17</td>\n",
       "      <td>111000418</td>\n",
       "      <td>2018-01-26 12:00:00</td>\n",
       "      <td>Художественный</td>\n",
       "      <td>ООО \"Компания \"Новые люди\"</td>\n",
       "      <td>Россия</td>\n",
       "      <td>А.Занин, М.Архипов, Н.Барабаш, А.Костандакес, ...</td>\n",
       "      <td>Н.Мокрицкая</td>\n",
       "      <td>«18+» - запрещено для детей</td>\n",
       "      <td>NaN</td>\n",
       "      <td>NaN</td>\n",
       "      <td>NaN</td>\n",
       "      <td>NaN</td>\n",
       "      <td>NaN</td>\n",
       "      <td>NaN</td>\n",
       "      <td>NaN</td>\n",
       "    </tr>\n",
       "    <tr>\n",
       "      <th>48</th>\n",
       "      <td>Лёд</td>\n",
       "      <td>111000518</td>\n",
       "      <td>2018-02-01 12:00:00</td>\n",
       "      <td>Художественный</td>\n",
       "      <td>ООО \"Водород 2011\", ООО \"Арт Пикчерс Студия\", ...</td>\n",
       "      <td>Россия</td>\n",
       "      <td>О.Трофим</td>\n",
       "      <td>М.Врубель, А.Андрющенко, Ф.Бондарчук, Д.Рудовс...</td>\n",
       "      <td>«12+» - для детей старше 12 лет</td>\n",
       "      <td>25000000.0</td>\n",
       "      <td>60000000.0</td>\n",
       "      <td>148585222.0</td>\n",
       "      <td>Фонд кино</td>\n",
       "      <td>NaN</td>\n",
       "      <td>NaN</td>\n",
       "      <td>1.445732e+09</td>\n",
       "    </tr>\n",
       "    <tr>\n",
       "      <th>54</th>\n",
       "      <td>Последнее лето</td>\n",
       "      <td>111000614</td>\n",
       "      <td>2014-01-22 12:00:00</td>\n",
       "      <td>Художественный</td>\n",
       "      <td>ООО \"Продюсерский центр Киностудии им. М.Горьк...</td>\n",
       "      <td>Россия</td>\n",
       "      <td>Е.Звездаков</td>\n",
       "      <td>С.Зернов, С.Кучмаева</td>\n",
       "      <td>«18+» - запрещено для детей</td>\n",
       "      <td>NaN</td>\n",
       "      <td>NaN</td>\n",
       "      <td>NaN</td>\n",
       "      <td>NaN</td>\n",
       "      <td>NaN</td>\n",
       "      <td>NaN</td>\n",
       "      <td>2.040000e+04</td>\n",
       "    </tr>\n",
       "  </tbody>\n",
       "</table>\n",
       "</div>"
      ],
      "text/plain": [
       "                                 title   puNumber     show_start_date  \\\n",
       "20  А.С.Пушкин \"Сказка о Царе Салтане\"  111000219 2019-01-18 12:00:00   \n",
       "27                           Апостасия  111000317 2017-01-18 12:00:00   \n",
       "38                               20:17  111000418 2018-01-26 12:00:00   \n",
       "48                                 Лёд  111000518 2018-02-01 12:00:00   \n",
       "54                      Последнее лето  111000614 2014-01-22 12:00:00   \n",
       "\n",
       "               type                                        film_studio  \\\n",
       "20   Художественный                                     ООО \"ВИАРТИСТ\"   \n",
       "27   Художественный                         ООО \"ТПО Кинокомпания М2Ф\"   \n",
       "38   Художественный                         ООО \"Компания \"Новые люди\"   \n",
       "48   Художественный  ООО \"Водород 2011\", ООО \"Арт Пикчерс Студия\", ...   \n",
       "54   Художественный  ООО \"Продюсерский центр Киностудии им. М.Горьк...   \n",
       "\n",
       "   production_country                                           director  \\\n",
       "20             Россия                                           Е.Егоров   \n",
       "27             Россия                                          А.Мурадов   \n",
       "38             Россия  А.Занин, М.Архипов, Н.Барабаш, А.Костандакес, ...   \n",
       "48             Россия                                           О.Трофим   \n",
       "54             Россия                                        Е.Звездаков   \n",
       "\n",
       "                                             producer  \\\n",
       "20                     М.Батков, С.Старых, Г.Мустафин   \n",
       "27                А.Мурадов, Р.Филатов, А.Голодницкий   \n",
       "38                                        Н.Мокрицкая   \n",
       "48  М.Врубель, А.Андрющенко, Ф.Бондарчук, Д.Рудовс...   \n",
       "54                               С.Зернов, С.Кучмаева   \n",
       "\n",
       "                           age_restriction  refundable_support  \\\n",
       "20  «0+» - для любой зрительской аудитории                 NaN   \n",
       "27         «16+» - для детей старше 16 лет                 NaN   \n",
       "38             «18+» - запрещено для детей                 NaN   \n",
       "48         «12+» - для детей старше 12 лет          25000000.0   \n",
       "54             «18+» - запрещено для детей                 NaN   \n",
       "\n",
       "    nonrefundable_support       budget financing_source  ratings genres  \\\n",
       "20                    NaN          NaN              NaN      NaN    NaN   \n",
       "27                    NaN          NaN              NaN      NaN    NaN   \n",
       "38                    NaN          NaN              NaN      NaN    NaN   \n",
       "48             60000000.0  148585222.0        Фонд кино      NaN    NaN   \n",
       "54                    NaN          NaN              NaN      NaN    NaN   \n",
       "\n",
       "      box_office  \n",
       "20           NaN  \n",
       "27           NaN  \n",
       "38           NaN  \n",
       "48  1.445732e+09  \n",
       "54  2.040000e+04  "
      ]
     },
     "execution_count": 32,
     "metadata": {},
     "output_type": "execute_result"
    }
   ],
   "source": [
    "data_movies.loc[data_movies['genres'].isna()].head(5)"
   ]
  },
  {
   "cell_type": "markdown",
   "id": "0bc818cb",
   "metadata": {},
   "source": [
    "Логически заменить отсутствующие значения в столбце не чем. Заполним значения \"Без жанра\"."
   ]
  },
  {
   "cell_type": "code",
   "execution_count": 33,
   "id": "e8d40837",
   "metadata": {},
   "outputs": [],
   "source": [
    "data_movies['genres'] = data_movies['genres'].fillna(value='Без жанра')"
   ]
  },
  {
   "cell_type": "code",
   "execution_count": 34,
   "id": "23ed7688",
   "metadata": {
    "scrolled": true
   },
   "outputs": [
    {
     "data": {
      "text/plain": [
       "title                       0\n",
       "puNumber                    0\n",
       "show_start_date             0\n",
       "type                        0\n",
       "film_studio                 0\n",
       "production_country          0\n",
       "director                    0\n",
       "producer                    0\n",
       "age_restriction             0\n",
       "refundable_support       7126\n",
       "nonrefundable_support    7126\n",
       "budget                   7126\n",
       "financing_source         7126\n",
       "ratings                   947\n",
       "genres                      0\n",
       "box_office               4303\n",
       "dtype: int64"
      ]
     },
     "execution_count": 34,
     "metadata": {},
     "output_type": "execute_result"
    }
   ],
   "source": [
    "data_movies.isna().sum()"
   ]
  },
  {
   "cell_type": "markdown",
   "id": "9bab1b8c",
   "metadata": {},
   "source": [
    "#### Проверка на дубликаты"
   ]
  },
  {
   "cell_type": "code",
   "execution_count": 35,
   "id": "49f3412f",
   "metadata": {},
   "outputs": [
    {
     "data": {
      "text/plain": [
       "0"
      ]
     },
     "execution_count": 35,
     "metadata": {},
     "output_type": "execute_result"
    }
   ],
   "source": [
    "data_movies.duplicated().sum()"
   ]
  },
  {
   "cell_type": "markdown",
   "id": "4ad930ff",
   "metadata": {},
   "source": [
    "Полных совпадений в данных нет."
   ]
  },
  {
   "cell_type": "markdown",
   "id": "925f7690",
   "metadata": {},
   "source": [
    "Посмотрим на количество уникальных значений"
   ]
  },
  {
   "cell_type": "code",
   "execution_count": 36,
   "id": "5d142a3b",
   "metadata": {
    "scrolled": true
   },
   "outputs": [
    {
     "data": {
      "text/plain": [
       "title                    6745\n",
       "puNumber                 7456\n",
       "show_start_date          1963\n",
       "type                        8\n",
       "film_studio              5485\n",
       "production_country        950\n",
       "director                 4796\n",
       "producer                 5330\n",
       "age_restriction             5\n",
       "refundable_support         34\n",
       "nonrefundable_support      75\n",
       "budget                    290\n",
       "financing_source            3\n",
       "ratings                    84\n",
       "genres                    742\n",
       "box_office               2935\n",
       "dtype: int64"
      ]
     },
     "execution_count": 36,
     "metadata": {},
     "output_type": "execute_result"
    }
   ],
   "source": [
    "data_movies.nunique()"
   ]
  },
  {
   "cell_type": "markdown",
   "id": "c1d7a110",
   "metadata": {},
   "source": [
    "Для исключения задублирования фильмов попробуем найти фильмы, которые совпадают по названию, даты премьеры, типа, студии-производителя, страны-производителя и директора."
   ]
  },
  {
   "cell_type": "code",
   "execution_count": 37,
   "id": "f0bea635",
   "metadata": {
    "scrolled": true
   },
   "outputs": [
    {
     "data": {
      "text/html": [
       "<div>\n",
       "<style scoped>\n",
       "    .dataframe tbody tr th:only-of-type {\n",
       "        vertical-align: middle;\n",
       "    }\n",
       "\n",
       "    .dataframe tbody tr th {\n",
       "        vertical-align: top;\n",
       "    }\n",
       "\n",
       "    .dataframe thead th {\n",
       "        text-align: right;\n",
       "    }\n",
       "</style>\n",
       "<table border=\"1\" class=\"dataframe\">\n",
       "  <thead>\n",
       "    <tr style=\"text-align: right;\">\n",
       "      <th></th>\n",
       "      <th>title</th>\n",
       "      <th>puNumber</th>\n",
       "      <th>show_start_date</th>\n",
       "      <th>type</th>\n",
       "      <th>film_studio</th>\n",
       "      <th>production_country</th>\n",
       "      <th>director</th>\n",
       "      <th>producer</th>\n",
       "      <th>age_restriction</th>\n",
       "      <th>refundable_support</th>\n",
       "      <th>nonrefundable_support</th>\n",
       "      <th>budget</th>\n",
       "      <th>financing_source</th>\n",
       "      <th>ratings</th>\n",
       "      <th>genres</th>\n",
       "      <th>box_office</th>\n",
       "    </tr>\n",
       "  </thead>\n",
       "  <tbody>\n",
       "    <tr>\n",
       "      <th>1532</th>\n",
       "      <td>Зоя</td>\n",
       "      <td>111022618</td>\n",
       "      <td>2018-11-25 12:00:00</td>\n",
       "      <td>Художественный</td>\n",
       "      <td>Тарханова Юлия Олеговна</td>\n",
       "      <td>Россия</td>\n",
       "      <td>О.Товма</td>\n",
       "      <td>Ю.Тарханова</td>\n",
       "      <td>«16+» - для детей старше 16 лет</td>\n",
       "      <td>NaN</td>\n",
       "      <td>NaN</td>\n",
       "      <td>NaN</td>\n",
       "      <td>NaN</td>\n",
       "      <td>3.9</td>\n",
       "      <td>история,биография,военный</td>\n",
       "      <td>NaN</td>\n",
       "    </tr>\n",
       "    <tr>\n",
       "      <th>1534</th>\n",
       "      <td>Зоя</td>\n",
       "      <td>111022718</td>\n",
       "      <td>2018-11-25 12:00:00</td>\n",
       "      <td>Художественный</td>\n",
       "      <td>Тарханова Юлия Олеговна</td>\n",
       "      <td>Россия</td>\n",
       "      <td>О.Товма</td>\n",
       "      <td>Ю.Тарханова</td>\n",
       "      <td>«16+» - для детей старше 16 лет</td>\n",
       "      <td>NaN</td>\n",
       "      <td>NaN</td>\n",
       "      <td>NaN</td>\n",
       "      <td>NaN</td>\n",
       "      <td>3.9</td>\n",
       "      <td>история,биография,военный</td>\n",
       "      <td>NaN</td>\n",
       "    </tr>\n",
       "    <tr>\n",
       "      <th>2435</th>\n",
       "      <td>Анархисты</td>\n",
       "      <td>121002316</td>\n",
       "      <td>2016-02-03 12:00:00</td>\n",
       "      <td>Художественный</td>\n",
       "      <td>24 Май Продюксьон, Франс 2 Синема</td>\n",
       "      <td>Франция</td>\n",
       "      <td>Эли Важеман</td>\n",
       "      <td>Лола Гэнс</td>\n",
       "      <td>«16+» - для детей старше 16 лет</td>\n",
       "      <td>NaN</td>\n",
       "      <td>NaN</td>\n",
       "      <td>NaN</td>\n",
       "      <td>NaN</td>\n",
       "      <td>5.7</td>\n",
       "      <td>драма</td>\n",
       "      <td>332371.0</td>\n",
       "    </tr>\n",
       "    <tr>\n",
       "      <th>2771</th>\n",
       "      <td>Последние пять лет.</td>\n",
       "      <td>121005715</td>\n",
       "      <td>2015-03-25 12:00:00</td>\n",
       "      <td>Художественный</td>\n",
       "      <td>Гранд Пикс Интертейнмент, Лаки Манки Пикчерз, ...</td>\n",
       "      <td>США</td>\n",
       "      <td>Ричард ЛаГравенес</td>\n",
       "      <td>Джанет Бреннер, Лорен Версель, Курт Дойтч, Рич...</td>\n",
       "      <td>«16+» - для детей старше 16 лет</td>\n",
       "      <td>NaN</td>\n",
       "      <td>NaN</td>\n",
       "      <td>NaN</td>\n",
       "      <td>NaN</td>\n",
       "      <td>5.7</td>\n",
       "      <td>мюзикл,драма,мелодрама</td>\n",
       "      <td>52495.0</td>\n",
       "    </tr>\n",
       "    <tr>\n",
       "      <th>2849</th>\n",
       "      <td>Оторвы</td>\n",
       "      <td>121006514</td>\n",
       "      <td>2014-04-07 12:00:00</td>\n",
       "      <td>Художественный</td>\n",
       "      <td>Проминент Пикчерз, Ворлдвью Интертейнмент, Инд...</td>\n",
       "      <td>США</td>\n",
       "      <td>Кристофер Нельсон</td>\n",
       "      <td>Молли Коннерс, Хезер Рэй</td>\n",
       "      <td>«16+» - для детей старше 16 лет</td>\n",
       "      <td>NaN</td>\n",
       "      <td>NaN</td>\n",
       "      <td>NaN</td>\n",
       "      <td>NaN</td>\n",
       "      <td>3.5</td>\n",
       "      <td>комедия,приключения</td>\n",
       "      <td>NaN</td>\n",
       "    </tr>\n",
       "    <tr>\n",
       "      <th>4729</th>\n",
       "      <td>Эпидемия_</td>\n",
       "      <td>121025713</td>\n",
       "      <td>2013-10-07 12:00:00</td>\n",
       "      <td>Художественный</td>\n",
       "      <td>Морена Фильм, Ребелион Террестр, А 3 Медиа Гру...</td>\n",
       "      <td>Испания - Франция</td>\n",
       "      <td>Алекс Пастор, Давид Пастор</td>\n",
       "      <td>Мерседес Гамеро, Альберто Марини, Педро Уриоль</td>\n",
       "      <td>«16+» - для детей старше 16 лет</td>\n",
       "      <td>NaN</td>\n",
       "      <td>NaN</td>\n",
       "      <td>NaN</td>\n",
       "      <td>NaN</td>\n",
       "      <td>7.2</td>\n",
       "      <td>драма,фантастика,триллер</td>\n",
       "      <td>NaN</td>\n",
       "    </tr>\n",
       "    <tr>\n",
       "      <th>5424</th>\n",
       "      <td>Бугай</td>\n",
       "      <td>124001210</td>\n",
       "      <td>2010-09-24 12:00:00</td>\n",
       "      <td>Анимационный</td>\n",
       "      <td>Иллюзион Студиос, Процесо</td>\n",
       "      <td>Мексика-Аргентина</td>\n",
       "      <td>Густаво Кова</td>\n",
       "      <td>Хуго Е. Лаура, Хосе Луис Масса</td>\n",
       "      <td>«16+» - для детей старше 16 лет</td>\n",
       "      <td>NaN</td>\n",
       "      <td>NaN</td>\n",
       "      <td>NaN</td>\n",
       "      <td>NaN</td>\n",
       "      <td>6.6</td>\n",
       "      <td>мультфильм,боевик,триллер</td>\n",
       "      <td>NaN</td>\n",
       "    </tr>\n",
       "    <tr>\n",
       "      <th>5494</th>\n",
       "      <td>Пингвиненок Пороро: Большие гонки</td>\n",
       "      <td>124001915</td>\n",
       "      <td>2015-04-15 12:00:00</td>\n",
       "      <td>Анимационный</td>\n",
       "      <td>Окон Студиос, Чина Филм, Симка Интертейнмент, ...</td>\n",
       "      <td>Южная Корея - КНР</td>\n",
       "      <td>Юнг Куюн Парк</td>\n",
       "      <td>Иль Хо Ким, Михал Симка</td>\n",
       "      <td>«0+» - для любой зрительской аудитории</td>\n",
       "      <td>NaN</td>\n",
       "      <td>NaN</td>\n",
       "      <td>NaN</td>\n",
       "      <td>NaN</td>\n",
       "      <td>5.2</td>\n",
       "      <td>мультфильм,семейный,спорт</td>\n",
       "      <td>14152495.9</td>\n",
       "    </tr>\n",
       "    <tr>\n",
       "      <th>6399</th>\n",
       "      <td>Анархисты</td>\n",
       "      <td>221003916</td>\n",
       "      <td>2016-02-03 12:00:00</td>\n",
       "      <td>Художественный</td>\n",
       "      <td>24 Май Продюксьон, Франс 2 Синема</td>\n",
       "      <td>Франция</td>\n",
       "      <td>Эли Важеман</td>\n",
       "      <td>Лола Гэнс</td>\n",
       "      <td>«16+» - для детей старше 16 лет</td>\n",
       "      <td>NaN</td>\n",
       "      <td>NaN</td>\n",
       "      <td>NaN</td>\n",
       "      <td>NaN</td>\n",
       "      <td>5.7</td>\n",
       "      <td>драма</td>\n",
       "      <td>NaN</td>\n",
       "    </tr>\n",
       "    <tr>\n",
       "      <th>6467</th>\n",
       "      <td>Последние пять лет.</td>\n",
       "      <td>221008115</td>\n",
       "      <td>2015-03-25 12:00:00</td>\n",
       "      <td>Художественный</td>\n",
       "      <td>Гранд Пикс Интертейнмент, Лаки Манки Пикчерз, ...</td>\n",
       "      <td>США</td>\n",
       "      <td>Ричард ЛаГравенес</td>\n",
       "      <td>Джанет Бреннер, Лорен Версель, Курт Дойтч, Рич...</td>\n",
       "      <td>«16+» - для детей старше 16 лет</td>\n",
       "      <td>NaN</td>\n",
       "      <td>NaN</td>\n",
       "      <td>NaN</td>\n",
       "      <td>NaN</td>\n",
       "      <td>5.7</td>\n",
       "      <td>мюзикл,драма,мелодрама</td>\n",
       "      <td>NaN</td>\n",
       "    </tr>\n",
       "    <tr>\n",
       "      <th>6530</th>\n",
       "      <td>Оторвы</td>\n",
       "      <td>221013214</td>\n",
       "      <td>2014-04-07 12:00:00</td>\n",
       "      <td>Художественный</td>\n",
       "      <td>Проминент Пикчерз, Ворлдвью Интертейнмент, Инд...</td>\n",
       "      <td>США</td>\n",
       "      <td>Кристофер Нельсон</td>\n",
       "      <td>Молли Коннерс, Хезер Рэй</td>\n",
       "      <td>«16+» - для детей старше 16 лет</td>\n",
       "      <td>NaN</td>\n",
       "      <td>NaN</td>\n",
       "      <td>NaN</td>\n",
       "      <td>NaN</td>\n",
       "      <td>3.5</td>\n",
       "      <td>комедия,приключения</td>\n",
       "      <td>NaN</td>\n",
       "    </tr>\n",
       "    <tr>\n",
       "      <th>6741</th>\n",
       "      <td>Эпидемия_</td>\n",
       "      <td>221035513</td>\n",
       "      <td>2013-10-07 12:00:00</td>\n",
       "      <td>Художественный</td>\n",
       "      <td>Морена Фильм, Ребелион Террестр, А 3 Медиа Гру...</td>\n",
       "      <td>Испания - Франция</td>\n",
       "      <td>Алекс Пастор, Давид Пастор</td>\n",
       "      <td>Мерседес Гамеро, Альберто Марини, Педро Уриоль</td>\n",
       "      <td>«16+» - для детей старше 16 лет</td>\n",
       "      <td>NaN</td>\n",
       "      <td>NaN</td>\n",
       "      <td>NaN</td>\n",
       "      <td>NaN</td>\n",
       "      <td>7.2</td>\n",
       "      <td>драма,фантастика,триллер</td>\n",
       "      <td>NaN</td>\n",
       "    </tr>\n",
       "    <tr>\n",
       "      <th>7402</th>\n",
       "      <td>Пингвиненок Пороро: Большие гонки</td>\n",
       "      <td>224001915</td>\n",
       "      <td>2015-04-15 12:00:00</td>\n",
       "      <td>Анимационный</td>\n",
       "      <td>Окон Студиос, Чина Филм, Симка Интертейнмент, ...</td>\n",
       "      <td>Южная Корея - КНР</td>\n",
       "      <td>Юнг Куюн Парк</td>\n",
       "      <td>Иль Хо Ким, Михал Симка</td>\n",
       "      <td>«0+» - для любой зрительской аудитории</td>\n",
       "      <td>NaN</td>\n",
       "      <td>NaN</td>\n",
       "      <td>NaN</td>\n",
       "      <td>NaN</td>\n",
       "      <td>5.2</td>\n",
       "      <td>мультфильм,семейный,спорт</td>\n",
       "      <td>1360.0</td>\n",
       "    </tr>\n",
       "    <tr>\n",
       "      <th>7444</th>\n",
       "      <td>Бугай</td>\n",
       "      <td>224021210</td>\n",
       "      <td>2010-09-24 12:00:00</td>\n",
       "      <td>Анимационный</td>\n",
       "      <td>Иллюзион Студиос, Процесо</td>\n",
       "      <td>Мексика-Аргентина</td>\n",
       "      <td>Густаво Кова</td>\n",
       "      <td>Хуго Е. Лаура, Хосе Луис Масса</td>\n",
       "      <td>«16+» - для детей старше 16 лет</td>\n",
       "      <td>NaN</td>\n",
       "      <td>NaN</td>\n",
       "      <td>NaN</td>\n",
       "      <td>NaN</td>\n",
       "      <td>6.6</td>\n",
       "      <td>мультфильм,боевик,триллер</td>\n",
       "      <td>NaN</td>\n",
       "    </tr>\n",
       "  </tbody>\n",
       "</table>\n",
       "</div>"
      ],
      "text/plain": [
       "                                  title   puNumber     show_start_date  \\\n",
       "1532                                Зоя  111022618 2018-11-25 12:00:00   \n",
       "1534                                Зоя  111022718 2018-11-25 12:00:00   \n",
       "2435                          Анархисты  121002316 2016-02-03 12:00:00   \n",
       "2771                Последние пять лет.  121005715 2015-03-25 12:00:00   \n",
       "2849                             Оторвы  121006514 2014-04-07 12:00:00   \n",
       "4729                          Эпидемия_  121025713 2013-10-07 12:00:00   \n",
       "5424                              Бугай  124001210 2010-09-24 12:00:00   \n",
       "5494  Пингвиненок Пороро: Большие гонки  124001915 2015-04-15 12:00:00   \n",
       "6399                          Анархисты  221003916 2016-02-03 12:00:00   \n",
       "6467                Последние пять лет.  221008115 2015-03-25 12:00:00   \n",
       "6530                             Оторвы  221013214 2014-04-07 12:00:00   \n",
       "6741                          Эпидемия_  221035513 2013-10-07 12:00:00   \n",
       "7402  Пингвиненок Пороро: Большие гонки  224001915 2015-04-15 12:00:00   \n",
       "7444                              Бугай  224021210 2010-09-24 12:00:00   \n",
       "\n",
       "                 type                                        film_studio  \\\n",
       "1532   Художественный                            Тарханова Юлия Олеговна   \n",
       "1534   Художественный                            Тарханова Юлия Олеговна   \n",
       "2435   Художественный                  24 Май Продюксьон, Франс 2 Синема   \n",
       "2771   Художественный  Гранд Пикс Интертейнмент, Лаки Манки Пикчерз, ...   \n",
       "2849   Художественный  Проминент Пикчерз, Ворлдвью Интертейнмент, Инд...   \n",
       "4729   Художественный  Морена Фильм, Ребелион Террестр, А 3 Медиа Гру...   \n",
       "5424     Анимационный                          Иллюзион Студиос, Процесо   \n",
       "5494     Анимационный  Окон Студиос, Чина Филм, Симка Интертейнмент, ...   \n",
       "6399   Художественный                  24 Май Продюксьон, Франс 2 Синема   \n",
       "6467   Художественный  Гранд Пикс Интертейнмент, Лаки Манки Пикчерз, ...   \n",
       "6530   Художественный  Проминент Пикчерз, Ворлдвью Интертейнмент, Инд...   \n",
       "6741   Художественный  Морена Фильм, Ребелион Террестр, А 3 Медиа Гру...   \n",
       "7402     Анимационный  Окон Студиос, Чина Филм, Симка Интертейнмент, ...   \n",
       "7444     Анимационный                          Иллюзион Студиос, Процесо   \n",
       "\n",
       "     production_country                    director  \\\n",
       "1532             Россия                     О.Товма   \n",
       "1534             Россия                     О.Товма   \n",
       "2435            Франция                 Эли Важеман   \n",
       "2771                США           Ричард ЛаГравенес   \n",
       "2849                США           Кристофер Нельсон   \n",
       "4729  Испания - Франция  Алекс Пастор, Давид Пастор   \n",
       "5424  Мексика-Аргентина                Густаво Кова   \n",
       "5494  Южная Корея - КНР               Юнг Куюн Парк   \n",
       "6399            Франция                 Эли Важеман   \n",
       "6467                США           Ричард ЛаГравенес   \n",
       "6530                США           Кристофер Нельсон   \n",
       "6741  Испания - Франция  Алекс Пастор, Давид Пастор   \n",
       "7402  Южная Корея - КНР               Юнг Куюн Парк   \n",
       "7444  Мексика-Аргентина                Густаво Кова   \n",
       "\n",
       "                                               producer  \\\n",
       "1532                                        Ю.Тарханова   \n",
       "1534                                        Ю.Тарханова   \n",
       "2435                                          Лола Гэнс   \n",
       "2771  Джанет Бреннер, Лорен Версель, Курт Дойтч, Рич...   \n",
       "2849                           Молли Коннерс, Хезер Рэй   \n",
       "4729     Мерседес Гамеро, Альберто Марини, Педро Уриоль   \n",
       "5424                     Хуго Е. Лаура, Хосе Луис Масса   \n",
       "5494                            Иль Хо Ким, Михал Симка   \n",
       "6399                                          Лола Гэнс   \n",
       "6467  Джанет Бреннер, Лорен Версель, Курт Дойтч, Рич...   \n",
       "6530                           Молли Коннерс, Хезер Рэй   \n",
       "6741     Мерседес Гамеро, Альберто Марини, Педро Уриоль   \n",
       "7402                            Иль Хо Ким, Михал Симка   \n",
       "7444                     Хуго Е. Лаура, Хосе Луис Масса   \n",
       "\n",
       "                             age_restriction  refundable_support  \\\n",
       "1532         «16+» - для детей старше 16 лет                 NaN   \n",
       "1534         «16+» - для детей старше 16 лет                 NaN   \n",
       "2435         «16+» - для детей старше 16 лет                 NaN   \n",
       "2771         «16+» - для детей старше 16 лет                 NaN   \n",
       "2849         «16+» - для детей старше 16 лет                 NaN   \n",
       "4729         «16+» - для детей старше 16 лет                 NaN   \n",
       "5424         «16+» - для детей старше 16 лет                 NaN   \n",
       "5494  «0+» - для любой зрительской аудитории                 NaN   \n",
       "6399         «16+» - для детей старше 16 лет                 NaN   \n",
       "6467         «16+» - для детей старше 16 лет                 NaN   \n",
       "6530         «16+» - для детей старше 16 лет                 NaN   \n",
       "6741         «16+» - для детей старше 16 лет                 NaN   \n",
       "7402  «0+» - для любой зрительской аудитории                 NaN   \n",
       "7444         «16+» - для детей старше 16 лет                 NaN   \n",
       "\n",
       "      nonrefundable_support  budget financing_source  ratings  \\\n",
       "1532                    NaN     NaN              NaN      3.9   \n",
       "1534                    NaN     NaN              NaN      3.9   \n",
       "2435                    NaN     NaN              NaN      5.7   \n",
       "2771                    NaN     NaN              NaN      5.7   \n",
       "2849                    NaN     NaN              NaN      3.5   \n",
       "4729                    NaN     NaN              NaN      7.2   \n",
       "5424                    NaN     NaN              NaN      6.6   \n",
       "5494                    NaN     NaN              NaN      5.2   \n",
       "6399                    NaN     NaN              NaN      5.7   \n",
       "6467                    NaN     NaN              NaN      5.7   \n",
       "6530                    NaN     NaN              NaN      3.5   \n",
       "6741                    NaN     NaN              NaN      7.2   \n",
       "7402                    NaN     NaN              NaN      5.2   \n",
       "7444                    NaN     NaN              NaN      6.6   \n",
       "\n",
       "                         genres  box_office  \n",
       "1532  история,биография,военный         NaN  \n",
       "1534  история,биография,военный         NaN  \n",
       "2435                      драма    332371.0  \n",
       "2771     мюзикл,драма,мелодрама     52495.0  \n",
       "2849        комедия,приключения         NaN  \n",
       "4729   драма,фантастика,триллер         NaN  \n",
       "5424  мультфильм,боевик,триллер         NaN  \n",
       "5494  мультфильм,семейный,спорт  14152495.9  \n",
       "6399                      драма         NaN  \n",
       "6467     мюзикл,драма,мелодрама         NaN  \n",
       "6530        комедия,приключения         NaN  \n",
       "6741   драма,фантастика,триллер         NaN  \n",
       "7402  мультфильм,семейный,спорт      1360.0  \n",
       "7444  мультфильм,боевик,триллер         NaN  "
      ]
     },
     "execution_count": 37,
     "metadata": {},
     "output_type": "execute_result"
    }
   ],
   "source": [
    "data_movies[data_movies.duplicated(subset=['title', 'show_start_date', 'type', 'film_studio', 'production_country', 'director'],\\\n",
    "                                   keep=False)]"
   ]
  },
  {
   "cell_type": "markdown",
   "id": "f6244287",
   "metadata": {},
   "source": [
    "Повторы в столбце title (название фильма) возможно связаны с тем, что у одних и техже фильмов могут быть разные прокатные удостоверения, так как выдавались под разные прокатные цели."
   ]
  },
  {
   "cell_type": "markdown",
   "id": "052e9396",
   "metadata": {},
   "source": [
    "Проверим фильмы, которые могут совпадать по номеру прокатного удостоверения."
   ]
  },
  {
   "cell_type": "code",
   "execution_count": 38,
   "id": "0e3c39c3",
   "metadata": {
    "scrolled": true
   },
   "outputs": [
    {
     "data": {
      "text/html": [
       "<div>\n",
       "<style scoped>\n",
       "    .dataframe tbody tr th:only-of-type {\n",
       "        vertical-align: middle;\n",
       "    }\n",
       "\n",
       "    .dataframe tbody tr th {\n",
       "        vertical-align: top;\n",
       "    }\n",
       "\n",
       "    .dataframe thead th {\n",
       "        text-align: right;\n",
       "    }\n",
       "</style>\n",
       "<table border=\"1\" class=\"dataframe\">\n",
       "  <thead>\n",
       "    <tr style=\"text-align: right;\">\n",
       "      <th></th>\n",
       "      <th>title</th>\n",
       "      <th>puNumber</th>\n",
       "      <th>show_start_date</th>\n",
       "      <th>type</th>\n",
       "      <th>film_studio</th>\n",
       "      <th>production_country</th>\n",
       "      <th>director</th>\n",
       "      <th>producer</th>\n",
       "      <th>age_restriction</th>\n",
       "      <th>refundable_support</th>\n",
       "      <th>nonrefundable_support</th>\n",
       "      <th>budget</th>\n",
       "      <th>financing_source</th>\n",
       "      <th>ratings</th>\n",
       "      <th>genres</th>\n",
       "      <th>box_office</th>\n",
       "    </tr>\n",
       "  </thead>\n",
       "  <tbody>\n",
       "    <tr>\n",
       "      <th>6888</th>\n",
       "      <td>Анализируй это!</td>\n",
       "      <td>221054410</td>\n",
       "      <td>2010-05-25 12:00:00</td>\n",
       "      <td>Художественный</td>\n",
       "      <td>Уорнер Бразерс, Вилладж Роудшоу Филмз ЛТД</td>\n",
       "      <td>США-Австралия</td>\n",
       "      <td>ХЭрольд Рэмис</td>\n",
       "      <td>Джейн Розенталь, Пола Уейнстейн</td>\n",
       "      <td>«16+» - для детей старше 16 лет</td>\n",
       "      <td>NaN</td>\n",
       "      <td>NaN</td>\n",
       "      <td>NaN</td>\n",
       "      <td>NaN</td>\n",
       "      <td>7.4</td>\n",
       "      <td>комедия,криминал</td>\n",
       "      <td>NaN</td>\n",
       "    </tr>\n",
       "    <tr>\n",
       "      <th>6889</th>\n",
       "      <td>Анализируй то!</td>\n",
       "      <td>221054410</td>\n",
       "      <td>2010-05-25 12:00:00</td>\n",
       "      <td>Художественный</td>\n",
       "      <td>Уорнер Бразерс, Виллидж Роадшоу Пикчерз, Эн-Пи...</td>\n",
       "      <td>США</td>\n",
       "      <td>Гарольд Реймис</td>\n",
       "      <td>Джейн Розенталь, Паул Уэйнстейн</td>\n",
       "      <td>«12+» - для детей старше 12 лет</td>\n",
       "      <td>NaN</td>\n",
       "      <td>NaN</td>\n",
       "      <td>NaN</td>\n",
       "      <td>NaN</td>\n",
       "      <td>6.8</td>\n",
       "      <td>комедия,криминал</td>\n",
       "      <td>NaN</td>\n",
       "    </tr>\n",
       "    <tr>\n",
       "      <th>7289</th>\n",
       "      <td>Как жениться и остаться холостым</td>\n",
       "      <td>221154310</td>\n",
       "      <td>2010-12-17 12:00:00</td>\n",
       "      <td>Художественный</td>\n",
       "      <td>Ше Вам, Скрипт Ассосье, Тэ Фэ 1 Фильм Продюксь...</td>\n",
       "      <td>Франция</td>\n",
       "      <td>Эрик Лартиго</td>\n",
       "      <td>Амандин Било, Алан Шаба</td>\n",
       "      <td>«16+» - для детей старше 16 лет</td>\n",
       "      <td>NaN</td>\n",
       "      <td>NaN</td>\n",
       "      <td>NaN</td>\n",
       "      <td>NaN</td>\n",
       "      <td>7.0</td>\n",
       "      <td>мелодрама,комедия</td>\n",
       "      <td>NaN</td>\n",
       "    </tr>\n",
       "    <tr>\n",
       "      <th>7290</th>\n",
       "      <td>Иоанна - женщина на папском престоле /По роман...</td>\n",
       "      <td>221154310</td>\n",
       "      <td>2010-12-17 12:00:00</td>\n",
       "      <td>Художественный</td>\n",
       "      <td>Константин Фильм, А Эр Ди Дегето Фильм, Дюне ...</td>\n",
       "      <td>Германия - Великобритания - Италия - Испания</td>\n",
       "      <td>Зенке Вортманн</td>\n",
       "      <td>Оливер Бербен, Дорис Д.Хайнце, Фарук Элтан</td>\n",
       "      <td>«16+» - для детей старше 16 лет</td>\n",
       "      <td>NaN</td>\n",
       "      <td>NaN</td>\n",
       "      <td>NaN</td>\n",
       "      <td>NaN</td>\n",
       "      <td>7.6</td>\n",
       "      <td>драма,мелодрама,история</td>\n",
       "      <td>NaN</td>\n",
       "    </tr>\n",
       "  </tbody>\n",
       "</table>\n",
       "</div>"
      ],
      "text/plain": [
       "                                                  title   puNumber  \\\n",
       "6888                                    Анализируй это!  221054410   \n",
       "6889                                     Анализируй то!  221054410   \n",
       "7289                   Как жениться и остаться холостым  221154310   \n",
       "7290  Иоанна - женщина на папском престоле /По роман...  221154310   \n",
       "\n",
       "         show_start_date            type  \\\n",
       "6888 2010-05-25 12:00:00  Художественный   \n",
       "6889 2010-05-25 12:00:00  Художественный   \n",
       "7289 2010-12-17 12:00:00  Художественный   \n",
       "7290 2010-12-17 12:00:00  Художественный   \n",
       "\n",
       "                                            film_studio  \\\n",
       "6888          Уорнер Бразерс, Вилладж Роудшоу Филмз ЛТД   \n",
       "6889  Уорнер Бразерс, Виллидж Роадшоу Пикчерз, Эн-Пи...   \n",
       "7289  Ше Вам, Скрипт Ассосье, Тэ Фэ 1 Фильм Продюксь...   \n",
       "7290   Константин Фильм, А Эр Ди Дегето Фильм, Дюне ...   \n",
       "\n",
       "                                production_country        director  \\\n",
       "6888                                 США-Австралия   ХЭрольд Рэмис   \n",
       "6889                                           США  Гарольд Реймис   \n",
       "7289                                       Франция    Эрик Лартиго   \n",
       "7290  Германия - Великобритания - Италия - Испания  Зенке Вортманн   \n",
       "\n",
       "                                        producer  \\\n",
       "6888             Джейн Розенталь, Пола Уейнстейн   \n",
       "6889             Джейн Розенталь, Паул Уэйнстейн   \n",
       "7289                     Амандин Било, Алан Шаба   \n",
       "7290  Оливер Бербен, Дорис Д.Хайнце, Фарук Элтан   \n",
       "\n",
       "                      age_restriction  refundable_support  \\\n",
       "6888  «16+» - для детей старше 16 лет                 NaN   \n",
       "6889  «12+» - для детей старше 12 лет                 NaN   \n",
       "7289  «16+» - для детей старше 16 лет                 NaN   \n",
       "7290  «16+» - для детей старше 16 лет                 NaN   \n",
       "\n",
       "      nonrefundable_support  budget financing_source  ratings  \\\n",
       "6888                    NaN     NaN              NaN      7.4   \n",
       "6889                    NaN     NaN              NaN      6.8   \n",
       "7289                    NaN     NaN              NaN      7.0   \n",
       "7290                    NaN     NaN              NaN      7.6   \n",
       "\n",
       "                       genres  box_office  \n",
       "6888         комедия,криминал         NaN  \n",
       "6889         комедия,криминал         NaN  \n",
       "7289        мелодрама,комедия         NaN  \n",
       "7290  драма,мелодрама,история         NaN  "
      ]
     },
     "execution_count": 38,
     "metadata": {},
     "output_type": "execute_result"
    }
   ],
   "source": [
    "data_movies.loc[data_movies['puNumber'].duplicated(keep=False)]"
   ]
  },
  {
   "cell_type": "markdown",
   "id": "f67f912e",
   "metadata": {},
   "source": [
    "В результате выявили 4 фильма с одинаковыми прокатными номерами. Так как прокатный номер является идентификатором, присвом двум фильмах собственные номера."
   ]
  },
  {
   "cell_type": "code",
   "execution_count": 39,
   "id": "2d791b90",
   "metadata": {},
   "outputs": [],
   "source": [
    "data_movies.loc[(data_movies['title'] == 'Как жениться и остаться холостым') & \\\n",
    "                (data_movies['puNumber'] == 221154310), 'puNumber'] = 100000000"
   ]
  },
  {
   "cell_type": "code",
   "execution_count": 40,
   "id": "6b895c14",
   "metadata": {},
   "outputs": [],
   "source": [
    "data_movies.loc[(data_movies['title'] == 'Анализируй это!') & \\\n",
    "                (data_movies['puNumber'] == 221054410), 'puNumber'] = 200000000"
   ]
  },
  {
   "cell_type": "code",
   "execution_count": 41,
   "id": "96f42cc8",
   "metadata": {},
   "outputs": [
    {
     "data": {
      "text/html": [
       "<div>\n",
       "<style scoped>\n",
       "    .dataframe tbody tr th:only-of-type {\n",
       "        vertical-align: middle;\n",
       "    }\n",
       "\n",
       "    .dataframe tbody tr th {\n",
       "        vertical-align: top;\n",
       "    }\n",
       "\n",
       "    .dataframe thead th {\n",
       "        text-align: right;\n",
       "    }\n",
       "</style>\n",
       "<table border=\"1\" class=\"dataframe\">\n",
       "  <thead>\n",
       "    <tr style=\"text-align: right;\">\n",
       "      <th></th>\n",
       "      <th>title</th>\n",
       "      <th>puNumber</th>\n",
       "      <th>show_start_date</th>\n",
       "      <th>type</th>\n",
       "      <th>film_studio</th>\n",
       "      <th>production_country</th>\n",
       "      <th>director</th>\n",
       "      <th>producer</th>\n",
       "      <th>age_restriction</th>\n",
       "      <th>refundable_support</th>\n",
       "      <th>nonrefundable_support</th>\n",
       "      <th>budget</th>\n",
       "      <th>financing_source</th>\n",
       "      <th>ratings</th>\n",
       "      <th>genres</th>\n",
       "      <th>box_office</th>\n",
       "    </tr>\n",
       "  </thead>\n",
       "  <tbody>\n",
       "  </tbody>\n",
       "</table>\n",
       "</div>"
      ],
      "text/plain": [
       "Empty DataFrame\n",
       "Columns: [title, puNumber, show_start_date, type, film_studio, production_country, director, producer, age_restriction, refundable_support, nonrefundable_support, budget, financing_source, ratings, genres, box_office]\n",
       "Index: []"
      ]
     },
     "execution_count": 41,
     "metadata": {},
     "output_type": "execute_result"
    }
   ],
   "source": [
    "data_movies.loc[data_movies['puNumber'].duplicated(keep=False)]"
   ]
  },
  {
   "cell_type": "markdown",
   "id": "04f04aad",
   "metadata": {},
   "source": [
    "Касаемо столбца show_start_date (дата премьеры фильма) можно предположить что фильмы начинали показывать в одну и туже дату. "
   ]
  },
  {
   "cell_type": "markdown",
   "id": "9823a630",
   "metadata": {},
   "source": [
    " #### Категориальные значения"
   ]
  },
  {
   "cell_type": "markdown",
   "id": "27f7dd71",
   "metadata": {},
   "source": [
    "Категориальные значения находятся в столбцах: type (тип фильма), age_restriction (возрастная категория), genres (жанр фильма), financing_source (источник государственного финансирования). Проверим уникальные значения каждого столбца. "
   ]
  },
  {
   "cell_type": "code",
   "execution_count": 42,
   "id": "8136fd4f",
   "metadata": {},
   "outputs": [
    {
     "data": {
      "text/plain": [
       "array(['Художественный', ' Художественный', 'Научно-популярный',\n",
       "       'Анимационный', 'Документальный', ' Анимационный', 'Прочие',\n",
       "       'Музыкально-развлекательный'], dtype=object)"
      ]
     },
     "execution_count": 42,
     "metadata": {},
     "output_type": "execute_result"
    }
   ],
   "source": [
    "data_movies['type'].unique()"
   ]
  },
  {
   "cell_type": "markdown",
   "id": "9d9f7aa2",
   "metadata": {},
   "source": [
    "Встречаются одинаковые типы, но с разным написанием, есть лишние пробелы. Удалим их."
   ]
  },
  {
   "cell_type": "code",
   "execution_count": 43,
   "id": "d49634ad",
   "metadata": {},
   "outputs": [],
   "source": [
    "data_movies['type'] = data_movies['type'].str.strip()"
   ]
  },
  {
   "cell_type": "code",
   "execution_count": 44,
   "id": "b71c63b6",
   "metadata": {
    "scrolled": true
   },
   "outputs": [
    {
     "data": {
      "text/plain": [
       "array(['Художественный', 'Научно-популярный', 'Анимационный',\n",
       "       'Документальный', 'Прочие', 'Музыкально-развлекательный'],\n",
       "      dtype=object)"
      ]
     },
     "execution_count": 44,
     "metadata": {},
     "output_type": "execute_result"
    }
   ],
   "source": [
    "data_movies['type'].unique()"
   ]
  },
  {
   "cell_type": "code",
   "execution_count": 45,
   "id": "1901c63e",
   "metadata": {
    "scrolled": true
   },
   "outputs": [
    {
     "data": {
      "text/plain": [
       "array(['«0+» - для любой зрительской аудитории',\n",
       "       '«16+» - для детей старше 16 лет',\n",
       "       '«12+» - для детей старше 12 лет', '«18+» - запрещено для детей',\n",
       "       '«6+» - для детей старше 6 лет'], dtype=object)"
      ]
     },
     "execution_count": 45,
     "metadata": {},
     "output_type": "execute_result"
    }
   ],
   "source": [
    "data_movies['age_restriction'].unique()"
   ]
  },
  {
   "cell_type": "markdown",
   "id": "02c8cbae",
   "metadata": {},
   "source": [
    "В этом столбце исправлять нечего."
   ]
  },
  {
   "cell_type": "code",
   "execution_count": 46,
   "id": "89b6d2b2",
   "metadata": {
    "scrolled": true
   },
   "outputs": [
    {
     "data": {
      "text/plain": [
       "array(['мелодрама,комедия', 'комедия,военный', 'детектив',\n",
       "       'детский,комедия', 'ужасы,фантастика', 'биография,история',\n",
       "       'детский,семейный', 'комедия,мелодрама', 'драма', 'комедия',\n",
       "       'триллер', 'ужасы,комедия,фэнтези', 'драма,криминал,детектив',\n",
       "       'фантастика,боевик,драма', 'боевик,мелодрама',\n",
       "       'фэнтези,боевик,триллер', 'драма,криминал',\n",
       "       'драма,комедия,мелодрама', 'Без жанра', 'мелодрама',\n",
       "       'фантастика,драма', 'драма,история', 'спорт,драма',\n",
       "       'боевик,фэнтези,драма', 'военный,боевик,драма', 'история',\n",
       "       'триллер,драма', 'мюзикл,боевик,драма', 'ужасы,боевик',\n",
       "       'комедия,семейный', 'комедия,приключения',\n",
       "       'детектив,фэнтези,триллер', 'фэнтези,драма,детектив',\n",
       "       'приключения', 'фантастика,мелодрама,комедия', 'драма,военный',\n",
       "       'драма,мелодрама', 'мелодрама,комедия,музыка', 'комедия,детектив',\n",
       "       'детский,фэнтези', 'триллер,драма,детектив', 'история,мелодрама',\n",
       "       'драма,военный,история', 'фантастика,фэнтези,боевик',\n",
       "       'детский,приключения,фантастика', 'драма,музыка', 'военный',\n",
       "       'драма,семейный', 'ужасы,фэнтези,боевик', 'драма,комедия',\n",
       "       'военный,драма,история', 'комедия,криминал',\n",
       "       'документальный,фантастика', 'ужасы,драма',\n",
       "       'аниме,мультфильм,ужасы', 'триллер,ужасы', 'комедия,фантастика',\n",
       "       'мультфильм,фантастика,комедия', 'мелодрама,комедия,семейный',\n",
       "       'ужасы,триллер,комедия', 'фантастика,боевик,приключения',\n",
       "       'боевик,драма', 'драма,биография,история',\n",
       "       'мелодрама,комедия,криминал', 'приключения,триллер,биография',\n",
       "       'детектив,приключения,драма', 'криминал,драма,триллер',\n",
       "       'драма,мелодрама,биография', 'биография,военный,драма', 'ужасы',\n",
       "       'ужасы,триллер', 'драма,детектив', 'боевик,драма,криминал',\n",
       "       'семейный,приключения', 'фэнтези,комедия,семейный',\n",
       "       'военный,детектив', 'аниме,мультфильм,фэнтези',\n",
       "       'комедия,мелодрама,фэнтези', 'драма,мелодрама,детектив',\n",
       "       'триллер,боевик,приключения', 'драма,криминал,биография',\n",
       "       'триллер,драма,приключения', 'комедия,приключения,семейный',\n",
       "       'фантастика,комедия', 'мелодрама,драма,комедия', 'драма,боевик',\n",
       "       'комедия,спорт', 'семейный,комедия', 'ужасы,фантастика,триллер',\n",
       "       'триллер,драма,мелодрама', 'драма,спорт', 'драма,комедия,семейный',\n",
       "       'фэнтези,приключения,драма', 'ужасы,драма,триллер',\n",
       "       'триллер,драма,криминал', 'драма,мелодрама,военный',\n",
       "       'боевик,приключения', 'комедия,криминал,семейный',\n",
       "       'ужасы,триллер,детектив', 'история,драма', 'семейный',\n",
       "       'боевик,триллер,приключения', 'триллер,детектив,ужасы',\n",
       "       'триллер,драма,фантастика', 'приключения,история,военный',\n",
       "       'фантастика,драма,комедия', 'приключения,фантастика',\n",
       "       'криминал,боевик,триллер', 'драма,мелодрама,комедия',\n",
       "       'вестерн,криминал,триллер', 'документальный', 'мелодрама,драма',\n",
       "       'короткометражка', 'детектив,мелодрама',\n",
       "       'короткометражка,драма,военный', 'драма,мелодрама,приключения',\n",
       "       'боевик,триллер', 'боевик,драма,военный', 'короткометражка,драма',\n",
       "       'ужасы,триллер,фантастика', 'приключения,боевик',\n",
       "       'драма,мелодрама,криминал', 'триллер,криминал',\n",
       "       'детектив,история,драма', 'фэнтези,приключения',\n",
       "       'фантастика,боевик,комедия', 'фэнтези,комедия,приключения',\n",
       "       'детектив,драма,криминал', 'фантастика,триллер,драма',\n",
       "       'комедия,драма', 'боевик,фантастика,приключения', 'военный,драма',\n",
       "       'мультфильм,фэнтези,комедия', 'фэнтези,мелодрама,комедия',\n",
       "       'мелодрама,биография', 'биография,драма,история',\n",
       "       'детектив,триллер,криминал', 'драма,триллер,биография',\n",
       "       'комедия,криминал,детектив', 'криминал,комедия',\n",
       "       'боевик,военный,драма', 'боевик,комедия,криминал', 'фантастика',\n",
       "       'военный,драма,боевик', 'детский,приключения,семейный',\n",
       "       'драма,биография', 'боевик', 'драма,детектив,криминал',\n",
       "       'драма,триллер', 'комедия,семейный,фантастика',\n",
       "       'семейный,приключения,комедия', 'драма,вестерн',\n",
       "       'приключения,семейный', 'фэнтези,комедия',\n",
       "       'история,биография,драма', 'боевик,мелодрама,комедия',\n",
       "       'детский,мелодрама,семейный', 'мультфильм,ужасы,фантастика',\n",
       "       'история,детектив', 'боевик,комедия', 'мелодрама,музыка',\n",
       "       'приключения,детский', 'семейный,мелодрама',\n",
       "       'драма,триллер,приключения', 'фэнтези,боевик,приключения',\n",
       "       'драма,комедия,криминал', 'драма,мелодрама,история',\n",
       "       'мелодрама,фэнтези,триллер', 'комедия,фэнтези',\n",
       "       'комедия,триллер,драма', 'боевик,криминал',\n",
       "       'мультфильм,короткометражка,детский', 'фэнтези,боевик',\n",
       "       'боевик,триллер,криминал', 'семейный,фэнтези,комедия',\n",
       "       'триллер,драма,комедия', 'комедия,приключения,история',\n",
       "       'боевик,фантастика', 'мелодрама,семейный',\n",
       "       'фантастика,комедия,приключения', 'боевик,триллер,комедия',\n",
       "       'боевик,триллер,драма', 'биография,музыка,драма',\n",
       "       'драма,боевик,история', 'документальный,драма',\n",
       "       'комедия,приключения,мелодрама', 'детский,фэнтези,приключения',\n",
       "       'мультфильм,фантастика,фэнтези', 'боевик,история',\n",
       "       'мюзикл,драма,мелодрама', 'приключения,история',\n",
       "       'история,приключения', 'фэнтези,драма,комедия',\n",
       "       'боевик,драма,история', 'драма,приключения,триллер',\n",
       "       'спорт,драма,биография', 'комедия,фэнтези,приключения',\n",
       "       'драма,спорт,биография', 'фэнтези,семейный',\n",
       "       'комедия,мелодрама,криминал', 'триллер,детектив',\n",
       "       'приключения,детектив,семейный', 'фэнтези,драма,фильм-нуар',\n",
       "       'драма,комедия,приключения', 'боевик,драма,мелодрама',\n",
       "       'криминал,комедия,боевик', 'фантастика,фэнтези,драма',\n",
       "       'история,боевик,фэнтези', 'фэнтези,ужасы', 'мелодрама,криминал',\n",
       "       'криминал,детектив', 'драма,военный,триллер',\n",
       "       'фантастика,триллер,детектив', 'триллер,мелодрама',\n",
       "       'ужасы,фэнтези,комедия', 'короткометражка,комедия,криминал',\n",
       "       'детектив,мелодрама,фэнтези', 'криминал',\n",
       "       'семейный,детектив,детский', 'фэнтези,драма',\n",
       "       'драма,история,биография', 'мелодрама,комедия,драма', 'биография',\n",
       "       'приключения,драма,фантастика', 'ужасы,детектив',\n",
       "       'драма,комедия,военный', 'детектив,криминал',\n",
       "       'триллер,мелодрама,криминал', 'мелодрама,комедия,триллер',\n",
       "       'комедия,история', 'мультфильм,драма', 'детский',\n",
       "       'комедия,приключения,спорт', 'триллер,приключения',\n",
       "       'фэнтези,триллер,приключения', 'мюзикл,мелодрама',\n",
       "       'драма,военный,биография', 'аниме,мультфильм,фантастика',\n",
       "       'драма,детектив,история', 'мюзикл,семейный', 'комедия,триллер',\n",
       "       'мюзикл,комедия,детский', 'биография,спорт,история',\n",
       "       'драма,комедия,триллер', 'военный,приключения,драма',\n",
       "       'криминал,детектив,приключения', 'драма,комедия,вестерн',\n",
       "       'ужасы,драма,вестерн', 'приключения,фэнтези',\n",
       "       'фэнтези,драма,мелодрама', 'драма,фантастика',\n",
       "       'ужасы,фэнтези,драма', 'драма,биография,музыка', 'мюзикл,комедия',\n",
       "       'семейный,приключения,военный', 'фэнтези,боевик,драма',\n",
       "       'фэнтези,приключения,боевик', 'ужасы,фантастика,фэнтези',\n",
       "       'короткометражка,музыка', 'аниме,мультфильм,боевик', 'фэнтези',\n",
       "       'биография,драма', 'детектив,драма,триллер',\n",
       "       'военный,история,драма', 'боевик,триллер,мелодрама',\n",
       "       'триллер,военный', 'фантастика,детектив,фэнтези',\n",
       "       'мультфильм,мюзикл,фэнтези', 'триллер,приключения,драма',\n",
       "       'комедия,драма,криминал', 'фантастика,приключения,военный',\n",
       "       'драма,спорт,комедия', 'триллер,детектив,криминал',\n",
       "       'комедия,фантастика,мелодрама', 'детектив,приключения,триллер',\n",
       "       'ужасы,драма,военный', 'реальное ТВ', 'мультфильм,фэнтези,боевик',\n",
       "       'комедия,криминал,история', 'приключения,фэнтези,семейный',\n",
       "       'приключения,военный', 'семейный,фэнтези',\n",
       "       'мультфильм,короткометражка,мюзикл',\n",
       "       'мультфильм,приключения,семейный', 'аниме,мультфильм,мелодрама',\n",
       "       'мюзикл,фэнтези,мелодрама', 'документальный,музыка',\n",
       "       'приключения,детский,комедия', 'триллер,боевик',\n",
       "       'приключения,триллер', 'мелодрама,приключения',\n",
       "       'спорт,мелодрама,криминал', 'комедия,мультфильм,фантастика',\n",
       "       'мелодрама,военный,драма', 'комедия,приключения,криминал',\n",
       "       'боевик,военный', 'фэнтези,боевик,семейный',\n",
       "       'боевик,приключения,история', 'фантастика,боевик,триллер',\n",
       "       'ужасы,триллер,драма', 'драма,военный,приключения',\n",
       "       'приключения,биография,драма', 'комедия,музыка',\n",
       "       'фантастика,комедия,боевик', 'комедия,драма,короткометражка',\n",
       "       'триллер,фантастика,боевик', 'ужасы,комедия',\n",
       "       'история,драма,боевик', 'мюзикл,фэнтези,комедия',\n",
       "       'драма,боевик,криминал', 'биография,спорт,драма',\n",
       "       'комедия,драма,военный', 'боевик,драма,приключения',\n",
       "       'триллер,фэнтези', 'драма,мелодрама,триллер',\n",
       "       'мультфильм,короткометражка,мелодрама', 'мелодрама,детектив',\n",
       "       'боевик,драма,триллер', 'приключения,фантастика,драма',\n",
       "       'комедия,семейный,приключения', 'драма,мелодрама,музыка',\n",
       "       'криминал,драма', 'мюзикл,комедия,мелодрама',\n",
       "       'драма,криминал,приключения', 'приключения,детектив,мелодрама',\n",
       "       'мюзикл,фэнтези,семейный', 'триллер,фантастика,драма',\n",
       "       'мелодрама,комедия,спорт', 'ужасы,фантастика,мелодрама',\n",
       "       'военный,история', 'драма,триллер,детектив', 'детектив,комедия',\n",
       "       'фантастика,боевик', 'история,биография,военный',\n",
       "       'криминал,мелодрама', 'семейный,комедия,драма',\n",
       "       'триллер,ужасы,мелодрама', 'триллер,драма,военный',\n",
       "       'драма,комедия,ужасы', 'драма,военный,боевик',\n",
       "       'драма,история,военный', 'комедия,криминал,приключения',\n",
       "       'мелодрама,история', 'мюзикл,мелодрама,комедия',\n",
       "       'документальный,приключения', 'документальный,военный,история',\n",
       "       'документальный,музыка,биография', 'короткометражка,биография',\n",
       "       'боевик,военный,история', 'драма,приключения',\n",
       "       'фантастика,фэнтези,приключения', 'документальный,биография',\n",
       "       'ужасы,фантастика,боевик', 'документальный,биография,музыка',\n",
       "       'боевик,приключения,детектив', 'мультфильм,фэнтези,мелодрама',\n",
       "       'ужасы,боевик,триллер', 'документальный,драма,комедия',\n",
       "       'ужасы,фэнтези,триллер', 'документальный,история',\n",
       "       'ужасы,фантастика,драма', 'документальный,драма,история',\n",
       "       'триллер,криминал,детектив', 'мелодрама,семейный,приключения',\n",
       "       'триллер,мелодрама,комедия', 'фантастика,драма,криминал',\n",
       "       'фэнтези,драма,приключения', 'комедия,криминал,драма',\n",
       "       'документальный,семейный,музыка', 'биография,драма,военный',\n",
       "       'документальный,военный,драма', 'биография,документальный',\n",
       "       'мультфильм,комедия', 'мультфильм,комедия,семейный',\n",
       "       'короткометражка,мультфильм', 'мультфильм,фэнтези,история',\n",
       "       'мультфильм,детский', 'детский,приключения,комедия',\n",
       "       'мультфильм,приключения', 'мультфильм,фэнтези,приключения',\n",
       "       'мультфильм,семейный,комедия', 'мультфильм,комедия,приключения',\n",
       "       'мультфильм,короткометражка', 'мультфильм,мюзикл,детский',\n",
       "       'мультфильм,фэнтези', 'мультфильм',\n",
       "       'мультфильм,приключения,детский', 'мультфильм,ужасы,комедия',\n",
       "       'фантастика,боевик,военный', 'мультфильм,приключения,фэнтези',\n",
       "       'мультфильм,фэнтези,семейный', 'мультфильм,приключения,фантастика',\n",
       "       'мультфильм,приключения,комедия',\n",
       "       'мультфильм,приключения,детектив',\n",
       "       'мультфильм,приключения,военный', 'мультфильм,детский,комедия',\n",
       "       'мультфильм,фэнтези,детский', 'мультфильм,ужасы,фэнтези',\n",
       "       'история,криминал', 'короткометражка,драма,триллер',\n",
       "       'мультфильм,детский,приключения', 'мультфильм,детский,семейный',\n",
       "       'триллер,криминал,драма', 'триллер,криминал,боевик',\n",
       "       'боевик,фэнтези', 'драма,комедия,биография',\n",
       "       'боевик,комедия,семейный', 'триллер,мелодрама,детектив',\n",
       "       'фэнтези,приключения,комедия', 'триллер,биография,драма',\n",
       "       'ужасы,драма,комедия', 'военный,драма,комедия',\n",
       "       'фэнтези,триллер,драма', 'фэнтези,приключения,семейный',\n",
       "       'драма,мелодрама,семейный', 'комедия,мелодрама,драма',\n",
       "       'ужасы,драма,мелодрама', 'драма,биография,спорт',\n",
       "       'триллер,криминал,комедия', 'драма,комедия,история',\n",
       "       'боевик,комедия,приключения', 'детектив,криминал,триллер',\n",
       "       'боевик,триллер,детектив', 'драма,история,детектив',\n",
       "       'фэнтези,боевик,военный', 'ужасы,боевик,фантастика',\n",
       "       'фантастика,триллер,мелодрама', 'комедия,приключения,детектив',\n",
       "       'драма,приключения,история', 'триллер,детектив,драма',\n",
       "       'биография,мелодрама,драма', 'биография,история,драма',\n",
       "       'фантастика,мелодрама,фэнтези', 'ужасы,фантастика,детектив',\n",
       "       'драма,комедия,детектив', 'триллер,драма,история',\n",
       "       'фантастика,триллер', 'ужасы,фэнтези',\n",
       "       'мелодрама,фантастика,драма', 'детектив,триллер,боевик',\n",
       "       'драма,детектив,приключения', 'драма,приключения,фэнтези',\n",
       "       'драма,комедия,спорт', 'боевик,криминал,триллер',\n",
       "       'комедия,биография', 'мюзикл,семейный,драма',\n",
       "       'боевик,драма,вестерн', 'приключения,фантастика,семейный',\n",
       "       'фантастика,боевик,фэнтези', 'фэнтези,боевик,комедия',\n",
       "       'ужасы,фэнтези,детектив', 'фантастика,детектив,боевик',\n",
       "       'фантастика,комедия,детектив', 'боевик,драма,комедия',\n",
       "       'фантастика,драма,мелодрама', 'боевик,криминал,драма',\n",
       "       'драма,фантастика,ужасы', 'фэнтези,семейный,приключения',\n",
       "       'драма,приключения,семейный', 'мелодрама,история,триллер',\n",
       "       'фэнтези,мелодрама,драма', 'приключения,биография,история',\n",
       "       'фантастика,драма,триллер', 'драма,боевик,приключения',\n",
       "       'фэнтези,ужасы,триллер', 'ужасы,комедия,музыка',\n",
       "       'ужасы,триллер,приключения', 'триллер,комедия',\n",
       "       'фантастика,приключения,боевик', 'комедия,ужасы',\n",
       "       'драма,мелодрама,фэнтези', 'триллер,ужасы,детектив',\n",
       "       'фэнтези,семейный,мелодрама', 'фэнтези,мелодрама',\n",
       "       'фантастика,триллер,комедия', 'драма,мультфильм',\n",
       "       'комедия,история,драма', 'фэнтези,комедия,детектив',\n",
       "       'комедия,криминал,спорт', 'ужасы,триллер,криминал',\n",
       "       'триллер,драма,биография', 'мюзикл,комедия,приключения',\n",
       "       'боевик,вестерн,приключения', 'фантастика,триллер,криминал',\n",
       "       'фантастика,триллер,приключения', 'фэнтези,комедия,драма',\n",
       "       'детектив,триллер,ужасы', 'история,спорт,драма',\n",
       "       'для взрослых,драма,мелодрама', 'драма,комедия,музыка',\n",
       "       'комедия,биография,история', 'фэнтези,триллер,детектив',\n",
       "       'криминал,комедия,триллер', 'приключения,драма',\n",
       "       'комедия,приключения,музыка', 'ужасы,драма,детектив',\n",
       "       'мелодрама,комедия,приключения', 'триллер,комедия,криминал',\n",
       "       'фантастика,приключения,семейный',\n",
       "       'аниме,мультфильм,короткометражка', 'триллер,боевик,криминал',\n",
       "       'комедия,драма,семейный', 'приключения,мелодрама,детектив',\n",
       "       'фэнтези,мелодрама,приключения', 'криминал,триллер,драма',\n",
       "       'фэнтези,триллер,мелодрама', 'драма,ужасы',\n",
       "       'фантастика,приключения,детектив', 'комедия,вестерн',\n",
       "       'фэнтези,боевик,детектив', 'короткометражка,мелодрама',\n",
       "       'биография,криминал,триллер', 'комедия,драма,мелодрама',\n",
       "       'триллер,ужасы,драма', 'комедия,боевик,криминал',\n",
       "       'вестерн,биография,драма', 'комедия,музыка,драма',\n",
       "       'биография,драма,криминал', 'фантастика,фэнтези,детектив',\n",
       "       'мелодрама,детектив,комедия', 'боевик,приключения,триллер',\n",
       "       'ужасы,фэнтези,мелодрама', 'фантастика,драма,приключения',\n",
       "       'военный,биография,драма', 'драма,спорт,семейный',\n",
       "       'мультфильм,фантастика,боевик', 'детектив,триллер,драма',\n",
       "       'комедия,приключения,вестерн', 'ужасы,боевик,комедия',\n",
       "       'биография,музыка,мюзикл', 'фэнтези,боевик,мелодрама',\n",
       "       'драма,фэнтези', 'приключения,боевик,триллер',\n",
       "       'мелодрама,драма,фэнтези', 'ужасы,комедия,семейный',\n",
       "       'комедия,фантастика,боевик', 'детектив,ужасы,криминал',\n",
       "       'спорт,драма,комедия', 'комедия,фэнтези,криминал',\n",
       "       'фантастика,мелодрама', 'комедия,боевик,приключения',\n",
       "       'фэнтези,драма,биография', 'аниме,мультфильм,комедия',\n",
       "       'комедия,криминал,боевик', 'боевик,детектив',\n",
       "       'ужасы,комедия,боевик', 'мелодрама,приключения,боевик',\n",
       "       'ужасы,приключения', 'боевик,фантастика,триллер',\n",
       "       'фэнтези,драма,семейный', 'вестерн,приключения,боевик',\n",
       "       'драма,криминал,спорт', 'мелодрама,комедия,ужасы',\n",
       "       'фантастика,драма,боевик', 'боевик,драма,биография',\n",
       "       'фантастика,приключения', 'драма,криминал,семейный',\n",
       "       'фантастика,боевик,семейный', 'фэнтези,боевик,ужасы',\n",
       "       'документальный,биография,история', 'детектив,фантастика,криминал',\n",
       "       'фантастика,приключения,драма', 'ужасы,комедия,фантастика',\n",
       "       'драма,фэнтези,история', 'фантастика,мелодрама,боевик',\n",
       "       'комедия,фэнтези,ужасы', 'боевик,спорт,драма',\n",
       "       'триллер,ужасы,криминал', 'фильм-нуар,триллер,детектив',\n",
       "       'фэнтези,комедия,криминал', 'мультфильм,боевик,детектив',\n",
       "       'ужасы,комедия,детектив', 'драма,криминал,фантастика',\n",
       "       'ужасы,боевик,фэнтези', 'триллер,криминал,приключения',\n",
       "       'ужасы,триллер,мелодрама', 'фантастика,боевик,ужасы',\n",
       "       'фантастика,драма,ужасы', 'драма,вестерн,боевик',\n",
       "       'криминал,драма,комедия', 'история,драма,мелодрама',\n",
       "       'фантастика,фэнтези,комедия', 'документальный,комедия',\n",
       "       'фэнтези,боевик,вестерн', 'ужасы,комедия,драма',\n",
       "       'фантастика,боевик,криминал', 'драма,криминал,боевик',\n",
       "       'детектив,криминал,драма', 'мелодрама,музыка,драма',\n",
       "       'триллер,мелодрама,драма', 'мелодрама,триллер,история',\n",
       "       'криминал,комедия,драма', 'ужасы,фэнтези,приключения',\n",
       "       'боевик,триллер,фэнтези', 'комедия,военный,музыка',\n",
       "       'детектив,фантастика,триллер', 'драма,биография,комедия',\n",
       "       'драма,семейный,комедия', 'комедия,детектив,приключения',\n",
       "       'детектив,триллер', 'семейный,комедия,музыка',\n",
       "       'фэнтези,драма,ужасы', 'ужасы,комедия,криминал', 'мюзикл,драма',\n",
       "       'детектив,фильм-нуар,комедия', 'драма,вестерн,приключения',\n",
       "       'драма,фантастика,триллер', 'комедия,криминал,триллер',\n",
       "       'драма,криминал,история', 'триллер,комедия,ужасы',\n",
       "       'драма,приключения,военный', 'детектив,криминал,боевик',\n",
       "       'ужасы,комедия,приключения', 'приключения,семейный,драма',\n",
       "       'музыка,мелодрама,фэнтези', 'аниме,мультфильм,драма',\n",
       "       'вестерн,драма,триллер', 'комедия,криминал,биография',\n",
       "       'драма,биография,мюзикл', 'приключения,вестерн,боевик',\n",
       "       'комедия,приключения,фэнтези', 'драма,криминал,вестерн',\n",
       "       'комедия,семейный,фэнтези', 'ужасы,мелодрама,детектив',\n",
       "       'боевик,приключения,семейный', 'биография,криминал,драма',\n",
       "       'ужасы,фантастика,комедия', 'семейный,мультфильм,комедия',\n",
       "       'драма,история,триллер', 'мюзикл,фэнтези,драма',\n",
       "       'биография,спорт,комедия', 'комедия,боевик,фантастика',\n",
       "       'комедия,драма,биография', 'комедия,мелодрама,фантастика',\n",
       "       'мелодрама,драма,музыка', 'драма,спорт,история',\n",
       "       'криминал,боевик,комедия', 'триллер,драма,ужасы',\n",
       "       'детектив,комедия,драма', 'драма,комедия,мультфильм',\n",
       "       'триллер,драма,боевик', 'криминал,боевик',\n",
       "       'драма,триллер,криминал', 'фантастика,фэнтези,триллер',\n",
       "       'приключения,история,драма', 'ужасы,мелодрама,комедия',\n",
       "       'криминал,биография,комедия', 'вестерн,боевик,драма',\n",
       "       'мультфильм,мюзикл,комедия', 'военный,боевик,история',\n",
       "       'драма,криминал,фильм-нуар', 'мультфильм,мюзикл,драма',\n",
       "       'мелодрама,история,драма',\n",
       "       'документальный,короткометражка,семейный',\n",
       "       'документальный,комедия,криминал',\n",
       "       'документальный,короткометражка', 'документальный,семейный',\n",
       "       'документальный,ужасы,боевик', 'документальный,драма,семейный',\n",
       "       'мультфильм,мелодрама,комедия', 'аниме,мультфильм,приключения',\n",
       "       'мультфильм,комедия,детский', 'мультфильм,комедия,криминал',\n",
       "       'мультфильм,семейный', 'мультфильм,боевик,приключения',\n",
       "       'мультфильм,приключения,драма', 'драма,семейный,биография',\n",
       "       'мультфильм,фантастика,приключения', 'мультфильм,фэнтези,драма',\n",
       "       'мультфильм,короткометражка,ужасы', 'фантастика,мультфильм,драма',\n",
       "       'мультфильм,боевик,триллер', 'мультфильм,семейный,драма',\n",
       "       'мультфильм,семейный,детский', 'мультфильм,мелодрама,драма',\n",
       "       'мультфильм,семейный,фэнтези', 'мультфильм,семейный,спорт',\n",
       "       'детский,мультфильм,приключения', 'аниме,мультфильм',\n",
       "       'мультфильм,короткометражка,комедия', 'мультфильм,боевик,комедия',\n",
       "       'мультфильм,драма,приключения', 'мультфильм,биография,драма',\n",
       "       'мультфильм,короткометражка,фэнтези', 'мультфильм,драма,комедия',\n",
       "       'аниме,мультфильм,детектив', 'мультфильм,история',\n",
       "       'мультфильм,комедия,фантастика',\n",
       "       'мультфильм,мелодрама,приключения', 'концерт,музыка',\n",
       "       'музыка,концерт', 'документальный,фэнтези',\n",
       "       'документальный,драма,биография', 'семейный,документальный',\n",
       "       'документальный,мюзикл', 'мюзикл,комедия,музыка',\n",
       "       'драма,история,музыка', 'документальный,спорт,биография',\n",
       "       'для взрослых,драма,комедия', 'документальный,музыка,концерт',\n",
       "       'документальный,криминал,военный', 'музыка,концерт,документальный',\n",
       "       'документальный,спорт', 'мюзикл',\n",
       "       'документальный,триллер,биография',\n",
       "       'документальный,комедия,история', 'концерт,музыка,документальный',\n",
       "       'документальный,приключения,семейный', 'комедия,фэнтези,мелодрама',\n",
       "       'документальный,ужасы', 'музыка,приключения,концерт',\n",
       "       'документальный,новости,драма',\n",
       "       'семейный,приключения,документальный',\n",
       "       'документальный,фэнтези,семейный',\n",
       "       'документальный,биография,спорт',\n",
       "       'документальный,боевик,приключения',\n",
       "       'документальный,фэнтези,драма', 'драма,приключения,биография',\n",
       "       'фантастика,боевик,детектив', 'боевик,криминал,детектив',\n",
       "       'детектив,боевик,история', 'драма,комедия,фантастика',\n",
       "       'приключения,комедия,фэнтези', 'мюзикл,ужасы,триллер',\n",
       "       'мюзикл,мелодрама,фэнтези', 'фантастика,драма,детектив',\n",
       "       'семейный,спорт,боевик', 'комедия,семейный,музыка',\n",
       "       'короткометражка,боевик,драма', 'боевик,история,драма',\n",
       "       'драма,спорт,боевик', 'документальный,драма,музыка',\n",
       "       'фантастика,триллер,боевик', 'ужасы,боевик,криминал',\n",
       "       'фантастика,боевик,мелодрама', 'триллер,фэнтези,драма',\n",
       "       'мелодрама,драма,боевик', 'драма,приключения,мелодрама',\n",
       "       'фэнтези,боевик,криминал', 'фантастика,комедия,семейный',\n",
       "       'мультфильм,фэнтези,триллер', 'мультфильм,мюзикл,мелодрама'],\n",
       "      dtype=object)"
      ]
     },
     "execution_count": 46,
     "metadata": {},
     "output_type": "execute_result"
    }
   ],
   "source": [
    "data_movies['genres'].unique()"
   ]
  },
  {
   "cell_type": "code",
   "execution_count": 47,
   "id": "1a88ad56",
   "metadata": {},
   "outputs": [
    {
     "data": {
      "text/plain": [
       "742"
      ]
     },
     "execution_count": 47,
     "metadata": {},
     "output_type": "execute_result"
    }
   ],
   "source": [
    "data_movies['genres'].nunique()"
   ]
  },
  {
   "cell_type": "markdown",
   "id": "b426f137",
   "metadata": {},
   "source": [
    "В столбце слишком много жанров, часть из которых вариация из нескольких жанров. Выделим в строке первый жанр как основной в отдельную ячейку. Напишем для этого функцию для создания и заполнения столбца данными, которые выделим из \"genres\", данные будут браться до первой запятой."
   ]
  },
  {
   "cell_type": "code",
   "execution_count": 48,
   "id": "1763d3d1",
   "metadata": {},
   "outputs": [],
   "source": [
    "def basic_genres(data_movies, genres):# (датафрейм, [столбец из которых извлекаются данные])\n",
    "    for column in genres:\n",
    "        data_movies[f'main_{column}'] = data_movies[column].str.split(',').str[0]\n",
    "    return data_movies"
   ]
  },
  {
   "cell_type": "code",
   "execution_count": 49,
   "id": "52602c4b",
   "metadata": {},
   "outputs": [],
   "source": [
    "data_movies = basic_genres(data_movies, ['genres'])"
   ]
  },
  {
   "cell_type": "code",
   "execution_count": 50,
   "id": "b64c626c",
   "metadata": {},
   "outputs": [
    {
     "data": {
      "text/plain": [
       "29"
      ]
     },
     "execution_count": 50,
     "metadata": {},
     "output_type": "execute_result"
    }
   ],
   "source": [
    "data_movies['main_genres'].nunique()"
   ]
  },
  {
   "cell_type": "code",
   "execution_count": 51,
   "id": "250344a5",
   "metadata": {
    "scrolled": true
   },
   "outputs": [
    {
     "data": {
      "text/plain": [
       "array(['мелодрама', 'комедия', 'детектив', 'детский', 'ужасы',\n",
       "       'биография', 'драма', 'триллер', 'фантастика', 'боевик', 'фэнтези',\n",
       "       'Без жанра', 'спорт', 'военный', 'история', 'мюзикл',\n",
       "       'приключения', 'документальный', 'аниме', 'мультфильм', 'криминал',\n",
       "       'семейный', 'вестерн', 'короткометражка', 'реальное ТВ',\n",
       "       'для взрослых', 'фильм-нуар', 'музыка', 'концерт'], dtype=object)"
      ]
     },
     "execution_count": 51,
     "metadata": {},
     "output_type": "execute_result"
    }
   ],
   "source": [
    "data_movies['main_genres'].unique()"
   ]
  },
  {
   "cell_type": "code",
   "execution_count": 52,
   "id": "9fc556d9",
   "metadata": {
    "scrolled": true
   },
   "outputs": [
    {
     "data": {
      "text/plain": [
       "array([nan, 'Министерство культуры', 'Фонд кино',\n",
       "       'Министерство культуры, Фонд кино'], dtype=object)"
      ]
     },
     "execution_count": 52,
     "metadata": {},
     "output_type": "execute_result"
    }
   ],
   "source": [
    "data_movies['financing_source'].unique()"
   ]
  },
  {
   "cell_type": "markdown",
   "id": "3ab415a5",
   "metadata": {},
   "source": [
    "Общая проблема, которая встречается почти во всех категориальных столбцах, это лишние знаки и пробелы."
   ]
  },
  {
   "cell_type": "markdown",
   "id": "5f4d0f1c",
   "metadata": {},
   "source": [
    "#### Количественные значения"
   ]
  },
  {
   "cell_type": "code",
   "execution_count": 53,
   "id": "38a1f0dd",
   "metadata": {},
   "outputs": [
    {
     "data": {
      "text/html": [
       "<div>\n",
       "<style scoped>\n",
       "    .dataframe tbody tr th:only-of-type {\n",
       "        vertical-align: middle;\n",
       "    }\n",
       "\n",
       "    .dataframe tbody tr th {\n",
       "        vertical-align: top;\n",
       "    }\n",
       "\n",
       "    .dataframe thead th {\n",
       "        text-align: right;\n",
       "    }\n",
       "</style>\n",
       "<table border=\"1\" class=\"dataframe\">\n",
       "  <thead>\n",
       "    <tr style=\"text-align: right;\">\n",
       "      <th></th>\n",
       "      <th>refundable_support</th>\n",
       "      <th>nonrefundable_support</th>\n",
       "      <th>budget</th>\n",
       "      <th>box_office</th>\n",
       "      <th>ratings</th>\n",
       "    </tr>\n",
       "  </thead>\n",
       "  <tbody>\n",
       "    <tr>\n",
       "      <th>count</th>\n",
       "      <td>3.320000e+02</td>\n",
       "      <td>3.320000e+02</td>\n",
       "      <td>3.320000e+02</td>\n",
       "      <td>3.155000e+03</td>\n",
       "      <td>6511.000000</td>\n",
       "    </tr>\n",
       "    <tr>\n",
       "      <th>mean</th>\n",
       "      <td>1.186446e+07</td>\n",
       "      <td>4.898099e+07</td>\n",
       "      <td>1.272297e+08</td>\n",
       "      <td>7.655133e+07</td>\n",
       "      <td>6.487851</td>\n",
       "    </tr>\n",
       "    <tr>\n",
       "      <th>std</th>\n",
       "      <td>2.491656e+07</td>\n",
       "      <td>5.998012e+07</td>\n",
       "      <td>1.885883e+08</td>\n",
       "      <td>2.404559e+08</td>\n",
       "      <td>1.114516</td>\n",
       "    </tr>\n",
       "    <tr>\n",
       "      <th>min</th>\n",
       "      <td>0.000000e+00</td>\n",
       "      <td>0.000000e+00</td>\n",
       "      <td>0.000000e+00</td>\n",
       "      <td>0.000000e+00</td>\n",
       "      <td>1.000000</td>\n",
       "    </tr>\n",
       "    <tr>\n",
       "      <th>25%</th>\n",
       "      <td>0.000000e+00</td>\n",
       "      <td>2.500000e+07</td>\n",
       "      <td>4.200000e+07</td>\n",
       "      <td>8.709050e+04</td>\n",
       "      <td>5.900000</td>\n",
       "    </tr>\n",
       "    <tr>\n",
       "      <th>50%</th>\n",
       "      <td>0.000000e+00</td>\n",
       "      <td>3.000000e+07</td>\n",
       "      <td>6.864992e+07</td>\n",
       "      <td>2.338050e+06</td>\n",
       "      <td>6.600000</td>\n",
       "    </tr>\n",
       "    <tr>\n",
       "      <th>75%</th>\n",
       "      <td>1.500000e+07</td>\n",
       "      <td>4.037500e+07</td>\n",
       "      <td>1.419853e+08</td>\n",
       "      <td>2.399546e+07</td>\n",
       "      <td>7.200000</td>\n",
       "    </tr>\n",
       "    <tr>\n",
       "      <th>max</th>\n",
       "      <td>1.800000e+08</td>\n",
       "      <td>4.000000e+08</td>\n",
       "      <td>2.305074e+09</td>\n",
       "      <td>3.073569e+09</td>\n",
       "      <td>9.900000</td>\n",
       "    </tr>\n",
       "  </tbody>\n",
       "</table>\n",
       "</div>"
      ],
      "text/plain": [
       "       refundable_support  nonrefundable_support        budget    box_office  \\\n",
       "count        3.320000e+02           3.320000e+02  3.320000e+02  3.155000e+03   \n",
       "mean         1.186446e+07           4.898099e+07  1.272297e+08  7.655133e+07   \n",
       "std          2.491656e+07           5.998012e+07  1.885883e+08  2.404559e+08   \n",
       "min          0.000000e+00           0.000000e+00  0.000000e+00  0.000000e+00   \n",
       "25%          0.000000e+00           2.500000e+07  4.200000e+07  8.709050e+04   \n",
       "50%          0.000000e+00           3.000000e+07  6.864992e+07  2.338050e+06   \n",
       "75%          1.500000e+07           4.037500e+07  1.419853e+08  2.399546e+07   \n",
       "max          1.800000e+08           4.000000e+08  2.305074e+09  3.073569e+09   \n",
       "\n",
       "           ratings  \n",
       "count  6511.000000  \n",
       "mean      6.487851  \n",
       "std       1.114516  \n",
       "min       1.000000  \n",
       "25%       5.900000  \n",
       "50%       6.600000  \n",
       "75%       7.200000  \n",
       "max       9.900000  "
      ]
     },
     "execution_count": 53,
     "metadata": {},
     "output_type": "execute_result"
    }
   ],
   "source": [
    "# Выведем describe всех значений типа int и float\n",
    "numerical_group = ['refundable_support', 'nonrefundable_support',\n",
    "          'budget', 'box_office', 'ratings']\n",
    "data_movies[numerical_group].describe()"
   ]
  },
  {
   "cell_type": "code",
   "execution_count": 54,
   "id": "2c9b2999",
   "metadata": {
    "scrolled": true
   },
   "outputs": [
    {
     "data": {
      "text/html": [
       "<div>\n",
       "<style scoped>\n",
       "    .dataframe tbody tr th:only-of-type {\n",
       "        vertical-align: middle;\n",
       "    }\n",
       "\n",
       "    .dataframe tbody tr th {\n",
       "        vertical-align: top;\n",
       "    }\n",
       "\n",
       "    .dataframe thead th {\n",
       "        text-align: right;\n",
       "    }\n",
       "</style>\n",
       "<table border=\"1\" class=\"dataframe\">\n",
       "  <thead>\n",
       "    <tr style=\"text-align: right;\">\n",
       "      <th></th>\n",
       "      <th>puNumber</th>\n",
       "      <th>show_start_date</th>\n",
       "      <th>refundable_support</th>\n",
       "      <th>nonrefundable_support</th>\n",
       "      <th>budget</th>\n",
       "      <th>ratings</th>\n",
       "      <th>box_office</th>\n",
       "    </tr>\n",
       "  </thead>\n",
       "  <tbody>\n",
       "    <tr>\n",
       "      <th>count</th>\n",
       "      <td>1.700000e+01</td>\n",
       "      <td>17</td>\n",
       "      <td>1.700000e+01</td>\n",
       "      <td>1.700000e+01</td>\n",
       "      <td>17.0</td>\n",
       "      <td>16.000000</td>\n",
       "      <td>1.700000e+01</td>\n",
       "    </tr>\n",
       "    <tr>\n",
       "      <th>mean</th>\n",
       "      <td>1.120672e+08</td>\n",
       "      <td>2016-10-18 20:28:14.117647104</td>\n",
       "      <td>1.670588e+07</td>\n",
       "      <td>6.517467e+07</td>\n",
       "      <td>0.0</td>\n",
       "      <td>5.725000</td>\n",
       "      <td>1.631373e+08</td>\n",
       "    </tr>\n",
       "    <tr>\n",
       "      <th>min</th>\n",
       "      <td>1.110004e+08</td>\n",
       "      <td>2014-12-19 12:00:00</td>\n",
       "      <td>0.000000e+00</td>\n",
       "      <td>0.000000e+00</td>\n",
       "      <td>0.0</td>\n",
       "      <td>4.300000</td>\n",
       "      <td>1.334699e+06</td>\n",
       "    </tr>\n",
       "    <tr>\n",
       "      <th>25%</th>\n",
       "      <td>1.110096e+08</td>\n",
       "      <td>2015-07-21 12:00:00</td>\n",
       "      <td>0.000000e+00</td>\n",
       "      <td>2.300000e+07</td>\n",
       "      <td>0.0</td>\n",
       "      <td>5.075000</td>\n",
       "      <td>5.045195e+07</td>\n",
       "    </tr>\n",
       "    <tr>\n",
       "      <th>50%</th>\n",
       "      <td>1.110173e+08</td>\n",
       "      <td>2016-04-29 12:00:00</td>\n",
       "      <td>1.000000e+07</td>\n",
       "      <td>5.100000e+07</td>\n",
       "      <td>0.0</td>\n",
       "      <td>5.700000</td>\n",
       "      <td>7.293778e+07</td>\n",
       "    </tr>\n",
       "    <tr>\n",
       "      <th>75%</th>\n",
       "      <td>1.140017e+08</td>\n",
       "      <td>2018-02-01 12:00:00</td>\n",
       "      <td>2.000000e+07</td>\n",
       "      <td>7.500000e+07</td>\n",
       "      <td>0.0</td>\n",
       "      <td>6.300000</td>\n",
       "      <td>1.844876e+08</td>\n",
       "    </tr>\n",
       "    <tr>\n",
       "      <th>max</th>\n",
       "      <td>1.140065e+08</td>\n",
       "      <td>2019-04-20 12:00:00</td>\n",
       "      <td>6.000000e+07</td>\n",
       "      <td>2.500000e+08</td>\n",
       "      <td>0.0</td>\n",
       "      <td>7.800000</td>\n",
       "      <td>1.038321e+09</td>\n",
       "    </tr>\n",
       "    <tr>\n",
       "      <th>std</th>\n",
       "      <td>1.473501e+06</td>\n",
       "      <td>NaN</td>\n",
       "      <td>2.006478e+07</td>\n",
       "      <td>6.123620e+07</td>\n",
       "      <td>0.0</td>\n",
       "      <td>0.916151</td>\n",
       "      <td>2.511160e+08</td>\n",
       "    </tr>\n",
       "  </tbody>\n",
       "</table>\n",
       "</div>"
      ],
      "text/plain": [
       "           puNumber                show_start_date  refundable_support  \\\n",
       "count  1.700000e+01                             17        1.700000e+01   \n",
       "mean   1.120672e+08  2016-10-18 20:28:14.117647104        1.670588e+07   \n",
       "min    1.110004e+08            2014-12-19 12:00:00        0.000000e+00   \n",
       "25%    1.110096e+08            2015-07-21 12:00:00        0.000000e+00   \n",
       "50%    1.110173e+08            2016-04-29 12:00:00        1.000000e+07   \n",
       "75%    1.140017e+08            2018-02-01 12:00:00        2.000000e+07   \n",
       "max    1.140065e+08            2019-04-20 12:00:00        6.000000e+07   \n",
       "std    1.473501e+06                            NaN        2.006478e+07   \n",
       "\n",
       "       nonrefundable_support  budget    ratings    box_office  \n",
       "count           1.700000e+01    17.0  16.000000  1.700000e+01  \n",
       "mean            6.517467e+07     0.0   5.725000  1.631373e+08  \n",
       "min             0.000000e+00     0.0   4.300000  1.334699e+06  \n",
       "25%             2.300000e+07     0.0   5.075000  5.045195e+07  \n",
       "50%             5.100000e+07     0.0   5.700000  7.293778e+07  \n",
       "75%             7.500000e+07     0.0   6.300000  1.844876e+08  \n",
       "max             2.500000e+08     0.0   7.800000  1.038321e+09  \n",
       "std             6.123620e+07     0.0   0.916151  2.511160e+08  "
      ]
     },
     "execution_count": 54,
     "metadata": {},
     "output_type": "execute_result"
    }
   ],
   "source": [
    "data_movies[data_movies['budget'] == 0].describe()"
   ]
  },
  {
   "cell_type": "code",
   "execution_count": 55,
   "id": "a49f71cc",
   "metadata": {
    "scrolled": true
   },
   "outputs": [
    {
     "data": {
      "text/html": [
       "<div>\n",
       "<style scoped>\n",
       "    .dataframe tbody tr th:only-of-type {\n",
       "        vertical-align: middle;\n",
       "    }\n",
       "\n",
       "    .dataframe tbody tr th {\n",
       "        vertical-align: top;\n",
       "    }\n",
       "\n",
       "    .dataframe thead th {\n",
       "        text-align: right;\n",
       "    }\n",
       "</style>\n",
       "<table border=\"1\" class=\"dataframe\">\n",
       "  <thead>\n",
       "    <tr style=\"text-align: right;\">\n",
       "      <th></th>\n",
       "      <th>title</th>\n",
       "      <th>puNumber</th>\n",
       "      <th>show_start_date</th>\n",
       "      <th>type</th>\n",
       "      <th>film_studio</th>\n",
       "      <th>production_country</th>\n",
       "      <th>director</th>\n",
       "      <th>producer</th>\n",
       "      <th>age_restriction</th>\n",
       "      <th>refundable_support</th>\n",
       "      <th>nonrefundable_support</th>\n",
       "      <th>budget</th>\n",
       "      <th>financing_source</th>\n",
       "      <th>ratings</th>\n",
       "      <th>genres</th>\n",
       "      <th>box_office</th>\n",
       "      <th>main_genres</th>\n",
       "    </tr>\n",
       "  </thead>\n",
       "  <tbody>\n",
       "    <tr>\n",
       "      <th>35</th>\n",
       "      <td>Дуxless 2</td>\n",
       "      <td>111000415</td>\n",
       "      <td>2015-01-26 12:00:00</td>\n",
       "      <td>Художественный</td>\n",
       "      <td>ООО \"Киностудия \"Слово\", ООО \"Арт Пикчерс Студия\"</td>\n",
       "      <td>Россия</td>\n",
       "      <td>Р.Прыгунов</td>\n",
       "      <td>П.Ануров, Ф.Бондарчук, Д.Рудовский</td>\n",
       "      <td>«16+» - для детей старше 16 лет</td>\n",
       "      <td>0.0</td>\n",
       "      <td>75000000.0</td>\n",
       "      <td>0.0</td>\n",
       "      <td>Фонд кино</td>\n",
       "      <td>6.6</td>\n",
       "      <td>драма</td>\n",
       "      <td>4.461635e+08</td>\n",
       "      <td>драма</td>\n",
       "    </tr>\n",
       "    <tr>\n",
       "      <th>405</th>\n",
       "      <td>Мифы</td>\n",
       "      <td>111004317</td>\n",
       "      <td>2017-06-07 12:00:00</td>\n",
       "      <td>Художественный</td>\n",
       "      <td>ООО \"ХАЙПФИЛМ\", ООО \"Арт Пикчерс Студия\"</td>\n",
       "      <td>Россия</td>\n",
       "      <td>А.Молочников</td>\n",
       "      <td>Ф.Бондарчук, Д.Рудовский, И.Стюарт, М.Османн, ...</td>\n",
       "      <td>«16+» - для детей старше 16 лет</td>\n",
       "      <td>25000000.0</td>\n",
       "      <td>20000000.0</td>\n",
       "      <td>0.0</td>\n",
       "      <td>Фонд кино</td>\n",
       "      <td>4.8</td>\n",
       "      <td>комедия</td>\n",
       "      <td>5.045195e+07</td>\n",
       "      <td>комедия</td>\n",
       "    </tr>\n",
       "    <tr>\n",
       "      <th>462</th>\n",
       "      <td>Помню - не помню!</td>\n",
       "      <td>111004916</td>\n",
       "      <td>2016-03-01 12:00:00</td>\n",
       "      <td>Художественный</td>\n",
       "      <td>ООО \"КиноФирма\"</td>\n",
       "      <td>Россия</td>\n",
       "      <td>В.Ровенский</td>\n",
       "      <td>ООО \"КиноФирма\"</td>\n",
       "      <td>«12+» - для детей старше 12 лет</td>\n",
       "      <td>0.0</td>\n",
       "      <td>6000000.0</td>\n",
       "      <td>0.0</td>\n",
       "      <td>Министерство культуры</td>\n",
       "      <td>4.3</td>\n",
       "      <td>комедия</td>\n",
       "      <td>1.536293e+07</td>\n",
       "      <td>комедия</td>\n",
       "    </tr>\n",
       "    <tr>\n",
       "      <th>761</th>\n",
       "      <td>Любовь с ограничениями</td>\n",
       "      <td>111008216</td>\n",
       "      <td>2016-04-29 12:00:00</td>\n",
       "      <td>Художественный</td>\n",
       "      <td>АО \"ВайТ Медиа\", ООО \"Арт Пикчерс Студия\"</td>\n",
       "      <td>Россия</td>\n",
       "      <td>Д.Тюрин</td>\n",
       "      <td>Ф.Бондарчук, Т.Вайнштейн, Д.Рудовский</td>\n",
       "      <td>«16+» - для детей старше 16 лет</td>\n",
       "      <td>19000000.0</td>\n",
       "      <td>51000000.0</td>\n",
       "      <td>0.0</td>\n",
       "      <td>Фонд кино</td>\n",
       "      <td>6.3</td>\n",
       "      <td>комедия,мелодрама</td>\n",
       "      <td>7.029905e+07</td>\n",
       "      <td>комедия</td>\n",
       "    </tr>\n",
       "    <tr>\n",
       "      <th>878</th>\n",
       "      <td>Бармен.</td>\n",
       "      <td>111009615</td>\n",
       "      <td>2015-05-26 12:00:00</td>\n",
       "      <td>Художественный</td>\n",
       "      <td>АО \"ВайТ Медиа\", ООО \"Арт Пикчерс Студия\"</td>\n",
       "      <td>Россия</td>\n",
       "      <td>Д.Штурманова</td>\n",
       "      <td>Т.Вайнштейн</td>\n",
       "      <td>«16+» - для детей старше 16 лет</td>\n",
       "      <td>20000000.0</td>\n",
       "      <td>0.0</td>\n",
       "      <td>0.0</td>\n",
       "      <td>Фонд кино</td>\n",
       "      <td>6.2</td>\n",
       "      <td>комедия,фэнтези</td>\n",
       "      <td>6.741897e+07</td>\n",
       "      <td>комедия</td>\n",
       "    </tr>\n",
       "    <tr>\n",
       "      <th>930</th>\n",
       "      <td>Тряпичный союз</td>\n",
       "      <td>111010215</td>\n",
       "      <td>2015-06-08 12:00:00</td>\n",
       "      <td>Художественный</td>\n",
       "      <td>ООО \"Кинокомпания \"КОКТЕБЕЛЬ\"</td>\n",
       "      <td>Россия</td>\n",
       "      <td>М.Местецкий</td>\n",
       "      <td>Р.Борисевич, А.Кушаев</td>\n",
       "      <td>«18+» - запрещено для детей</td>\n",
       "      <td>0.0</td>\n",
       "      <td>59000000.0</td>\n",
       "      <td>0.0</td>\n",
       "      <td>Фонд кино</td>\n",
       "      <td>6.3</td>\n",
       "      <td>комедия,драма</td>\n",
       "      <td>1.957739e+06</td>\n",
       "      <td>комедия</td>\n",
       "    </tr>\n",
       "    <tr>\n",
       "      <th>1075</th>\n",
       "      <td>Селфи</td>\n",
       "      <td>111012117</td>\n",
       "      <td>2018-02-01 12:00:00</td>\n",
       "      <td>Художественный</td>\n",
       "      <td>ООО \"Киностудия \"Слово\", ООО \"Арт Пикчерс Студия\"</td>\n",
       "      <td>Россия</td>\n",
       "      <td>Н.Хомерики</td>\n",
       "      <td>П.Ануров, Ф.Бондарчук, Д.Рудовский</td>\n",
       "      <td>«16+» - для детей старше 16 лет</td>\n",
       "      <td>20000000.0</td>\n",
       "      <td>40000000.0</td>\n",
       "      <td>0.0</td>\n",
       "      <td>Фонд кино</td>\n",
       "      <td>5.8</td>\n",
       "      <td>триллер,драма</td>\n",
       "      <td>2.251964e+08</td>\n",
       "      <td>триллер</td>\n",
       "    </tr>\n",
       "    <tr>\n",
       "      <th>1325</th>\n",
       "      <td>Срочно выйду замуж</td>\n",
       "      <td>111017115</td>\n",
       "      <td>2015-09-30 12:00:00</td>\n",
       "      <td>Художественный</td>\n",
       "      <td>АО \"ВайТ Медиа\", ООО \"Арт Пикчерс Студия\"</td>\n",
       "      <td>Россия</td>\n",
       "      <td>С Чекалов</td>\n",
       "      <td>Ф.Бондарчук, Т.Вайнштейн, Д.Рудовский</td>\n",
       "      <td>«16+» - для детей старше 16 лет</td>\n",
       "      <td>0.0</td>\n",
       "      <td>35000000.0</td>\n",
       "      <td>0.0</td>\n",
       "      <td>Фонд кино</td>\n",
       "      <td>5.1</td>\n",
       "      <td>комедия,мелодрама</td>\n",
       "      <td>7.293778e+07</td>\n",
       "      <td>комедия</td>\n",
       "    </tr>\n",
       "    <tr>\n",
       "      <th>1334</th>\n",
       "      <td>Воин (2015)</td>\n",
       "      <td>111017315</td>\n",
       "      <td>2015-09-28 12:00:00</td>\n",
       "      <td>Художественный</td>\n",
       "      <td>ООО \"Форпост Продакшн\", ООО \"Арт Пикчерс Студия\"</td>\n",
       "      <td>Россия</td>\n",
       "      <td>А.Андрианов</td>\n",
       "      <td>ООО \"Арт Пикчерс Студия\"</td>\n",
       "      <td>«12+» - для детей старше 12 лет</td>\n",
       "      <td>10000000.0</td>\n",
       "      <td>70000000.0</td>\n",
       "      <td>0.0</td>\n",
       "      <td>Фонд кино</td>\n",
       "      <td>7.8</td>\n",
       "      <td>боевик,драма,криминал</td>\n",
       "      <td>1.965724e+08</td>\n",
       "      <td>боевик</td>\n",
       "    </tr>\n",
       "    <tr>\n",
       "      <th>1368</th>\n",
       "      <td>Притяжение (2016)</td>\n",
       "      <td>111018116</td>\n",
       "      <td>2016-12-16 12:00:00</td>\n",
       "      <td>Художественный</td>\n",
       "      <td>ООО \"Водород 2011\",  ООО \"Арт Пикчерс Студия\"</td>\n",
       "      <td>Россия</td>\n",
       "      <td>Ф.Бондарчук</td>\n",
       "      <td>ООО \"Арт Пикчерс Студия\"</td>\n",
       "      <td>«12+» - для детей старше 12 лет</td>\n",
       "      <td>0.0</td>\n",
       "      <td>250000000.0</td>\n",
       "      <td>0.0</td>\n",
       "      <td>Фонд кино</td>\n",
       "      <td>5.6</td>\n",
       "      <td>фантастика</td>\n",
       "      <td>1.038321e+09</td>\n",
       "      <td>фантастика</td>\n",
       "    </tr>\n",
       "    <tr>\n",
       "      <th>1554</th>\n",
       "      <td>14+</td>\n",
       "      <td>111023614</td>\n",
       "      <td>2014-12-19 12:00:00</td>\n",
       "      <td>Художественный</td>\n",
       "      <td>ООО Киностудия  \"Сентябрь\"</td>\n",
       "      <td>Россия</td>\n",
       "      <td>А.Зайцев</td>\n",
       "      <td>О.Гранина, А.Зайцев</td>\n",
       "      <td>«16+» - для детей старше 16 лет</td>\n",
       "      <td>0.0</td>\n",
       "      <td>23000000.0</td>\n",
       "      <td>0.0</td>\n",
       "      <td>Министерство культуры, Фонд кино</td>\n",
       "      <td>6.6</td>\n",
       "      <td>мелодрама</td>\n",
       "      <td>1.023402e+07</td>\n",
       "      <td>мелодрама</td>\n",
       "    </tr>\n",
       "    <tr>\n",
       "      <th>2001</th>\n",
       "      <td>Два хвоста</td>\n",
       "      <td>114001018</td>\n",
       "      <td>2018-05-31 12:00:00</td>\n",
       "      <td>Анимационный</td>\n",
       "      <td>ООО \"ЛИЦЕНЗИОННЫЕ БРЕНДЫ\"</td>\n",
       "      <td>Россия</td>\n",
       "      <td>В.Ровенский, Н.Лопато, В.Азеев</td>\n",
       "      <td>ООО \"ЛИЦЕНЗИОННЫЕ БРЕНДЫ\"</td>\n",
       "      <td>«6+» - для детей старше 6 лет</td>\n",
       "      <td>10000000.0</td>\n",
       "      <td>60000000.0</td>\n",
       "      <td>0.0</td>\n",
       "      <td>Фонд кино</td>\n",
       "      <td>5.0</td>\n",
       "      <td>мультфильм,детский</td>\n",
       "      <td>1.065143e+08</td>\n",
       "      <td>мультфильм</td>\n",
       "    </tr>\n",
       "    <tr>\n",
       "      <th>2034</th>\n",
       "      <td>Савва. Сердце воина</td>\n",
       "      <td>114001715</td>\n",
       "      <td>2015-07-21 12:00:00</td>\n",
       "      <td>Анимационный</td>\n",
       "      <td>ООО \"Глюкоза Продакшн\", ООО \"Арт Пикчерс Студия\"</td>\n",
       "      <td>Россия</td>\n",
       "      <td>М.Фадеев</td>\n",
       "      <td>А.Чистяков</td>\n",
       "      <td>«6+» - для детей старше 6 лет</td>\n",
       "      <td>60000000.0</td>\n",
       "      <td>100000000.0</td>\n",
       "      <td>0.0</td>\n",
       "      <td>Фонд кино</td>\n",
       "      <td>4.6</td>\n",
       "      <td>мультфильм,приключения,фэнтези</td>\n",
       "      <td>1.844876e+08</td>\n",
       "      <td>мультфильм</td>\n",
       "    </tr>\n",
       "    <tr>\n",
       "      <th>2040</th>\n",
       "      <td>Чудо-юдо</td>\n",
       "      <td>114001817</td>\n",
       "      <td>2017-06-27 12:00:00</td>\n",
       "      <td>Анимационный</td>\n",
       "      <td>ООО \"КиноФирма\"</td>\n",
       "      <td>Россия</td>\n",
       "      <td>А.Лукичев</td>\n",
       "      <td>ООО \"КиноФирма\"</td>\n",
       "      <td>«6+» - для детей старше 6 лет</td>\n",
       "      <td>20000000.0</td>\n",
       "      <td>20000000.0</td>\n",
       "      <td>0.0</td>\n",
       "      <td>Фонд кино</td>\n",
       "      <td>5.2</td>\n",
       "      <td>мультфильм,фэнтези,семейный</td>\n",
       "      <td>5.510801e+07</td>\n",
       "      <td>мультфильм</td>\n",
       "    </tr>\n",
       "    <tr>\n",
       "      <th>2068</th>\n",
       "      <td>Большое путешествие</td>\n",
       "      <td>114002419</td>\n",
       "      <td>2019-04-20 12:00:00</td>\n",
       "      <td>Анимационный</td>\n",
       "      <td>ООО \"ЛИЦЕНЗИОННЫЕ БРЕНДЫ\"</td>\n",
       "      <td>Россия</td>\n",
       "      <td>Н.Лопато, В.Ровенский</td>\n",
       "      <td>ООО \"ЛИЦЕНЗИОННЫЕ БРЕНДЫ\"</td>\n",
       "      <td>«6+» - для детей старше 6 лет</td>\n",
       "      <td>60000000.0</td>\n",
       "      <td>120000000.0</td>\n",
       "      <td>0.0</td>\n",
       "      <td>Фонд кино</td>\n",
       "      <td>6.2</td>\n",
       "      <td>мультфильм,комедия,приключения</td>\n",
       "      <td>1.476068e+08</td>\n",
       "      <td>мультфильм</td>\n",
       "    </tr>\n",
       "    <tr>\n",
       "      <th>2096</th>\n",
       "      <td>Принцесса и дракон</td>\n",
       "      <td>114003018</td>\n",
       "      <td>2018-08-23 12:00:00</td>\n",
       "      <td>Анимационный</td>\n",
       "      <td>ООО \"ЛИЦЕНЗИОННЫЕ БРЕНДЫ\"</td>\n",
       "      <td>Россия</td>\n",
       "      <td>М.Нефедова</td>\n",
       "      <td>ООО \"ЛИЦЕНЗИОННЫЕ БРЕНДЫ\"</td>\n",
       "      <td>«6+» - для детей старше 6 лет</td>\n",
       "      <td>40000000.0</td>\n",
       "      <td>40000000.0</td>\n",
       "      <td>0.0</td>\n",
       "      <td>Фонд кино</td>\n",
       "      <td>5.2</td>\n",
       "      <td>мультфильм,фэнтези,детский</td>\n",
       "      <td>8.336633e+07</td>\n",
       "      <td>мультфильм</td>\n",
       "    </tr>\n",
       "    <tr>\n",
       "      <th>2176</th>\n",
       "      <td>Баба Яга</td>\n",
       "      <td>114006518</td>\n",
       "      <td>2018-11-08 12:00:00</td>\n",
       "      <td>Анимационный</td>\n",
       "      <td>ООО \"Арт Пикчерс Студия\"</td>\n",
       "      <td>Россия</td>\n",
       "      <td>В.Саков</td>\n",
       "      <td>ООО \"Арт Пикчерс Студия\", ООО \"КРИЭЙТИВ АНИМЭЙ...</td>\n",
       "      <td>«6+» - для детей старше 6 лет</td>\n",
       "      <td>0.0</td>\n",
       "      <td>138969465.0</td>\n",
       "      <td>0.0</td>\n",
       "      <td>Фонд кино</td>\n",
       "      <td>NaN</td>\n",
       "      <td>Без жанра</td>\n",
       "      <td>1.334699e+06</td>\n",
       "      <td>Без жанра</td>\n",
       "    </tr>\n",
       "  </tbody>\n",
       "</table>\n",
       "</div>"
      ],
      "text/plain": [
       "                       title   puNumber     show_start_date            type  \\\n",
       "35                 Дуxless 2  111000415 2015-01-26 12:00:00  Художественный   \n",
       "405                     Мифы  111004317 2017-06-07 12:00:00  Художественный   \n",
       "462        Помню - не помню!  111004916 2016-03-01 12:00:00  Художественный   \n",
       "761   Любовь с ограничениями  111008216 2016-04-29 12:00:00  Художественный   \n",
       "878                  Бармен.  111009615 2015-05-26 12:00:00  Художественный   \n",
       "930           Тряпичный союз  111010215 2015-06-08 12:00:00  Художественный   \n",
       "1075                   Селфи  111012117 2018-02-01 12:00:00  Художественный   \n",
       "1325      Срочно выйду замуж  111017115 2015-09-30 12:00:00  Художественный   \n",
       "1334             Воин (2015)  111017315 2015-09-28 12:00:00  Художественный   \n",
       "1368       Притяжение (2016)  111018116 2016-12-16 12:00:00  Художественный   \n",
       "1554                     14+  111023614 2014-12-19 12:00:00  Художественный   \n",
       "2001              Два хвоста  114001018 2018-05-31 12:00:00    Анимационный   \n",
       "2034     Савва. Сердце воина  114001715 2015-07-21 12:00:00    Анимационный   \n",
       "2040                Чудо-юдо  114001817 2017-06-27 12:00:00    Анимационный   \n",
       "2068     Большое путешествие  114002419 2019-04-20 12:00:00    Анимационный   \n",
       "2096      Принцесса и дракон  114003018 2018-08-23 12:00:00    Анимационный   \n",
       "2176                Баба Яга  114006518 2018-11-08 12:00:00    Анимационный   \n",
       "\n",
       "                                            film_studio production_country  \\\n",
       "35    ООО \"Киностудия \"Слово\", ООО \"Арт Пикчерс Студия\"             Россия   \n",
       "405            ООО \"ХАЙПФИЛМ\", ООО \"Арт Пикчерс Студия\"             Россия   \n",
       "462                                     ООО \"КиноФирма\"             Россия   \n",
       "761           АО \"ВайТ Медиа\", ООО \"Арт Пикчерс Студия\"             Россия   \n",
       "878           АО \"ВайТ Медиа\", ООО \"Арт Пикчерс Студия\"             Россия   \n",
       "930                       ООО \"Кинокомпания \"КОКТЕБЕЛЬ\"             Россия   \n",
       "1075  ООО \"Киностудия \"Слово\", ООО \"Арт Пикчерс Студия\"             Россия   \n",
       "1325          АО \"ВайТ Медиа\", ООО \"Арт Пикчерс Студия\"             Россия   \n",
       "1334   ООО \"Форпост Продакшн\", ООО \"Арт Пикчерс Студия\"             Россия   \n",
       "1368      ООО \"Водород 2011\",  ООО \"Арт Пикчерс Студия\"             Россия   \n",
       "1554                         ООО Киностудия  \"Сентябрь\"             Россия   \n",
       "2001                          ООО \"ЛИЦЕНЗИОННЫЕ БРЕНДЫ\"             Россия   \n",
       "2034   ООО \"Глюкоза Продакшн\", ООО \"Арт Пикчерс Студия\"             Россия   \n",
       "2040                                    ООО \"КиноФирма\"             Россия   \n",
       "2068                          ООО \"ЛИЦЕНЗИОННЫЕ БРЕНДЫ\"             Россия   \n",
       "2096                          ООО \"ЛИЦЕНЗИОННЫЕ БРЕНДЫ\"             Россия   \n",
       "2176                           ООО \"Арт Пикчерс Студия\"             Россия   \n",
       "\n",
       "                            director  \\\n",
       "35                        Р.Прыгунов   \n",
       "405                     А.Молочников   \n",
       "462                      В.Ровенский   \n",
       "761                          Д.Тюрин   \n",
       "878                     Д.Штурманова   \n",
       "930                      М.Местецкий   \n",
       "1075                      Н.Хомерики   \n",
       "1325                       С Чекалов   \n",
       "1334                     А.Андрианов   \n",
       "1368                     Ф.Бондарчук   \n",
       "1554                        А.Зайцев   \n",
       "2001  В.Ровенский, Н.Лопато, В.Азеев   \n",
       "2034                        М.Фадеев   \n",
       "2040                       А.Лукичев   \n",
       "2068           Н.Лопато, В.Ровенский   \n",
       "2096                      М.Нефедова   \n",
       "2176                         В.Саков   \n",
       "\n",
       "                                               producer  \\\n",
       "35                   П.Ануров, Ф.Бондарчук, Д.Рудовский   \n",
       "405   Ф.Бондарчук, Д.Рудовский, И.Стюарт, М.Османн, ...   \n",
       "462                                     ООО \"КиноФирма\"   \n",
       "761               Ф.Бондарчук, Т.Вайнштейн, Д.Рудовский   \n",
       "878                                         Т.Вайнштейн   \n",
       "930                               Р.Борисевич, А.Кушаев   \n",
       "1075                 П.Ануров, Ф.Бондарчук, Д.Рудовский   \n",
       "1325              Ф.Бондарчук, Т.Вайнштейн, Д.Рудовский   \n",
       "1334                           ООО \"Арт Пикчерс Студия\"   \n",
       "1368                           ООО \"Арт Пикчерс Студия\"   \n",
       "1554                                О.Гранина, А.Зайцев   \n",
       "2001                          ООО \"ЛИЦЕНЗИОННЫЕ БРЕНДЫ\"   \n",
       "2034                                         А.Чистяков   \n",
       "2040                                    ООО \"КиноФирма\"   \n",
       "2068                          ООО \"ЛИЦЕНЗИОННЫЕ БРЕНДЫ\"   \n",
       "2096                          ООО \"ЛИЦЕНЗИОННЫЕ БРЕНДЫ\"   \n",
       "2176  ООО \"Арт Пикчерс Студия\", ООО \"КРИЭЙТИВ АНИМЭЙ...   \n",
       "\n",
       "                      age_restriction  refundable_support  \\\n",
       "35    «16+» - для детей старше 16 лет                 0.0   \n",
       "405   «16+» - для детей старше 16 лет          25000000.0   \n",
       "462   «12+» - для детей старше 12 лет                 0.0   \n",
       "761   «16+» - для детей старше 16 лет          19000000.0   \n",
       "878   «16+» - для детей старше 16 лет          20000000.0   \n",
       "930       «18+» - запрещено для детей                 0.0   \n",
       "1075  «16+» - для детей старше 16 лет          20000000.0   \n",
       "1325  «16+» - для детей старше 16 лет                 0.0   \n",
       "1334  «12+» - для детей старше 12 лет          10000000.0   \n",
       "1368  «12+» - для детей старше 12 лет                 0.0   \n",
       "1554  «16+» - для детей старше 16 лет                 0.0   \n",
       "2001    «6+» - для детей старше 6 лет          10000000.0   \n",
       "2034    «6+» - для детей старше 6 лет          60000000.0   \n",
       "2040    «6+» - для детей старше 6 лет          20000000.0   \n",
       "2068    «6+» - для детей старше 6 лет          60000000.0   \n",
       "2096    «6+» - для детей старше 6 лет          40000000.0   \n",
       "2176    «6+» - для детей старше 6 лет                 0.0   \n",
       "\n",
       "      nonrefundable_support  budget                  financing_source  \\\n",
       "35               75000000.0     0.0                         Фонд кино   \n",
       "405              20000000.0     0.0                         Фонд кино   \n",
       "462               6000000.0     0.0             Министерство культуры   \n",
       "761              51000000.0     0.0                         Фонд кино   \n",
       "878                     0.0     0.0                         Фонд кино   \n",
       "930              59000000.0     0.0                         Фонд кино   \n",
       "1075             40000000.0     0.0                         Фонд кино   \n",
       "1325             35000000.0     0.0                         Фонд кино   \n",
       "1334             70000000.0     0.0                         Фонд кино   \n",
       "1368            250000000.0     0.0                         Фонд кино   \n",
       "1554             23000000.0     0.0  Министерство культуры, Фонд кино   \n",
       "2001             60000000.0     0.0                         Фонд кино   \n",
       "2034            100000000.0     0.0                         Фонд кино   \n",
       "2040             20000000.0     0.0                         Фонд кино   \n",
       "2068            120000000.0     0.0                         Фонд кино   \n",
       "2096             40000000.0     0.0                         Фонд кино   \n",
       "2176            138969465.0     0.0                         Фонд кино   \n",
       "\n",
       "      ratings                          genres    box_office main_genres  \n",
       "35        6.6                           драма  4.461635e+08       драма  \n",
       "405       4.8                         комедия  5.045195e+07     комедия  \n",
       "462       4.3                         комедия  1.536293e+07     комедия  \n",
       "761       6.3               комедия,мелодрама  7.029905e+07     комедия  \n",
       "878       6.2                 комедия,фэнтези  6.741897e+07     комедия  \n",
       "930       6.3                   комедия,драма  1.957739e+06     комедия  \n",
       "1075      5.8                   триллер,драма  2.251964e+08     триллер  \n",
       "1325      5.1               комедия,мелодрама  7.293778e+07     комедия  \n",
       "1334      7.8           боевик,драма,криминал  1.965724e+08      боевик  \n",
       "1368      5.6                      фантастика  1.038321e+09  фантастика  \n",
       "1554      6.6                       мелодрама  1.023402e+07   мелодрама  \n",
       "2001      5.0              мультфильм,детский  1.065143e+08  мультфильм  \n",
       "2034      4.6  мультфильм,приключения,фэнтези  1.844876e+08  мультфильм  \n",
       "2040      5.2     мультфильм,фэнтези,семейный  5.510801e+07  мультфильм  \n",
       "2068      6.2  мультфильм,комедия,приключения  1.476068e+08  мультфильм  \n",
       "2096      5.2      мультфильм,фэнтези,детский  8.336633e+07  мультфильм  \n",
       "2176      NaN                       Без жанра  1.334699e+06   Без жанра  "
      ]
     },
     "execution_count": 55,
     "metadata": {},
     "output_type": "execute_result"
    }
   ],
   "source": [
    "data_movies[(data_movies['refundable_support'] + data_movies['nonrefundable_support']) > data_movies['budget']]"
   ]
  },
  {
   "cell_type": "code",
   "execution_count": 56,
   "id": "c8f970fc",
   "metadata": {},
   "outputs": [],
   "source": [
    "def fix_budget(row):\n",
    "    if row['budget'] < (row['refundable_support'] + row['nonrefundable_support']):\n",
    "        return row['refundable_support'] + row['nonrefundable_support']\n",
    "    return row['budget']"
   ]
  },
  {
   "cell_type": "code",
   "execution_count": 57,
   "id": "26044948",
   "metadata": {},
   "outputs": [],
   "source": [
    "data_movies['budget_corrected'] = data_movies.apply(fix_budget, axis=1)"
   ]
  },
  {
   "cell_type": "code",
   "execution_count": 58,
   "id": "fd3a0393",
   "metadata": {},
   "outputs": [
    {
     "data": {
      "text/plain": [
       "0"
      ]
     },
     "execution_count": 58,
     "metadata": {},
     "output_type": "execute_result"
    }
   ],
   "source": [
    "len(data_movies[(data_movies['refundable_support'] + data_movies['nonrefundable_support']) > data_movies['budget_corrected']])"
   ]
  },
  {
   "cell_type": "code",
   "execution_count": 59,
   "id": "f970797e",
   "metadata": {},
   "outputs": [],
   "source": [
    "data_movies['budget_corrected'] = data_movies['budget_corrected']*2.0"
   ]
  },
  {
   "cell_type": "code",
   "execution_count": 60,
   "id": "01d15b2f",
   "metadata": {},
   "outputs": [],
   "source": [
    "data_movies['budget'] = data_movies['budget_corrected']"
   ]
  },
  {
   "cell_type": "code",
   "execution_count": 61,
   "id": "d3c68e9e",
   "metadata": {
    "scrolled": true
   },
   "outputs": [
    {
     "data": {
      "text/html": [
       "<div>\n",
       "<style scoped>\n",
       "    .dataframe tbody tr th:only-of-type {\n",
       "        vertical-align: middle;\n",
       "    }\n",
       "\n",
       "    .dataframe tbody tr th {\n",
       "        vertical-align: top;\n",
       "    }\n",
       "\n",
       "    .dataframe thead th {\n",
       "        text-align: right;\n",
       "    }\n",
       "</style>\n",
       "<table border=\"1\" class=\"dataframe\">\n",
       "  <thead>\n",
       "    <tr style=\"text-align: right;\">\n",
       "      <th></th>\n",
       "      <th>puNumber</th>\n",
       "      <th>show_start_date</th>\n",
       "      <th>refundable_support</th>\n",
       "      <th>nonrefundable_support</th>\n",
       "      <th>budget</th>\n",
       "      <th>ratings</th>\n",
       "      <th>box_office</th>\n",
       "      <th>budget_corrected</th>\n",
       "    </tr>\n",
       "  </thead>\n",
       "  <tbody>\n",
       "    <tr>\n",
       "      <th>count</th>\n",
       "      <td>0.0</td>\n",
       "      <td>0</td>\n",
       "      <td>0.0</td>\n",
       "      <td>0.0</td>\n",
       "      <td>0.0</td>\n",
       "      <td>0.0</td>\n",
       "      <td>0.0</td>\n",
       "      <td>0.0</td>\n",
       "    </tr>\n",
       "    <tr>\n",
       "      <th>mean</th>\n",
       "      <td>NaN</td>\n",
       "      <td>NaT</td>\n",
       "      <td>NaN</td>\n",
       "      <td>NaN</td>\n",
       "      <td>NaN</td>\n",
       "      <td>NaN</td>\n",
       "      <td>NaN</td>\n",
       "      <td>NaN</td>\n",
       "    </tr>\n",
       "    <tr>\n",
       "      <th>min</th>\n",
       "      <td>NaN</td>\n",
       "      <td>NaT</td>\n",
       "      <td>NaN</td>\n",
       "      <td>NaN</td>\n",
       "      <td>NaN</td>\n",
       "      <td>NaN</td>\n",
       "      <td>NaN</td>\n",
       "      <td>NaN</td>\n",
       "    </tr>\n",
       "    <tr>\n",
       "      <th>25%</th>\n",
       "      <td>NaN</td>\n",
       "      <td>NaT</td>\n",
       "      <td>NaN</td>\n",
       "      <td>NaN</td>\n",
       "      <td>NaN</td>\n",
       "      <td>NaN</td>\n",
       "      <td>NaN</td>\n",
       "      <td>NaN</td>\n",
       "    </tr>\n",
       "    <tr>\n",
       "      <th>50%</th>\n",
       "      <td>NaN</td>\n",
       "      <td>NaT</td>\n",
       "      <td>NaN</td>\n",
       "      <td>NaN</td>\n",
       "      <td>NaN</td>\n",
       "      <td>NaN</td>\n",
       "      <td>NaN</td>\n",
       "      <td>NaN</td>\n",
       "    </tr>\n",
       "    <tr>\n",
       "      <th>75%</th>\n",
       "      <td>NaN</td>\n",
       "      <td>NaT</td>\n",
       "      <td>NaN</td>\n",
       "      <td>NaN</td>\n",
       "      <td>NaN</td>\n",
       "      <td>NaN</td>\n",
       "      <td>NaN</td>\n",
       "      <td>NaN</td>\n",
       "    </tr>\n",
       "    <tr>\n",
       "      <th>max</th>\n",
       "      <td>NaN</td>\n",
       "      <td>NaT</td>\n",
       "      <td>NaN</td>\n",
       "      <td>NaN</td>\n",
       "      <td>NaN</td>\n",
       "      <td>NaN</td>\n",
       "      <td>NaN</td>\n",
       "      <td>NaN</td>\n",
       "    </tr>\n",
       "    <tr>\n",
       "      <th>std</th>\n",
       "      <td>NaN</td>\n",
       "      <td>NaN</td>\n",
       "      <td>NaN</td>\n",
       "      <td>NaN</td>\n",
       "      <td>NaN</td>\n",
       "      <td>NaN</td>\n",
       "      <td>NaN</td>\n",
       "      <td>NaN</td>\n",
       "    </tr>\n",
       "  </tbody>\n",
       "</table>\n",
       "</div>"
      ],
      "text/plain": [
       "       puNumber show_start_date  refundable_support  nonrefundable_support  \\\n",
       "count       0.0               0                 0.0                    0.0   \n",
       "mean        NaN             NaT                 NaN                    NaN   \n",
       "min         NaN             NaT                 NaN                    NaN   \n",
       "25%         NaN             NaT                 NaN                    NaN   \n",
       "50%         NaN             NaT                 NaN                    NaN   \n",
       "75%         NaN             NaT                 NaN                    NaN   \n",
       "max         NaN             NaT                 NaN                    NaN   \n",
       "std         NaN             NaN                 NaN                    NaN   \n",
       "\n",
       "       budget  ratings  box_office  budget_corrected  \n",
       "count     0.0      0.0         0.0               0.0  \n",
       "mean      NaN      NaN         NaN               NaN  \n",
       "min       NaN      NaN         NaN               NaN  \n",
       "25%       NaN      NaN         NaN               NaN  \n",
       "50%       NaN      NaN         NaN               NaN  \n",
       "75%       NaN      NaN         NaN               NaN  \n",
       "max       NaN      NaN         NaN               NaN  \n",
       "std       NaN      NaN         NaN               NaN  "
      ]
     },
     "execution_count": 61,
     "metadata": {},
     "output_type": "execute_result"
    }
   ],
   "source": [
    "data_movies[data_movies['budget'] == 0].describe()"
   ]
  },
  {
   "cell_type": "code",
   "execution_count": 62,
   "id": "90504a1c",
   "metadata": {
    "scrolled": true
   },
   "outputs": [
    {
     "data": {
      "text/plain": [
       "Index(['title', 'puNumber', 'show_start_date', 'type', 'film_studio',\n",
       "       'production_country', 'director', 'producer', 'age_restriction',\n",
       "       'refundable_support', 'nonrefundable_support', 'budget',\n",
       "       'financing_source', 'ratings', 'genres', 'box_office', 'main_genres'],\n",
       "      dtype='object')"
      ]
     },
     "execution_count": 62,
     "metadata": {},
     "output_type": "execute_result"
    }
   ],
   "source": [
    "del data_movies['budget_corrected']\n",
    "data_movies.columns"
   ]
  },
  {
   "cell_type": "code",
   "execution_count": 63,
   "id": "5466761b",
   "metadata": {
    "scrolled": true
   },
   "outputs": [
    {
     "name": "stdout",
     "output_type": "stream",
     "text": [
      "<class 'pandas.core.frame.DataFrame'>\n",
      "Index: 7458 entries, 0 to 7484\n",
      "Data columns (total 17 columns):\n",
      " #   Column                 Non-Null Count  Dtype         \n",
      "---  ------                 --------------  -----         \n",
      " 0   title                  7458 non-null   object        \n",
      " 1   puNumber               7458 non-null   int32         \n",
      " 2   show_start_date        7458 non-null   datetime64[ns]\n",
      " 3   type                   7458 non-null   object        \n",
      " 4   film_studio            7458 non-null   object        \n",
      " 5   production_country     7458 non-null   object        \n",
      " 6   director               7458 non-null   object        \n",
      " 7   producer               7458 non-null   object        \n",
      " 8   age_restriction        7458 non-null   object        \n",
      " 9   refundable_support     332 non-null    float64       \n",
      " 10  nonrefundable_support  332 non-null    float64       \n",
      " 11  budget                 332 non-null    float64       \n",
      " 12  financing_source       332 non-null    object        \n",
      " 13  ratings                6511 non-null   float64       \n",
      " 14  genres                 7458 non-null   object        \n",
      " 15  box_office             3155 non-null   float64       \n",
      " 16  main_genres            7458 non-null   object        \n",
      "dtypes: datetime64[ns](1), float64(5), int32(1), object(10)\n",
      "memory usage: 1019.6+ KB\n"
     ]
    }
   ],
   "source": [
    "data_movies.info()"
   ]
  },
  {
   "cell_type": "code",
   "execution_count": 64,
   "id": "06924e1b",
   "metadata": {},
   "outputs": [
    {
     "data": {
      "text/plain": [
       "231"
      ]
     },
     "execution_count": 64,
     "metadata": {},
     "output_type": "execute_result"
    }
   ],
   "source": [
    "data_movies[data_movies['box_office'] < 1000]['title'].count()"
   ]
  },
  {
   "cell_type": "code",
   "execution_count": 65,
   "id": "60d6436f",
   "metadata": {},
   "outputs": [
    {
     "data": {
      "text/html": [
       "<div>\n",
       "<style scoped>\n",
       "    .dataframe tbody tr th:only-of-type {\n",
       "        vertical-align: middle;\n",
       "    }\n",
       "\n",
       "    .dataframe tbody tr th {\n",
       "        vertical-align: top;\n",
       "    }\n",
       "\n",
       "    .dataframe thead th {\n",
       "        text-align: right;\n",
       "    }\n",
       "</style>\n",
       "<table border=\"1\" class=\"dataframe\">\n",
       "  <thead>\n",
       "    <tr style=\"text-align: right;\">\n",
       "      <th></th>\n",
       "      <th>title</th>\n",
       "      <th>puNumber</th>\n",
       "      <th>show_start_date</th>\n",
       "      <th>type</th>\n",
       "      <th>film_studio</th>\n",
       "      <th>production_country</th>\n",
       "      <th>director</th>\n",
       "      <th>producer</th>\n",
       "      <th>age_restriction</th>\n",
       "      <th>refundable_support</th>\n",
       "      <th>nonrefundable_support</th>\n",
       "      <th>budget</th>\n",
       "      <th>financing_source</th>\n",
       "      <th>ratings</th>\n",
       "      <th>genres</th>\n",
       "      <th>box_office</th>\n",
       "      <th>main_genres</th>\n",
       "    </tr>\n",
       "  </thead>\n",
       "  <tbody>\n",
       "    <tr>\n",
       "      <th>13</th>\n",
       "      <td>Ржевский против Наполеона</td>\n",
       "      <td>111000212</td>\n",
       "      <td>2012-01-12 12:00:00</td>\n",
       "      <td>Художественный</td>\n",
       "      <td>ООО \"Территория Кино\"</td>\n",
       "      <td>Россия</td>\n",
       "      <td>М.Бальчунас</td>\n",
       "      <td>ООО \"Квартал Леополис\"</td>\n",
       "      <td>«16+» - для детей старше 16 лет</td>\n",
       "      <td>NaN</td>\n",
       "      <td>NaN</td>\n",
       "      <td>NaN</td>\n",
       "      <td>NaN</td>\n",
       "      <td>3.0</td>\n",
       "      <td>комедия</td>\n",
       "      <td>200.0</td>\n",
       "      <td>комедия</td>\n",
       "    </tr>\n",
       "    <tr>\n",
       "      <th>24</th>\n",
       "      <td>ОХОТА НА ПРИНЦЕССУ. Часть 2</td>\n",
       "      <td>111000313</td>\n",
       "      <td>2013-01-31 12:00:00</td>\n",
       "      <td>Художественный</td>\n",
       "      <td>ООО Киностудия \"Сагиттариус - Д\"</td>\n",
       "      <td>Россия</td>\n",
       "      <td>С.Дружинина</td>\n",
       "      <td>С.Дружинина</td>\n",
       "      <td>«12+» - для детей старше 12 лет</td>\n",
       "      <td>NaN</td>\n",
       "      <td>NaN</td>\n",
       "      <td>NaN</td>\n",
       "      <td>NaN</td>\n",
       "      <td>6.1</td>\n",
       "      <td>драма,история</td>\n",
       "      <td>710.0</td>\n",
       "      <td>драма</td>\n",
       "    </tr>\n",
       "    <tr>\n",
       "      <th>50</th>\n",
       "      <td>Золотое сечение</td>\n",
       "      <td>111000610</td>\n",
       "      <td>2010-01-26 12:00:00</td>\n",
       "      <td>Художественный</td>\n",
       "      <td>ОАО \"ТПО \"Санкт-Петербургская студия документа...</td>\n",
       "      <td>Россия</td>\n",
       "      <td>С.Дебижев</td>\n",
       "      <td>А.Тельнов, С.Федотов</td>\n",
       "      <td>«16+» - для детей старше 16 лет</td>\n",
       "      <td>NaN</td>\n",
       "      <td>NaN</td>\n",
       "      <td>NaN</td>\n",
       "      <td>NaN</td>\n",
       "      <td>4.9</td>\n",
       "      <td>приключения</td>\n",
       "      <td>760.0</td>\n",
       "      <td>приключения</td>\n",
       "    </tr>\n",
       "    <tr>\n",
       "      <th>71</th>\n",
       "      <td>Духless</td>\n",
       "      <td>111000812</td>\n",
       "      <td>2012-02-07 12:00:00</td>\n",
       "      <td>Художественный</td>\n",
       "      <td>ООО \"Киностудия \"Слово\", ООО \"Арт Пикчерс Студио\"</td>\n",
       "      <td>Россия</td>\n",
       "      <td>Р.Прыгунов</td>\n",
       "      <td>П.Ануров, Ф.Бондарчук, Д.Рудовский</td>\n",
       "      <td>«18+» - запрещено для детей</td>\n",
       "      <td>NaN</td>\n",
       "      <td>NaN</td>\n",
       "      <td>NaN</td>\n",
       "      <td>NaN</td>\n",
       "      <td>6.6</td>\n",
       "      <td>драма</td>\n",
       "      <td>480.0</td>\n",
       "      <td>драма</td>\n",
       "    </tr>\n",
       "    <tr>\n",
       "      <th>90</th>\n",
       "      <td>ПЕЛЬМЕНИ</td>\n",
       "      <td>111001013</td>\n",
       "      <td>2013-03-20 12:00:00</td>\n",
       "      <td>Художественный</td>\n",
       "      <td>ООО \"Теорема\"</td>\n",
       "      <td>Россия</td>\n",
       "      <td>Г.Островский</td>\n",
       "      <td>А.Ким</td>\n",
       "      <td>«18+» - запрещено для детей</td>\n",
       "      <td>NaN</td>\n",
       "      <td>NaN</td>\n",
       "      <td>NaN</td>\n",
       "      <td>NaN</td>\n",
       "      <td>6.4</td>\n",
       "      <td>ужасы,драма</td>\n",
       "      <td>860.0</td>\n",
       "      <td>ужасы</td>\n",
       "    </tr>\n",
       "    <tr>\n",
       "      <th>...</th>\n",
       "      <td>...</td>\n",
       "      <td>...</td>\n",
       "      <td>...</td>\n",
       "      <td>...</td>\n",
       "      <td>...</td>\n",
       "      <td>...</td>\n",
       "      <td>...</td>\n",
       "      <td>...</td>\n",
       "      <td>...</td>\n",
       "      <td>...</td>\n",
       "      <td>...</td>\n",
       "      <td>...</td>\n",
       "      <td>...</td>\n",
       "      <td>...</td>\n",
       "      <td>...</td>\n",
       "      <td>...</td>\n",
       "      <td>...</td>\n",
       "    </tr>\n",
       "    <tr>\n",
       "      <th>7405</th>\n",
       "      <td>Кунг-фу Панда 3</td>\n",
       "      <td>224002316</td>\n",
       "      <td>2016-06-07 12:00:00</td>\n",
       "      <td>Анимационный</td>\n",
       "      <td>Чайна Филм Ко.,Дримуоркс Анимэйшн, Ориэнтал Др...</td>\n",
       "      <td>США-КНР</td>\n",
       "      <td>Алессандро Карлони, Дженнифер Ю</td>\n",
       "      <td>Мелисса Кобб</td>\n",
       "      <td>«6+» - для детей старше 6 лет</td>\n",
       "      <td>NaN</td>\n",
       "      <td>NaN</td>\n",
       "      <td>NaN</td>\n",
       "      <td>NaN</td>\n",
       "      <td>7.3</td>\n",
       "      <td>мультфильм,фэнтези,боевик</td>\n",
       "      <td>750.0</td>\n",
       "      <td>мультфильм</td>\n",
       "    </tr>\n",
       "    <tr>\n",
       "      <th>7406</th>\n",
       "      <td>Медведь Йоги</td>\n",
       "      <td>224003711</td>\n",
       "      <td>2011-02-07 12:00:00</td>\n",
       "      <td>Художественный</td>\n",
       "      <td>Уорнер Бразерс, Сансвепт Интертейнмент, Де Лай...</td>\n",
       "      <td>США - Новая Зеландия</td>\n",
       "      <td>Эрик Бревиг</td>\n",
       "      <td>Дональд Де Лайн, Карен Розенфельт</td>\n",
       "      <td>«0+» - для любой зрительской аудитории</td>\n",
       "      <td>NaN</td>\n",
       "      <td>NaN</td>\n",
       "      <td>NaN</td>\n",
       "      <td>NaN</td>\n",
       "      <td>5.3</td>\n",
       "      <td>мультфильм,комедия,приключения</td>\n",
       "      <td>125.0</td>\n",
       "      <td>мультфильм</td>\n",
       "    </tr>\n",
       "    <tr>\n",
       "      <th>7448</th>\n",
       "      <td>Союз зверей /По книге Эрика Кастнера/</td>\n",
       "      <td>224022410</td>\n",
       "      <td>2010-11-18 12:00:00</td>\n",
       "      <td>Анимационный</td>\n",
       "      <td>Эмбиент ИНтертейнмент, Константин Филм, Уайт Х...</td>\n",
       "      <td>Германия</td>\n",
       "      <td>Рейнхард Клоос, Хольгер Таппе</td>\n",
       "      <td>Рейнхард Клоос, Мартин Московиц, Хольгер Таппе...</td>\n",
       "      <td>«0+» - для любой зрительской аудитории</td>\n",
       "      <td>NaN</td>\n",
       "      <td>NaN</td>\n",
       "      <td>NaN</td>\n",
       "      <td>NaN</td>\n",
       "      <td>5.6</td>\n",
       "      <td>мультфильм,комедия,приключения</td>\n",
       "      <td>400.0</td>\n",
       "      <td>мультфильм</td>\n",
       "    </tr>\n",
       "    <tr>\n",
       "      <th>7452</th>\n",
       "      <td>Гадкий Я</td>\n",
       "      <td>224023210</td>\n",
       "      <td>2010-11-23 12:00:00</td>\n",
       "      <td>Анимационный</td>\n",
       "      <td>Иллюминейшн Интертейнмент, Юниверсал Пикчерз</td>\n",
       "      <td>США</td>\n",
       "      <td>Пьер Коффин, Крис Рено</td>\n",
       "      <td>Джон Коэн, Кристофер Милидандри</td>\n",
       "      <td>«0+» - для любой зрительской аудитории</td>\n",
       "      <td>NaN</td>\n",
       "      <td>NaN</td>\n",
       "      <td>NaN</td>\n",
       "      <td>NaN</td>\n",
       "      <td>7.7</td>\n",
       "      <td>мультфильм,фэнтези,комедия</td>\n",
       "      <td>360.0</td>\n",
       "      <td>мультфильм</td>\n",
       "    </tr>\n",
       "    <tr>\n",
       "      <th>7462</th>\n",
       "      <td>Легенды ночных стражей /По мотивам произведени...</td>\n",
       "      <td>224026410</td>\n",
       "      <td>2010-12-10 12:00:00</td>\n",
       "      <td>Анимационный</td>\n",
       "      <td>Уорнер Бразерс, Виллидж Роадшоу Пикчерз</td>\n",
       "      <td>США - Австралия</td>\n",
       "      <td>Зак Снайдер</td>\n",
       "      <td>Зарех Налбандьян</td>\n",
       "      <td>«0+» - для любой зрительской аудитории</td>\n",
       "      <td>NaN</td>\n",
       "      <td>NaN</td>\n",
       "      <td>NaN</td>\n",
       "      <td>NaN</td>\n",
       "      <td>7.5</td>\n",
       "      <td>мультфильм,фэнтези,боевик</td>\n",
       "      <td>400.0</td>\n",
       "      <td>мультфильм</td>\n",
       "    </tr>\n",
       "  </tbody>\n",
       "</table>\n",
       "<p>231 rows × 17 columns</p>\n",
       "</div>"
      ],
      "text/plain": [
       "                                                  title   puNumber  \\\n",
       "13                            Ржевский против Наполеона  111000212   \n",
       "24                          ОХОТА НА ПРИНЦЕССУ. Часть 2  111000313   \n",
       "50                                      Золотое сечение  111000610   \n",
       "71                                              Духless  111000812   \n",
       "90                                             ПЕЛЬМЕНИ  111001013   \n",
       "...                                                 ...        ...   \n",
       "7405                                    Кунг-фу Панда 3  224002316   \n",
       "7406                                       Медведь Йоги  224003711   \n",
       "7448              Союз зверей /По книге Эрика Кастнера/  224022410   \n",
       "7452                                           Гадкий Я  224023210   \n",
       "7462  Легенды ночных стражей /По мотивам произведени...  224026410   \n",
       "\n",
       "         show_start_date            type  \\\n",
       "13   2012-01-12 12:00:00  Художественный   \n",
       "24   2013-01-31 12:00:00  Художественный   \n",
       "50   2010-01-26 12:00:00  Художественный   \n",
       "71   2012-02-07 12:00:00  Художественный   \n",
       "90   2013-03-20 12:00:00  Художественный   \n",
       "...                  ...             ...   \n",
       "7405 2016-06-07 12:00:00    Анимационный   \n",
       "7406 2011-02-07 12:00:00  Художественный   \n",
       "7448 2010-11-18 12:00:00    Анимационный   \n",
       "7452 2010-11-23 12:00:00    Анимационный   \n",
       "7462 2010-12-10 12:00:00    Анимационный   \n",
       "\n",
       "                                            film_studio    production_country  \\\n",
       "13                                ООО \"Территория Кино\"                Россия   \n",
       "24                     ООО Киностудия \"Сагиттариус - Д\"                Россия   \n",
       "50    ОАО \"ТПО \"Санкт-Петербургская студия документа...                Россия   \n",
       "71    ООО \"Киностудия \"Слово\", ООО \"Арт Пикчерс Студио\"                Россия   \n",
       "90                                        ООО \"Теорема\"                Россия   \n",
       "...                                                 ...                   ...   \n",
       "7405  Чайна Филм Ко.,Дримуоркс Анимэйшн, Ориэнтал Др...               США-КНР   \n",
       "7406  Уорнер Бразерс, Сансвепт Интертейнмент, Де Лай...  США - Новая Зеландия   \n",
       "7448  Эмбиент ИНтертейнмент, Константин Филм, Уайт Х...              Германия   \n",
       "7452       Иллюминейшн Интертейнмент, Юниверсал Пикчерз                   США   \n",
       "7462            Уорнер Бразерс, Виллидж Роадшоу Пикчерз       США - Австралия   \n",
       "\n",
       "                             director  \\\n",
       "13                        М.Бальчунас   \n",
       "24                        С.Дружинина   \n",
       "50                          С.Дебижев   \n",
       "71                         Р.Прыгунов   \n",
       "90                       Г.Островский   \n",
       "...                               ...   \n",
       "7405  Алессандро Карлони, Дженнифер Ю   \n",
       "7406                      Эрик Бревиг   \n",
       "7448    Рейнхард Клоос, Хольгер Таппе   \n",
       "7452           Пьер Коффин, Крис Рено   \n",
       "7462                      Зак Снайдер   \n",
       "\n",
       "                                               producer  \\\n",
       "13                               ООО \"Квартал Леополис\"   \n",
       "24                                          С.Дружинина   \n",
       "50                                 А.Тельнов, С.Федотов   \n",
       "71                   П.Ануров, Ф.Бондарчук, Д.Рудовский   \n",
       "90                                                А.Ким   \n",
       "...                                                 ...   \n",
       "7405                                       Мелисса Кобб   \n",
       "7406                  Дональд Де Лайн, Карен Розенфельт   \n",
       "7448  Рейнхард Клоос, Мартин Московиц, Хольгер Таппе...   \n",
       "7452                    Джон Коэн, Кристофер Милидандри   \n",
       "7462                                   Зарех Налбандьян   \n",
       "\n",
       "                             age_restriction  refundable_support  \\\n",
       "13           «16+» - для детей старше 16 лет                 NaN   \n",
       "24           «12+» - для детей старше 12 лет                 NaN   \n",
       "50           «16+» - для детей старше 16 лет                 NaN   \n",
       "71               «18+» - запрещено для детей                 NaN   \n",
       "90               «18+» - запрещено для детей                 NaN   \n",
       "...                                      ...                 ...   \n",
       "7405           «6+» - для детей старше 6 лет                 NaN   \n",
       "7406  «0+» - для любой зрительской аудитории                 NaN   \n",
       "7448  «0+» - для любой зрительской аудитории                 NaN   \n",
       "7452  «0+» - для любой зрительской аудитории                 NaN   \n",
       "7462  «0+» - для любой зрительской аудитории                 NaN   \n",
       "\n",
       "      nonrefundable_support  budget financing_source  ratings  \\\n",
       "13                      NaN     NaN              NaN      3.0   \n",
       "24                      NaN     NaN              NaN      6.1   \n",
       "50                      NaN     NaN              NaN      4.9   \n",
       "71                      NaN     NaN              NaN      6.6   \n",
       "90                      NaN     NaN              NaN      6.4   \n",
       "...                     ...     ...              ...      ...   \n",
       "7405                    NaN     NaN              NaN      7.3   \n",
       "7406                    NaN     NaN              NaN      5.3   \n",
       "7448                    NaN     NaN              NaN      5.6   \n",
       "7452                    NaN     NaN              NaN      7.7   \n",
       "7462                    NaN     NaN              NaN      7.5   \n",
       "\n",
       "                              genres  box_office  main_genres  \n",
       "13                           комедия       200.0      комедия  \n",
       "24                     драма,история       710.0        драма  \n",
       "50                       приключения       760.0  приключения  \n",
       "71                             драма       480.0        драма  \n",
       "90                       ужасы,драма       860.0        ужасы  \n",
       "...                              ...         ...          ...  \n",
       "7405       мультфильм,фэнтези,боевик       750.0   мультфильм  \n",
       "7406  мультфильм,комедия,приключения       125.0   мультфильм  \n",
       "7448  мультфильм,комедия,приключения       400.0   мультфильм  \n",
       "7452      мультфильм,фэнтези,комедия       360.0   мультфильм  \n",
       "7462       мультфильм,фэнтези,боевик       400.0   мультфильм  \n",
       "\n",
       "[231 rows x 17 columns]"
      ]
     },
     "execution_count": 65,
     "metadata": {},
     "output_type": "execute_result"
    }
   ],
   "source": [
    "data_movies[data_movies['box_office'] < 1000]"
   ]
  },
  {
   "cell_type": "code",
   "execution_count": 66,
   "id": "96bc566f",
   "metadata": {},
   "outputs": [
    {
     "name": "stdout",
     "output_type": "stream",
     "text": [
      " 6.56%\n"
     ]
    }
   ],
   "source": [
    "box_1 = data_movies[data_movies['box_office'] < 1000]['title'].count()\n",
    "box_2 = data_movies[data_movies['box_office'] == 0]['title'].count()\n",
    "box_3 = data_movies['box_office'].count()\n",
    "percent_box_office = (box_1 - box_2)/ box_3\n",
    "print( f'{percent_box_office : 0.2%}' )"
   ]
  },
  {
   "cell_type": "markdown",
   "id": "a78fdda6",
   "metadata": {},
   "source": [
    "#### Добавление новых столбцов"
   ]
  },
  {
   "cell_type": "markdown",
   "id": "8498e381",
   "metadata": {},
   "source": [
    "Создадим столбец с информацией о годе проката и выделим год из даты премьеры фильма."
   ]
  },
  {
   "cell_type": "code",
   "execution_count": 67,
   "id": "cd2bb7c7",
   "metadata": {},
   "outputs": [],
   "source": [
    "data_movies['start_year'] = pd.DatetimeIndex(data_movies['show_start_date']).year"
   ]
  },
  {
   "cell_type": "code",
   "execution_count": 68,
   "id": "92d1877d",
   "metadata": {},
   "outputs": [
    {
     "data": {
      "text/html": [
       "<div>\n",
       "<style scoped>\n",
       "    .dataframe tbody tr th:only-of-type {\n",
       "        vertical-align: middle;\n",
       "    }\n",
       "\n",
       "    .dataframe tbody tr th {\n",
       "        vertical-align: top;\n",
       "    }\n",
       "\n",
       "    .dataframe thead th {\n",
       "        text-align: right;\n",
       "    }\n",
       "</style>\n",
       "<table border=\"1\" class=\"dataframe\">\n",
       "  <thead>\n",
       "    <tr style=\"text-align: right;\">\n",
       "      <th></th>\n",
       "      <th>title</th>\n",
       "      <th>puNumber</th>\n",
       "      <th>show_start_date</th>\n",
       "      <th>type</th>\n",
       "      <th>film_studio</th>\n",
       "      <th>production_country</th>\n",
       "      <th>director</th>\n",
       "      <th>producer</th>\n",
       "      <th>age_restriction</th>\n",
       "      <th>refundable_support</th>\n",
       "      <th>nonrefundable_support</th>\n",
       "      <th>budget</th>\n",
       "      <th>financing_source</th>\n",
       "      <th>ratings</th>\n",
       "      <th>genres</th>\n",
       "      <th>box_office</th>\n",
       "      <th>main_genres</th>\n",
       "      <th>start_year</th>\n",
       "    </tr>\n",
       "  </thead>\n",
       "  <tbody>\n",
       "    <tr>\n",
       "      <th>0</th>\n",
       "      <td>1001 рецепт влюбленного кулинара</td>\n",
       "      <td>1811096</td>\n",
       "      <td>2010-12-23 12:00:00</td>\n",
       "      <td>Художественный</td>\n",
       "      <td>Ле Фильм дю Риваж, Ля Сет Синема, Адам и Ева, ...</td>\n",
       "      <td>Франция-Грузия-Германия-Россия-Украина-Бельгия</td>\n",
       "      <td>Н.Джорджадзе</td>\n",
       "      <td>Без продюсера</td>\n",
       "      <td>«0+» - для любой зрительской аудитории</td>\n",
       "      <td>NaN</td>\n",
       "      <td>NaN</td>\n",
       "      <td>NaN</td>\n",
       "      <td>NaN</td>\n",
       "      <td>6.7</td>\n",
       "      <td>мелодрама,комедия</td>\n",
       "      <td>NaN</td>\n",
       "      <td>мелодрама</td>\n",
       "      <td>2010</td>\n",
       "    </tr>\n",
       "    <tr>\n",
       "      <th>1</th>\n",
       "      <td>Небесный тихоход (новая цветная версия)</td>\n",
       "      <td>111000110</td>\n",
       "      <td>2010-01-14 12:00:00</td>\n",
       "      <td>Художественный</td>\n",
       "      <td>Киностудия \"Ленфильм\", ЗАО \"Киновидеообъединен...</td>\n",
       "      <td>СССР, Россия</td>\n",
       "      <td>И.Цветов (режиссер ч/б фильма - С.Тимошенко)</td>\n",
       "      <td>ЗАО \"Киновидеообъединение \"Крупный план\"</td>\n",
       "      <td>«0+» - для любой зрительской аудитории</td>\n",
       "      <td>NaN</td>\n",
       "      <td>NaN</td>\n",
       "      <td>NaN</td>\n",
       "      <td>NaN</td>\n",
       "      <td>8.0</td>\n",
       "      <td>комедия,военный</td>\n",
       "      <td>NaN</td>\n",
       "      <td>комедия</td>\n",
       "      <td>2010</td>\n",
       "    </tr>\n",
       "    <tr>\n",
       "      <th>2</th>\n",
       "      <td>И не было лучше брата</td>\n",
       "      <td>111000111</td>\n",
       "      <td>2011-01-13 12:00:00</td>\n",
       "      <td>Художественный</td>\n",
       "      <td>ООО \"Ибрус\"  при поддержке Киностудии \"Азербай...</td>\n",
       "      <td>Россия - Азербайджан</td>\n",
       "      <td>М.Ибрагимбеков</td>\n",
       "      <td>М.Ибрагимбеков, А.Швыдкой, Д.Шуфутинский</td>\n",
       "      <td>«16+» - для детей старше 16 лет</td>\n",
       "      <td>NaN</td>\n",
       "      <td>NaN</td>\n",
       "      <td>NaN</td>\n",
       "      <td>NaN</td>\n",
       "      <td>6.7</td>\n",
       "      <td>детектив</td>\n",
       "      <td>NaN</td>\n",
       "      <td>детектив</td>\n",
       "      <td>2011</td>\n",
       "    </tr>\n",
       "    <tr>\n",
       "      <th>3</th>\n",
       "      <td>Детский юмористический киножурнал \"Ералаш\", вы...</td>\n",
       "      <td>111000112</td>\n",
       "      <td>2012-01-16 12:00:00</td>\n",
       "      <td>Художественный</td>\n",
       "      <td>ООО \"Ералаш\"</td>\n",
       "      <td>Россия</td>\n",
       "      <td>В.Панжев, Г.Курлаев, И.Белостоцкий, М.Сулейман...</td>\n",
       "      <td>ООО \"Ералаш\"</td>\n",
       "      <td>«0+» - для любой зрительской аудитории</td>\n",
       "      <td>NaN</td>\n",
       "      <td>NaN</td>\n",
       "      <td>NaN</td>\n",
       "      <td>NaN</td>\n",
       "      <td>7.2</td>\n",
       "      <td>детский,комедия</td>\n",
       "      <td>NaN</td>\n",
       "      <td>детский</td>\n",
       "      <td>2012</td>\n",
       "    </tr>\n",
       "    <tr>\n",
       "      <th>4</th>\n",
       "      <td>Тайна перевала Дятлова</td>\n",
       "      <td>111000113</td>\n",
       "      <td>2013-01-17 12:00:00</td>\n",
       "      <td>Художественный</td>\n",
       "      <td>ООО \"Нон-Стоп Продакшн\"</td>\n",
       "      <td>Россия</td>\n",
       "      <td>Ренни Харлин</td>\n",
       "      <td>А.Роднянский, С.Мелькумов, С.Беспалов, Киа Джэм</td>\n",
       "      <td>«16+» - для детей старше 16 лет</td>\n",
       "      <td>NaN</td>\n",
       "      <td>NaN</td>\n",
       "      <td>NaN</td>\n",
       "      <td>NaN</td>\n",
       "      <td>5.1</td>\n",
       "      <td>ужасы,фантастика</td>\n",
       "      <td>2450.0</td>\n",
       "      <td>ужасы</td>\n",
       "      <td>2013</td>\n",
       "    </tr>\n",
       "  </tbody>\n",
       "</table>\n",
       "</div>"
      ],
      "text/plain": [
       "                                               title   puNumber  \\\n",
       "0                   1001 рецепт влюбленного кулинара    1811096   \n",
       "1            Небесный тихоход (новая цветная версия)  111000110   \n",
       "2                              И не было лучше брата  111000111   \n",
       "3  Детский юмористический киножурнал \"Ералаш\", вы...  111000112   \n",
       "4                             Тайна перевала Дятлова  111000113   \n",
       "\n",
       "      show_start_date            type  \\\n",
       "0 2010-12-23 12:00:00  Художественный   \n",
       "1 2010-01-14 12:00:00  Художественный   \n",
       "2 2011-01-13 12:00:00  Художественный   \n",
       "3 2012-01-16 12:00:00  Художественный   \n",
       "4 2013-01-17 12:00:00  Художественный   \n",
       "\n",
       "                                         film_studio  \\\n",
       "0  Ле Фильм дю Риваж, Ля Сет Синема, Адам и Ева, ...   \n",
       "1  Киностудия \"Ленфильм\", ЗАО \"Киновидеообъединен...   \n",
       "2  ООО \"Ибрус\"  при поддержке Киностудии \"Азербай...   \n",
       "3                                       ООО \"Ералаш\"   \n",
       "4                            ООО \"Нон-Стоп Продакшн\"   \n",
       "\n",
       "                               production_country  \\\n",
       "0  Франция-Грузия-Германия-Россия-Украина-Бельгия   \n",
       "1                                    СССР, Россия   \n",
       "2                            Россия - Азербайджан   \n",
       "3                                          Россия   \n",
       "4                                          Россия   \n",
       "\n",
       "                                            director  \\\n",
       "0                                       Н.Джорджадзе   \n",
       "1       И.Цветов (режиссер ч/б фильма - С.Тимошенко)   \n",
       "2                                     М.Ибрагимбеков   \n",
       "3  В.Панжев, Г.Курлаев, И.Белостоцкий, М.Сулейман...   \n",
       "4                                       Ренни Харлин   \n",
       "\n",
       "                                          producer  \\\n",
       "0                                    Без продюсера   \n",
       "1         ЗАО \"Киновидеообъединение \"Крупный план\"   \n",
       "2         М.Ибрагимбеков, А.Швыдкой, Д.Шуфутинский   \n",
       "3                                     ООО \"Ералаш\"   \n",
       "4  А.Роднянский, С.Мелькумов, С.Беспалов, Киа Джэм   \n",
       "\n",
       "                          age_restriction  refundable_support  \\\n",
       "0  «0+» - для любой зрительской аудитории                 NaN   \n",
       "1  «0+» - для любой зрительской аудитории                 NaN   \n",
       "2         «16+» - для детей старше 16 лет                 NaN   \n",
       "3  «0+» - для любой зрительской аудитории                 NaN   \n",
       "4         «16+» - для детей старше 16 лет                 NaN   \n",
       "\n",
       "   nonrefundable_support  budget financing_source  ratings             genres  \\\n",
       "0                    NaN     NaN              NaN      6.7  мелодрама,комедия   \n",
       "1                    NaN     NaN              NaN      8.0    комедия,военный   \n",
       "2                    NaN     NaN              NaN      6.7           детектив   \n",
       "3                    NaN     NaN              NaN      7.2    детский,комедия   \n",
       "4                    NaN     NaN              NaN      5.1   ужасы,фантастика   \n",
       "\n",
       "   box_office main_genres  start_year  \n",
       "0         NaN   мелодрама        2010  \n",
       "1         NaN     комедия        2010  \n",
       "2         NaN    детектив        2011  \n",
       "3         NaN     детский        2012  \n",
       "4      2450.0       ужасы        2013  "
      ]
     },
     "execution_count": 68,
     "metadata": {},
     "output_type": "execute_result"
    }
   ],
   "source": [
    "data_movies.head()"
   ]
  },
  {
   "cell_type": "markdown",
   "id": "50dd9533",
   "metadata": {},
   "source": [
    "Создадим два столбца: с именем и фамилией главного режиссёра и основным жанром фильма. В столбцы войдут первые значения из списка режиссёров и жанров соответственно.\n",
    "Со столбцом genres (жанр фильма) мы производили изменения на этапе переработки категориальных значениях, результатом был столбец main_genres. Аналогичным образом поступим для создания столбца с именем и фамилией главного режиссёра."
   ]
  },
  {
   "cell_type": "code",
   "execution_count": 69,
   "id": "8a8fc283",
   "metadata": {},
   "outputs": [],
   "source": [
    "def basic_director(data_movies, director):# (датафрейм, [столбец из которых извлекаются данные])\n",
    "    for column in director:\n",
    "        data_movies[f'main_{column}'] = data_movies[column].str.split(',').str[0]\n",
    "    return data_movies"
   ]
  },
  {
   "cell_type": "code",
   "execution_count": 70,
   "id": "0cccc1cb",
   "metadata": {},
   "outputs": [],
   "source": [
    "data_movies = basic_director(data_movies, ['director'])"
   ]
  },
  {
   "cell_type": "code",
   "execution_count": 71,
   "id": "6b1f60f3",
   "metadata": {
    "scrolled": true
   },
   "outputs": [
    {
     "data": {
      "text/html": [
       "<div>\n",
       "<style scoped>\n",
       "    .dataframe tbody tr th:only-of-type {\n",
       "        vertical-align: middle;\n",
       "    }\n",
       "\n",
       "    .dataframe tbody tr th {\n",
       "        vertical-align: top;\n",
       "    }\n",
       "\n",
       "    .dataframe thead th {\n",
       "        text-align: right;\n",
       "    }\n",
       "</style>\n",
       "<table border=\"1\" class=\"dataframe\">\n",
       "  <thead>\n",
       "    <tr style=\"text-align: right;\">\n",
       "      <th></th>\n",
       "      <th>title</th>\n",
       "      <th>puNumber</th>\n",
       "      <th>show_start_date</th>\n",
       "      <th>type</th>\n",
       "      <th>film_studio</th>\n",
       "      <th>production_country</th>\n",
       "      <th>director</th>\n",
       "      <th>producer</th>\n",
       "      <th>age_restriction</th>\n",
       "      <th>refundable_support</th>\n",
       "      <th>nonrefundable_support</th>\n",
       "      <th>budget</th>\n",
       "      <th>financing_source</th>\n",
       "      <th>ratings</th>\n",
       "      <th>genres</th>\n",
       "      <th>box_office</th>\n",
       "      <th>main_genres</th>\n",
       "      <th>start_year</th>\n",
       "      <th>main_director</th>\n",
       "    </tr>\n",
       "  </thead>\n",
       "  <tbody>\n",
       "    <tr>\n",
       "      <th>0</th>\n",
       "      <td>1001 рецепт влюбленного кулинара</td>\n",
       "      <td>1811096</td>\n",
       "      <td>2010-12-23 12:00:00</td>\n",
       "      <td>Художественный</td>\n",
       "      <td>Ле Фильм дю Риваж, Ля Сет Синема, Адам и Ева, ...</td>\n",
       "      <td>Франция-Грузия-Германия-Россия-Украина-Бельгия</td>\n",
       "      <td>Н.Джорджадзе</td>\n",
       "      <td>Без продюсера</td>\n",
       "      <td>«0+» - для любой зрительской аудитории</td>\n",
       "      <td>NaN</td>\n",
       "      <td>NaN</td>\n",
       "      <td>NaN</td>\n",
       "      <td>NaN</td>\n",
       "      <td>6.7</td>\n",
       "      <td>мелодрама,комедия</td>\n",
       "      <td>NaN</td>\n",
       "      <td>мелодрама</td>\n",
       "      <td>2010</td>\n",
       "      <td>Н.Джорджадзе</td>\n",
       "    </tr>\n",
       "    <tr>\n",
       "      <th>1</th>\n",
       "      <td>Небесный тихоход (новая цветная версия)</td>\n",
       "      <td>111000110</td>\n",
       "      <td>2010-01-14 12:00:00</td>\n",
       "      <td>Художественный</td>\n",
       "      <td>Киностудия \"Ленфильм\", ЗАО \"Киновидеообъединен...</td>\n",
       "      <td>СССР, Россия</td>\n",
       "      <td>И.Цветов (режиссер ч/б фильма - С.Тимошенко)</td>\n",
       "      <td>ЗАО \"Киновидеообъединение \"Крупный план\"</td>\n",
       "      <td>«0+» - для любой зрительской аудитории</td>\n",
       "      <td>NaN</td>\n",
       "      <td>NaN</td>\n",
       "      <td>NaN</td>\n",
       "      <td>NaN</td>\n",
       "      <td>8.0</td>\n",
       "      <td>комедия,военный</td>\n",
       "      <td>NaN</td>\n",
       "      <td>комедия</td>\n",
       "      <td>2010</td>\n",
       "      <td>И.Цветов (режиссер ч/б фильма - С.Тимошенко)</td>\n",
       "    </tr>\n",
       "    <tr>\n",
       "      <th>2</th>\n",
       "      <td>И не было лучше брата</td>\n",
       "      <td>111000111</td>\n",
       "      <td>2011-01-13 12:00:00</td>\n",
       "      <td>Художественный</td>\n",
       "      <td>ООО \"Ибрус\"  при поддержке Киностудии \"Азербай...</td>\n",
       "      <td>Россия - Азербайджан</td>\n",
       "      <td>М.Ибрагимбеков</td>\n",
       "      <td>М.Ибрагимбеков, А.Швыдкой, Д.Шуфутинский</td>\n",
       "      <td>«16+» - для детей старше 16 лет</td>\n",
       "      <td>NaN</td>\n",
       "      <td>NaN</td>\n",
       "      <td>NaN</td>\n",
       "      <td>NaN</td>\n",
       "      <td>6.7</td>\n",
       "      <td>детектив</td>\n",
       "      <td>NaN</td>\n",
       "      <td>детектив</td>\n",
       "      <td>2011</td>\n",
       "      <td>М.Ибрагимбеков</td>\n",
       "    </tr>\n",
       "    <tr>\n",
       "      <th>3</th>\n",
       "      <td>Детский юмористический киножурнал \"Ералаш\", вы...</td>\n",
       "      <td>111000112</td>\n",
       "      <td>2012-01-16 12:00:00</td>\n",
       "      <td>Художественный</td>\n",
       "      <td>ООО \"Ералаш\"</td>\n",
       "      <td>Россия</td>\n",
       "      <td>В.Панжев, Г.Курлаев, И.Белостоцкий, М.Сулейман...</td>\n",
       "      <td>ООО \"Ералаш\"</td>\n",
       "      <td>«0+» - для любой зрительской аудитории</td>\n",
       "      <td>NaN</td>\n",
       "      <td>NaN</td>\n",
       "      <td>NaN</td>\n",
       "      <td>NaN</td>\n",
       "      <td>7.2</td>\n",
       "      <td>детский,комедия</td>\n",
       "      <td>NaN</td>\n",
       "      <td>детский</td>\n",
       "      <td>2012</td>\n",
       "      <td>В.Панжев</td>\n",
       "    </tr>\n",
       "    <tr>\n",
       "      <th>4</th>\n",
       "      <td>Тайна перевала Дятлова</td>\n",
       "      <td>111000113</td>\n",
       "      <td>2013-01-17 12:00:00</td>\n",
       "      <td>Художественный</td>\n",
       "      <td>ООО \"Нон-Стоп Продакшн\"</td>\n",
       "      <td>Россия</td>\n",
       "      <td>Ренни Харлин</td>\n",
       "      <td>А.Роднянский, С.Мелькумов, С.Беспалов, Киа Джэм</td>\n",
       "      <td>«16+» - для детей старше 16 лет</td>\n",
       "      <td>NaN</td>\n",
       "      <td>NaN</td>\n",
       "      <td>NaN</td>\n",
       "      <td>NaN</td>\n",
       "      <td>5.1</td>\n",
       "      <td>ужасы,фантастика</td>\n",
       "      <td>2450.0</td>\n",
       "      <td>ужасы</td>\n",
       "      <td>2013</td>\n",
       "      <td>Ренни Харлин</td>\n",
       "    </tr>\n",
       "  </tbody>\n",
       "</table>\n",
       "</div>"
      ],
      "text/plain": [
       "                                               title   puNumber  \\\n",
       "0                   1001 рецепт влюбленного кулинара    1811096   \n",
       "1            Небесный тихоход (новая цветная версия)  111000110   \n",
       "2                              И не было лучше брата  111000111   \n",
       "3  Детский юмористический киножурнал \"Ералаш\", вы...  111000112   \n",
       "4                             Тайна перевала Дятлова  111000113   \n",
       "\n",
       "      show_start_date            type  \\\n",
       "0 2010-12-23 12:00:00  Художественный   \n",
       "1 2010-01-14 12:00:00  Художественный   \n",
       "2 2011-01-13 12:00:00  Художественный   \n",
       "3 2012-01-16 12:00:00  Художественный   \n",
       "4 2013-01-17 12:00:00  Художественный   \n",
       "\n",
       "                                         film_studio  \\\n",
       "0  Ле Фильм дю Риваж, Ля Сет Синема, Адам и Ева, ...   \n",
       "1  Киностудия \"Ленфильм\", ЗАО \"Киновидеообъединен...   \n",
       "2  ООО \"Ибрус\"  при поддержке Киностудии \"Азербай...   \n",
       "3                                       ООО \"Ералаш\"   \n",
       "4                            ООО \"Нон-Стоп Продакшн\"   \n",
       "\n",
       "                               production_country  \\\n",
       "0  Франция-Грузия-Германия-Россия-Украина-Бельгия   \n",
       "1                                    СССР, Россия   \n",
       "2                            Россия - Азербайджан   \n",
       "3                                          Россия   \n",
       "4                                          Россия   \n",
       "\n",
       "                                            director  \\\n",
       "0                                       Н.Джорджадзе   \n",
       "1       И.Цветов (режиссер ч/б фильма - С.Тимошенко)   \n",
       "2                                     М.Ибрагимбеков   \n",
       "3  В.Панжев, Г.Курлаев, И.Белостоцкий, М.Сулейман...   \n",
       "4                                       Ренни Харлин   \n",
       "\n",
       "                                          producer  \\\n",
       "0                                    Без продюсера   \n",
       "1         ЗАО \"Киновидеообъединение \"Крупный план\"   \n",
       "2         М.Ибрагимбеков, А.Швыдкой, Д.Шуфутинский   \n",
       "3                                     ООО \"Ералаш\"   \n",
       "4  А.Роднянский, С.Мелькумов, С.Беспалов, Киа Джэм   \n",
       "\n",
       "                          age_restriction  refundable_support  \\\n",
       "0  «0+» - для любой зрительской аудитории                 NaN   \n",
       "1  «0+» - для любой зрительской аудитории                 NaN   \n",
       "2         «16+» - для детей старше 16 лет                 NaN   \n",
       "3  «0+» - для любой зрительской аудитории                 NaN   \n",
       "4         «16+» - для детей старше 16 лет                 NaN   \n",
       "\n",
       "   nonrefundable_support  budget financing_source  ratings             genres  \\\n",
       "0                    NaN     NaN              NaN      6.7  мелодрама,комедия   \n",
       "1                    NaN     NaN              NaN      8.0    комедия,военный   \n",
       "2                    NaN     NaN              NaN      6.7           детектив   \n",
       "3                    NaN     NaN              NaN      7.2    детский,комедия   \n",
       "4                    NaN     NaN              NaN      5.1   ужасы,фантастика   \n",
       "\n",
       "   box_office main_genres  start_year  \\\n",
       "0         NaN   мелодрама        2010   \n",
       "1         NaN     комедия        2010   \n",
       "2         NaN    детектив        2011   \n",
       "3         NaN     детский        2012   \n",
       "4      2450.0       ужасы        2013   \n",
       "\n",
       "                                  main_director  \n",
       "0                                  Н.Джорджадзе  \n",
       "1  И.Цветов (режиссер ч/б фильма - С.Тимошенко)  \n",
       "2                                М.Ибрагимбеков  \n",
       "3                                      В.Панжев  \n",
       "4                                  Ренни Харлин  "
      ]
     },
     "execution_count": 71,
     "metadata": {},
     "output_type": "execute_result"
    }
   ],
   "source": [
    "data_movies.head()"
   ]
  },
  {
   "cell_type": "markdown",
   "id": "1e535267",
   "metadata": {},
   "source": [
    "Посчитаем, какую долю от общего бюджета фильма составляет государственная поддержка."
   ]
  },
  {
   "cell_type": "code",
   "execution_count": 72,
   "id": "dd62ffd8",
   "metadata": {},
   "outputs": [
    {
     "data": {
      "text/plain": [
       "'Государственная поддержка от общего бюджета фильма в медианном значении составляет %:'"
      ]
     },
     "metadata": {},
     "output_type": "display_data"
    },
    {
     "data": {
      "text/plain": [
       "30.7"
      ]
     },
     "metadata": {},
     "output_type": "display_data"
    }
   ],
   "source": [
    "display('Государственная поддержка от общего бюджета фильма в медианном значении составляет %:',\\\n",
    "        round(data_movies.eval('(refundable_support + nonrefundable_support) / budget').median() * 100, 2))"
   ]
  },
  {
   "cell_type": "markdown",
   "id": "bcfe1301",
   "metadata": {},
   "source": [
    "На этапе предобработки данных:\n",
    "- преобразовал тип данных в столбце show_start_date к типу Datetime, в солбце ratings к типу float;    \n",
    "- заполнил пропуски: в столбце producer - \"Без продюсера\" (так как логически заменить нечем); в столбцах refundable_support, nonrefundable_support, budget, financing_source количество пропущенных значений одинаковы, поэтому пропуски трогать не стал; в столбце production_country, film_studio и director содержалось относительно мало пустых значений, поэтому удалил их; в столбце ratings предположил, что данные не указали так как этих фильмов нет на ресурсе КиноПоиск, либо оценок слишком мало для формирования рейтинга, оставим пропуски; в столбце genres - \"Без жанра\" (так как логически заменить нечем); в столбце box_office использовали все данные из таблицы mkrf_shows, других данных у нас нет, оставил пропуски, как есть;    \n",
    "- проверил на дубликаты: полных дубликатов не оказалось; повторы в столбце title возможно связаны с тем, что у одних и техже фильмов могли быть разные прокатные удостоверения, так как выдавались под разные прокатные цели; выявил 4 фильма с одинаковыми прокатными номерами, так как прокатный номер является идентификатором, присвоил двум фильмам собственные номера;    \n",
    "- изучил категориальные значения в столбцах type, age_restriction, genres, financing_source: удалил лишние пробелы в столбце type; в столбце genres оказалось слишком много жанров, часть из которых вариация из нескольких жанров, с помощью функции выделил в строке первый жанр как основной в отдельный столбец; в столбце age_restriction и financing_source преобразований никаких не потребовалось;    \n",
    "- изучил количественные значения в столбцах refundable_support, nonrefundable_support, budget: предположил, что процент поддержки всегда примерно одинаков и заменил эту сумму медианным процентом от поддержки, которую нашел по суммам, которые выделялись другим фильмам, определил процент государственной поддержки он обычно равен 61%, заполнил пропущенные значения в budget;    \n",
    "- создал столбец с информацией о годе проката и выделим год из даты премьеры фильма; создал столбец с именем и фамилией главного режиссёра; посчитал какая доля от общего бюджета фильма составляет государственная поддержка, она составляет 61.4%."
   ]
  },
  {
   "cell_type": "markdown",
   "id": "ef5e98e6",
   "metadata": {},
   "source": [
    "### Исследовательский анализ данных"
   ]
  },
  {
   "cell_type": "markdown",
   "id": "4b4446e0",
   "metadata": {},
   "source": [
    "Посмотрите, сколько фильмов выходило в прокат каждый год. Обратите внимание, что данные о прокате в кинотеатрах известны не для всех фильмов. Посчитайте, какую долю составляют фильмы с указанной информацией о прокате в кинотеатрах. Проанализируйте, как эта доля менялась по годам. Сделайте вывод о том, какой период полнее всего представлен в данных."
   ]
  },
  {
   "cell_type": "markdown",
   "id": "4ade8707",
   "metadata": {},
   "source": [
    "Выясним, сколько фильмов выходило в прокат в имеющихся годах"
   ]
  },
  {
   "cell_type": "code",
   "execution_count": 73,
   "id": "9fcded5c",
   "metadata": {},
   "outputs": [
    {
     "data": {
      "text/html": [
       "<div>\n",
       "<style scoped>\n",
       "    .dataframe tbody tr th:only-of-type {\n",
       "        vertical-align: middle;\n",
       "    }\n",
       "\n",
       "    .dataframe tbody tr th {\n",
       "        vertical-align: top;\n",
       "    }\n",
       "\n",
       "    .dataframe thead th {\n",
       "        text-align: right;\n",
       "    }\n",
       "</style>\n",
       "<table border=\"1\" class=\"dataframe\">\n",
       "  <thead>\n",
       "    <tr style=\"text-align: right;\">\n",
       "      <th></th>\n",
       "      <th>year</th>\n",
       "      <th>movies_rental</th>\n",
       "    </tr>\n",
       "  </thead>\n",
       "  <tbody>\n",
       "    <tr>\n",
       "      <th>0</th>\n",
       "      <td>2010</td>\n",
       "      <td>105</td>\n",
       "    </tr>\n",
       "    <tr>\n",
       "      <th>1</th>\n",
       "      <td>2011</td>\n",
       "      <td>109</td>\n",
       "    </tr>\n",
       "    <tr>\n",
       "      <th>2</th>\n",
       "      <td>2012</td>\n",
       "      <td>127</td>\n",
       "    </tr>\n",
       "    <tr>\n",
       "      <th>3</th>\n",
       "      <td>2013</td>\n",
       "      <td>184</td>\n",
       "    </tr>\n",
       "    <tr>\n",
       "      <th>4</th>\n",
       "      <td>2014</td>\n",
       "      <td>279</td>\n",
       "    </tr>\n",
       "    <tr>\n",
       "      <th>5</th>\n",
       "      <td>2015</td>\n",
       "      <td>465</td>\n",
       "    </tr>\n",
       "    <tr>\n",
       "      <th>6</th>\n",
       "      <td>2016</td>\n",
       "      <td>525</td>\n",
       "    </tr>\n",
       "    <tr>\n",
       "      <th>7</th>\n",
       "      <td>2017</td>\n",
       "      <td>357</td>\n",
       "    </tr>\n",
       "    <tr>\n",
       "      <th>8</th>\n",
       "      <td>2018</td>\n",
       "      <td>474</td>\n",
       "    </tr>\n",
       "    <tr>\n",
       "      <th>9</th>\n",
       "      <td>2019</td>\n",
       "      <td>530</td>\n",
       "    </tr>\n",
       "  </tbody>\n",
       "</table>\n",
       "</div>"
      ],
      "text/plain": [
       "   year  movies_rental\n",
       "0  2010            105\n",
       "1  2011            109\n",
       "2  2012            127\n",
       "3  2013            184\n",
       "4  2014            279\n",
       "5  2015            465\n",
       "6  2016            525\n",
       "7  2017            357\n",
       "8  2018            474\n",
       "9  2019            530"
      ]
     },
     "execution_count": 73,
     "metadata": {},
     "output_type": "execute_result"
    }
   ],
   "source": [
    "movie = data_movies.groupby('start_year')['box_office'].count()\n",
    "movie = movie.to_frame().reset_index()\n",
    "movie.rename(columns={'start_year':'year', 'box_office':'movies_rental'}, inplace=True)\n",
    "movie"
   ]
  },
  {
   "cell_type": "markdown",
   "id": "b2136c81",
   "metadata": {},
   "source": [
    "Выясним, сколько фильмов выходило в целом в прокат каждый год и объединим с данными о прокате в кинотеатрах и расчитаем среднее количество фильмов в год."
   ]
  },
  {
   "cell_type": "code",
   "execution_count": 74,
   "id": "e11728b0",
   "metadata": {
    "scrolled": true
   },
   "outputs": [
    {
     "data": {
      "text/html": [
       "<div>\n",
       "<style scoped>\n",
       "    .dataframe tbody tr th:only-of-type {\n",
       "        vertical-align: middle;\n",
       "    }\n",
       "\n",
       "    .dataframe tbody tr th {\n",
       "        vertical-align: top;\n",
       "    }\n",
       "\n",
       "    .dataframe thead th {\n",
       "        text-align: right;\n",
       "    }\n",
       "</style>\n",
       "<table border=\"1\" class=\"dataframe\">\n",
       "  <thead>\n",
       "    <tr style=\"text-align: right;\">\n",
       "      <th></th>\n",
       "      <th>year</th>\n",
       "      <th>films_total</th>\n",
       "      <th>movies_rental</th>\n",
       "      <th>films_rental_ratio, %</th>\n",
       "    </tr>\n",
       "  </thead>\n",
       "  <tbody>\n",
       "    <tr>\n",
       "      <th>0</th>\n",
       "      <td>2010</td>\n",
       "      <td>980</td>\n",
       "      <td>105</td>\n",
       "      <td>10.714286</td>\n",
       "    </tr>\n",
       "    <tr>\n",
       "      <th>1</th>\n",
       "      <td>2011</td>\n",
       "      <td>620</td>\n",
       "      <td>109</td>\n",
       "      <td>17.580645</td>\n",
       "    </tr>\n",
       "    <tr>\n",
       "      <th>2</th>\n",
       "      <td>2012</td>\n",
       "      <td>592</td>\n",
       "      <td>127</td>\n",
       "      <td>21.452703</td>\n",
       "    </tr>\n",
       "    <tr>\n",
       "      <th>3</th>\n",
       "      <td>2013</td>\n",
       "      <td>629</td>\n",
       "      <td>184</td>\n",
       "      <td>29.252782</td>\n",
       "    </tr>\n",
       "    <tr>\n",
       "      <th>4</th>\n",
       "      <td>2014</td>\n",
       "      <td>805</td>\n",
       "      <td>279</td>\n",
       "      <td>34.658385</td>\n",
       "    </tr>\n",
       "    <tr>\n",
       "      <th>5</th>\n",
       "      <td>2015</td>\n",
       "      <td>705</td>\n",
       "      <td>465</td>\n",
       "      <td>65.957447</td>\n",
       "    </tr>\n",
       "    <tr>\n",
       "      <th>6</th>\n",
       "      <td>2016</td>\n",
       "      <td>817</td>\n",
       "      <td>525</td>\n",
       "      <td>64.259486</td>\n",
       "    </tr>\n",
       "    <tr>\n",
       "      <th>7</th>\n",
       "      <td>2017</td>\n",
       "      <td>505</td>\n",
       "      <td>357</td>\n",
       "      <td>70.693069</td>\n",
       "    </tr>\n",
       "    <tr>\n",
       "      <th>8</th>\n",
       "      <td>2018</td>\n",
       "      <td>879</td>\n",
       "      <td>474</td>\n",
       "      <td>53.924915</td>\n",
       "    </tr>\n",
       "    <tr>\n",
       "      <th>9</th>\n",
       "      <td>2019</td>\n",
       "      <td>926</td>\n",
       "      <td>530</td>\n",
       "      <td>57.235421</td>\n",
       "    </tr>\n",
       "  </tbody>\n",
       "</table>\n",
       "</div>"
      ],
      "text/plain": [
       "   year  films_total  movies_rental  films_rental_ratio, %\n",
       "0  2010          980            105              10.714286\n",
       "1  2011          620            109              17.580645\n",
       "2  2012          592            127              21.452703\n",
       "3  2013          629            184              29.252782\n",
       "4  2014          805            279              34.658385\n",
       "5  2015          705            465              65.957447\n",
       "6  2016          817            525              64.259486\n",
       "7  2017          505            357              70.693069\n",
       "8  2018          879            474              53.924915\n",
       "9  2019          926            530              57.235421"
      ]
     },
     "metadata": {},
     "output_type": "display_data"
    },
    {
     "name": "stdout",
     "output_type": "stream",
     "text": [
      "Cреднее количество фильмов в год: 746\n",
      "Cреднее количество фильмов в кинотеатрах в год: 316\n",
      "Доля фильмов с указанной информацией о прокате в кинотеатрах: 42.57 %\n"
     ]
    }
   ],
   "source": [
    "films = data_movies.groupby('start_year')['title'].count()\n",
    "films = films.to_frame().reset_index()\n",
    "films.rename(columns={'title':'films_total'}, inplace=True)\n",
    "films['movies_rental'] = movie['movies_rental']\n",
    "films['films_rental_ratio, %']=(films['movies_rental']/films['films_total'])*100\n",
    "films.rename(columns={'start_year':'year'}, inplace=True)\n",
    "display(films)\n",
    "\n",
    "print('Cреднее количество фильмов в год: %.0f' % films['films_total'].mean())\n",
    "print('Cреднее количество фильмов в кинотеатрах в год: %.0f' % movie['movies_rental'].mean())\n",
    "print('Доля фильмов с указанной информацией о прокате в кинотеатрах: %.2f' % films['films_rental_ratio, %'].mean(), '%')"
   ]
  },
  {
   "cell_type": "code",
   "execution_count": 75,
   "id": "10bc3291",
   "metadata": {
    "scrolled": true
   },
   "outputs": [
    {
     "data": {
      "image/png": "[encoded data removed]",
      "text/plain": [
       "<Figure size 640x480 with 1 Axes>"
      ]
     },
     "metadata": {},
     "output_type": "display_data"
    }
   ],
   "source": [
    "sns.barplot(x='year', y='films_total', data=films);\n",
    "plt.title('Кол-во фильмов, получивших прокатные удостоверения');\n",
    "plt.xlabel('Год');\n",
    "plt.ylabel('Количество, шт');"
   ]
  },
  {
   "cell_type": "code",
   "execution_count": 76,
   "id": "2e24a34f",
   "metadata": {
    "scrolled": true
   },
   "outputs": [
    {
     "data": {
      "image/png": "[encoded data removed]",
      "text/plain": [
       "<Figure size 640x480 with 1 Axes>"
      ]
     },
     "metadata": {},
     "output_type": "display_data"
    }
   ],
   "source": [
    "sns.barplot(x='year', y='movies_rental', data=films);\n",
    "plt.title('Кол-во фильмов по годам, показанных в кинотеатрах');\n",
    "plt.xlabel('Год');\n",
    "plt.ylabel('Количество, шт');"
   ]
  },
  {
   "cell_type": "code",
   "execution_count": 77,
   "id": "3b5a3181",
   "metadata": {
    "scrolled": true
   },
   "outputs": [
    {
     "data": {
      "image/png": "[encoded data removed]",
      "text/plain": [
       "<Figure size 640x480 with 1 Axes>"
      ]
     },
     "metadata": {},
     "output_type": "display_data"
    }
   ],
   "source": [
    "sns.barplot(x='year', y='films_rental_ratio, %', data=films);\n",
    "plt.title('Доля фильмов, показанных в кинотеатрах');\n",
    "plt.xlabel('Год');\n",
    "plt.ylabel('Проценты, %');"
   ]
  },
  {
   "cell_type": "markdown",
   "id": "531774bc",
   "metadata": {},
   "source": [
    "Данные о прокате в кинотеатрах не соответствуют общему значению выданных удостоверений, это означает, что часть фильмов получили удостоверение другого типа, не предполагающий кинотеатральный релиз. В среднем за имеющийся период, прокатные удостоверения получали 748 фильмов ежегодно, из них выходило в кинотеатрах почти в 2,5 раза меньше - 316 фильмов.\n",
    "\n",
    "В целом, количество фильмов, получающих прокатные удостоверения из года в год не показывает сильной динамики, однако число фильмов, которые предназначены для проката в кинотеатрах растет, достигнув пика 530 фильмов в 2019 году."
   ]
  },
  {
   "cell_type": "markdown",
   "id": "6e7b7e0b",
   "metadata": {},
   "source": [
    "Минимальные сборы были в интервале с 2010 по 2013 годы, максимальные сборы были в 2018 году."
   ]
  },
  {
   "cell_type": "markdown",
   "id": "bd89390b",
   "metadata": {},
   "source": [
    "С увеличением производимых кинолент, выросли и суммы сборов."
   ]
  },
  {
   "cell_type": "markdown",
   "id": "252960c6",
   "metadata": {},
   "source": [
    "Отобразим в графическом виде среднее и медианное значение суммы сборов."
   ]
  },
  {
   "cell_type": "markdown",
   "id": "115d8a9d",
   "metadata": {},
   "source": [
    "Динамика сохраняется, начиная с 2010 по 2019 суммы за сборы естественно увеличивались. Не смотря на изменение среднего за эти годы, медианное значение так и осталось не очень большим."
   ]
  },
  {
   "cell_type": "markdown",
   "id": "ea2a6cbc",
   "metadata": {},
   "source": [
    "Разница между двумя показателями появляется за счёт того, что один фильм набирает, скажем, 200.000.000, а некоторые другие по 10.000.000."
   ]
  },
  {
   "cell_type": "markdown",
   "id": "59de2d09",
   "metadata": {},
   "source": [
    "Посмотрим на то, как влияет возрастное ограничение аудитории «6+», «12+», «16+», «18+» и «0+» на сборы фильма и влияет ли. Данные будем анализировать за промежуток с 2015 по 2019 год."
   ]
  },
  {
   "cell_type": "code",
   "execution_count": 78,
   "id": "286077c3",
   "metadata": {},
   "outputs": [
    {
     "data": {
      "image/png": "[encoded data removed]",
      "text/plain": [
       "<Figure size 2000x500 with 1 Axes>"
      ]
     },
     "metadata": {},
     "output_type": "display_data"
    }
   ],
   "source": [
    "data_movies_age = data_movies.query('box_office > 0').pivot_table(index='start_year',\\\n",
    "                                                                 columns='age_restriction', values='box_office',\\\n",
    "                                                                 aggfunc='sum')\n",
    "\n",
    "(data_movies_age.plot(kind='line', xlim=[2015, 2019], figsize=(20, 5), legend=True, grid=True, alpha=0.6,\\\n",
    "                     title='сумма сборов по годам с разбивкой по возрастным категориям'))\n",
    "plt.ylabel('Сборы')\n",
    "plt.xlabel('Год')\n",
    "plt.show()"
   ]
  },
  {
   "cell_type": "markdown",
   "id": "0dfbf664",
   "metadata": {},
   "source": [
    "В прокате фильмы с возрастным ограничением «0+» - для любой зрительской аудитории набрали меньше всего средств. А больше всего средств собрали фильмы с возрастным ограничением «16+» — для детей старше 16 лет. Также на графике видно, что фильмы «16+» три года подряд лидировали по сборам, в то время как в других нишах был либо спад, либо не очень заметные изменения."
   ]
  },
  {
   "cell_type": "markdown",
   "id": "ced9988e",
   "metadata": {},
   "source": [
    "В ходе исследовательского анализа данных можно сделать вывод, что киноиндустрия за период с 2010 по 2019 годы продолжала развиваться и расти, с увеличением производства фильмов и суммы затрат. По сборам лидерами являлись фильмы «16+», но после 2017 года они начали терять аудиторию, возможно из-за конкуренции со стороны фильмов «12+». К 2019 году фильмы из категории \"6+\",\"12+\" и \"16+\" практически разделили первое место по сборам, что может быть связано с тенденцией к семейным ценностям."
   ]
  },
  {
   "cell_type": "markdown",
   "id": "c0a19614",
   "metadata": {},
   "source": [
    "### Исследование фильмов, которые получили государственную поддержку"
   ]
  },
  {
   "cell_type": "markdown",
   "id": "c5f26e61",
   "metadata": {},
   "source": [
    "Посмотрим на количество снятых фильмов при поддержке Министерства культуры или Фонда кино, отдельно для тех, у которых есть сборы, а отдельно без сборов."
   ]
  },
  {
   "cell_type": "code",
   "execution_count": 79,
   "id": "1dfbfa98",
   "metadata": {
    "scrolled": true
   },
   "outputs": [
    {
     "data": {
      "text/plain": [
       "'Проекты сняты при поддержке Министерства культуры или Фонда кино без информации о сборах'"
      ]
     },
     "metadata": {},
     "output_type": "display_data"
    },
    {
     "data": {
      "text/plain": [
       "0"
      ]
     },
     "metadata": {},
     "output_type": "display_data"
    },
    {
     "data": {
      "text/plain": [
       "'Проекты сняты при поддержке Министерства культуры или Фонда кино с информацией о сборах'"
      ]
     },
     "metadata": {},
     "output_type": "display_data"
    },
    {
     "data": {
      "text/plain": [
       "332"
      ]
     },
     "metadata": {},
     "output_type": "display_data"
    }
   ],
   "source": [
    "chek_source = ['Министерство культуры', 'Фонд кино', 'Министерство культуры, Фонд кино']\n",
    "display('Проекты сняты при поддержке Министерства культуры или Фонда кино без информации о сборах',\\\n",
    "        data_movies.query('budget != 0 and box_office == 0  and financing_source in @chek_source' )['title'].count())\n",
    "display('Проекты сняты при поддержке Министерства культуры или Фонда кино с информацией о сборах',\\\n",
    "        data_movies.query('budget != 0 and box_office != 0 and financing_source in @chek_source' )['title'].count())"
   ]
  },
  {
   "cell_type": "markdown",
   "id": "3277dd42",
   "metadata": {},
   "source": [
    "Посмотрим на медианное значение по выделенному бюджету"
   ]
  },
  {
   "cell_type": "code",
   "execution_count": 80,
   "id": "aeff9c97",
   "metadata": {
    "scrolled": true
   },
   "outputs": [
    {
     "data": {
      "text/plain": [
       "'Медиана по выделенному бюджету на фильмы руб.: '"
      ]
     },
     "metadata": {},
     "output_type": "display_data"
    },
    {
     "data": {
      "text/plain": [
       "142393803.0"
      ]
     },
     "metadata": {},
     "output_type": "display_data"
    }
   ],
   "source": [
    "display('Медиана по выделенному бюджету на фильмы руб.: ', data_movies.query('budget != 0')['budget'].median())"
   ]
  },
  {
   "cell_type": "markdown",
   "id": "d8286cf8",
   "metadata": {},
   "source": [
    "Так как медианная сумма по размеру бюджета 142 393 803 рублей, посмотрим на количество фильмов, которые ниже этой границы по сборам."
   ]
  },
  {
   "cell_type": "code",
   "execution_count": 81,
   "id": "e9001541",
   "metadata": {
    "scrolled": true
   },
   "outputs": [
    {
     "data": {
      "text/plain": [
       "'Сборов до медианы по выделенному бюджету: '"
      ]
     },
     "metadata": {},
     "output_type": "display_data"
    },
    {
     "data": {
      "text/plain": [
       "252"
      ]
     },
     "metadata": {},
     "output_type": "display_data"
    }
   ],
   "source": [
    "display('Сборов до медианы по выделенному бюджету: ',\\\n",
    "        data_movies.query('budget != 0 and box_office < 142393803 and financing_source in @chek_source')\\\n",
    "        ['box_office'].sort_values(ascending=True).nunique())"
   ]
  },
  {
   "cell_type": "markdown",
   "id": "928937c2",
   "metadata": {},
   "source": [
    "Судя по всему доходы у выпускаемых фильмов, которые были на господдержке были очень скромные."
   ]
  },
  {
   "cell_type": "markdown",
   "id": "0f5bbd2d",
   "metadata": {},
   "source": [
    "Посмотрим на расходы по жанрам в виде сводной таблицы, отдельно выясним какие жанры были убыточны, а какие наоборот окупили себя."
   ]
  },
  {
   "cell_type": "code",
   "execution_count": 82,
   "id": "1a0ecfe6",
   "metadata": {},
   "outputs": [],
   "source": [
    "data_movies_budget_box_office_pivot = (data_movies.query('budget != 0 and box_office != 0 and financing_source in @chek_source')\n",
    "                    .pivot_table(index='main_genres', values=['ratings', 'box_office', 'budget'], aggfunc= 'mean')\n",
    "                    .sort_values(by='main_genres', ascending = True))\n",
    "data_movies_budget_box_office_pivot = data_movies_budget_box_office_pivot.reindex(['ratings', 'budget', 'box_office'], axis=1)\n",
    "data_movies_budget_box_office_pivot['percent_box'] = \\\n",
    "round((data_movies_budget_box_office_pivot['box_office'] / data_movies_budget_box_office_pivot['box_office'].sum()) * 100, 2) \n",
    "data_movies_budget_box_office_pivot['percent_budget'] = \\\n",
    "round((data_movies_budget_box_office_pivot['budget'] / data_movies_budget_box_office_pivot['budget'].sum()) * 100, 2)  \n",
    "data_movies_budget_box_office_pivot = \\\n",
    "data_movies_budget_box_office_pivot.set_axis(['Рейтинг', 'Сборы', 'Бюджет','Сборы процент', 'Бюджет процент'], axis='columns')"
   ]
  },
  {
   "cell_type": "code",
   "execution_count": 83,
   "id": "88986b12",
   "metadata": {
    "scrolled": true
   },
   "outputs": [
    {
     "data": {
      "text/html": [
       "<div>\n",
       "<style scoped>\n",
       "    .dataframe tbody tr th:only-of-type {\n",
       "        vertical-align: middle;\n",
       "    }\n",
       "\n",
       "    .dataframe tbody tr th {\n",
       "        vertical-align: top;\n",
       "    }\n",
       "\n",
       "    .dataframe thead th {\n",
       "        text-align: right;\n",
       "    }\n",
       "</style>\n",
       "<table border=\"1\" class=\"dataframe\">\n",
       "  <thead>\n",
       "    <tr style=\"text-align: right;\">\n",
       "      <th></th>\n",
       "      <th>Рейтинг</th>\n",
       "      <th>Сборы</th>\n",
       "      <th>Бюджет</th>\n",
       "      <th>Сборы процент</th>\n",
       "      <th>Бюджет процент</th>\n",
       "    </tr>\n",
       "    <tr>\n",
       "      <th>main_genres</th>\n",
       "      <th></th>\n",
       "      <th></th>\n",
       "      <th></th>\n",
       "      <th></th>\n",
       "      <th></th>\n",
       "    </tr>\n",
       "  </thead>\n",
       "  <tbody>\n",
       "    <tr>\n",
       "      <th>Без жанра</th>\n",
       "      <td>NaN</td>\n",
       "      <td>1.352414e+08</td>\n",
       "      <td>9.878325e+07</td>\n",
       "      <td>3.13</td>\n",
       "      <td>1.92</td>\n",
       "    </tr>\n",
       "    <tr>\n",
       "      <th>биография</th>\n",
       "      <td>6.900000</td>\n",
       "      <td>3.526224e+08</td>\n",
       "      <td>1.722943e+08</td>\n",
       "      <td>5.46</td>\n",
       "      <td>4.99</td>\n",
       "    </tr>\n",
       "    <tr>\n",
       "      <th>боевик</th>\n",
       "      <td>6.583333</td>\n",
       "      <td>2.278123e+08</td>\n",
       "      <td>9.932149e+07</td>\n",
       "      <td>3.15</td>\n",
       "      <td>3.23</td>\n",
       "    </tr>\n",
       "    <tr>\n",
       "      <th>военный</th>\n",
       "      <td>6.466667</td>\n",
       "      <td>2.857571e+08</td>\n",
       "      <td>1.130745e+08</td>\n",
       "      <td>3.59</td>\n",
       "      <td>4.05</td>\n",
       "    </tr>\n",
       "    <tr>\n",
       "      <th>детектив</th>\n",
       "      <td>6.760000</td>\n",
       "      <td>4.792889e+08</td>\n",
       "      <td>2.770950e+07</td>\n",
       "      <td>0.88</td>\n",
       "      <td>6.79</td>\n",
       "    </tr>\n",
       "    <tr>\n",
       "      <th>детский</th>\n",
       "      <td>7.125000</td>\n",
       "      <td>9.194900e+07</td>\n",
       "      <td>1.004551e+06</td>\n",
       "      <td>0.03</td>\n",
       "      <td>1.30</td>\n",
       "    </tr>\n",
       "    <tr>\n",
       "      <th>драма</th>\n",
       "      <td>6.419355</td>\n",
       "      <td>2.392879e+08</td>\n",
       "      <td>1.090902e+08</td>\n",
       "      <td>3.46</td>\n",
       "      <td>3.39</td>\n",
       "    </tr>\n",
       "    <tr>\n",
       "      <th>история</th>\n",
       "      <td>5.350000</td>\n",
       "      <td>1.072531e+09</td>\n",
       "      <td>3.638671e+08</td>\n",
       "      <td>11.54</td>\n",
       "      <td>15.19</td>\n",
       "    </tr>\n",
       "    <tr>\n",
       "      <th>комедия</th>\n",
       "      <td>5.514865</td>\n",
       "      <td>1.662321e+08</td>\n",
       "      <td>1.709586e+08</td>\n",
       "      <td>5.42</td>\n",
       "      <td>2.35</td>\n",
       "    </tr>\n",
       "    <tr>\n",
       "      <th>криминал</th>\n",
       "      <td>7.500000</td>\n",
       "      <td>2.843965e+08</td>\n",
       "      <td>7.993129e+07</td>\n",
       "      <td>2.53</td>\n",
       "      <td>4.03</td>\n",
       "    </tr>\n",
       "    <tr>\n",
       "      <th>мелодрама</th>\n",
       "      <td>5.953333</td>\n",
       "      <td>1.254674e+08</td>\n",
       "      <td>3.913498e+06</td>\n",
       "      <td>0.12</td>\n",
       "      <td>1.78</td>\n",
       "    </tr>\n",
       "    <tr>\n",
       "      <th>мультфильм</th>\n",
       "      <td>5.800000</td>\n",
       "      <td>3.751935e+08</td>\n",
       "      <td>1.874005e+08</td>\n",
       "      <td>5.94</td>\n",
       "      <td>5.31</td>\n",
       "    </tr>\n",
       "    <tr>\n",
       "      <th>мюзикл</th>\n",
       "      <td>6.550000</td>\n",
       "      <td>2.820987e+08</td>\n",
       "      <td>2.542625e+07</td>\n",
       "      <td>0.81</td>\n",
       "      <td>4.00</td>\n",
       "    </tr>\n",
       "    <tr>\n",
       "      <th>приключения</th>\n",
       "      <td>5.871429</td>\n",
       "      <td>9.642121e+08</td>\n",
       "      <td>2.009328e+08</td>\n",
       "      <td>6.37</td>\n",
       "      <td>13.66</td>\n",
       "    </tr>\n",
       "    <tr>\n",
       "      <th>реальное ТВ</th>\n",
       "      <td>5.600000</td>\n",
       "      <td>1.600000e+08</td>\n",
       "      <td>3.272110e+07</td>\n",
       "      <td>1.04</td>\n",
       "      <td>2.27</td>\n",
       "    </tr>\n",
       "    <tr>\n",
       "      <th>семейный</th>\n",
       "      <td>5.414286</td>\n",
       "      <td>1.819428e+08</td>\n",
       "      <td>9.740412e+07</td>\n",
       "      <td>3.09</td>\n",
       "      <td>2.58</td>\n",
       "    </tr>\n",
       "    <tr>\n",
       "      <th>спорт</th>\n",
       "      <td>6.933333</td>\n",
       "      <td>4.736460e+08</td>\n",
       "      <td>9.892561e+08</td>\n",
       "      <td>31.37</td>\n",
       "      <td>6.71</td>\n",
       "    </tr>\n",
       "    <tr>\n",
       "      <th>триллер</th>\n",
       "      <td>5.706667</td>\n",
       "      <td>1.801281e+08</td>\n",
       "      <td>4.669668e+07</td>\n",
       "      <td>1.48</td>\n",
       "      <td>2.55</td>\n",
       "    </tr>\n",
       "    <tr>\n",
       "      <th>ужасы</th>\n",
       "      <td>5.200000</td>\n",
       "      <td>1.127755e+08</td>\n",
       "      <td>7.101232e+07</td>\n",
       "      <td>2.25</td>\n",
       "      <td>1.60</td>\n",
       "    </tr>\n",
       "    <tr>\n",
       "      <th>фантастика</th>\n",
       "      <td>6.145455</td>\n",
       "      <td>4.442001e+08</td>\n",
       "      <td>1.718204e+08</td>\n",
       "      <td>5.45</td>\n",
       "      <td>6.29</td>\n",
       "    </tr>\n",
       "    <tr>\n",
       "      <th>фэнтези</th>\n",
       "      <td>6.090909</td>\n",
       "      <td>4.254770e+08</td>\n",
       "      <td>9.053060e+07</td>\n",
       "      <td>2.87</td>\n",
       "      <td>6.03</td>\n",
       "    </tr>\n",
       "  </tbody>\n",
       "</table>\n",
       "</div>"
      ],
      "text/plain": [
       "              Рейтинг         Сборы        Бюджет  Сборы процент  \\\n",
       "main_genres                                                        \n",
       "Без жанра         NaN  1.352414e+08  9.878325e+07           3.13   \n",
       "биография    6.900000  3.526224e+08  1.722943e+08           5.46   \n",
       "боевик       6.583333  2.278123e+08  9.932149e+07           3.15   \n",
       "военный      6.466667  2.857571e+08  1.130745e+08           3.59   \n",
       "детектив     6.760000  4.792889e+08  2.770950e+07           0.88   \n",
       "детский      7.125000  9.194900e+07  1.004551e+06           0.03   \n",
       "драма        6.419355  2.392879e+08  1.090902e+08           3.46   \n",
       "история      5.350000  1.072531e+09  3.638671e+08          11.54   \n",
       "комедия      5.514865  1.662321e+08  1.709586e+08           5.42   \n",
       "криминал     7.500000  2.843965e+08  7.993129e+07           2.53   \n",
       "мелодрама    5.953333  1.254674e+08  3.913498e+06           0.12   \n",
       "мультфильм   5.800000  3.751935e+08  1.874005e+08           5.94   \n",
       "мюзикл       6.550000  2.820987e+08  2.542625e+07           0.81   \n",
       "приключения  5.871429  9.642121e+08  2.009328e+08           6.37   \n",
       "реальное ТВ  5.600000  1.600000e+08  3.272110e+07           1.04   \n",
       "семейный     5.414286  1.819428e+08  9.740412e+07           3.09   \n",
       "спорт        6.933333  4.736460e+08  9.892561e+08          31.37   \n",
       "триллер      5.706667  1.801281e+08  4.669668e+07           1.48   \n",
       "ужасы        5.200000  1.127755e+08  7.101232e+07           2.25   \n",
       "фантастика   6.145455  4.442001e+08  1.718204e+08           5.45   \n",
       "фэнтези      6.090909  4.254770e+08  9.053060e+07           2.87   \n",
       "\n",
       "             Бюджет процент  \n",
       "main_genres                  \n",
       "Без жанра              1.92  \n",
       "биография              4.99  \n",
       "боевик                 3.23  \n",
       "военный                4.05  \n",
       "детектив               6.79  \n",
       "детский                1.30  \n",
       "драма                  3.39  \n",
       "история               15.19  \n",
       "комедия                2.35  \n",
       "криминал               4.03  \n",
       "мелодрама              1.78  \n",
       "мультфильм             5.31  \n",
       "мюзикл                 4.00  \n",
       "приключения           13.66  \n",
       "реальное ТВ            2.27  \n",
       "семейный               2.58  \n",
       "спорт                  6.71  \n",
       "триллер                2.55  \n",
       "ужасы                  1.60  \n",
       "фантастика             6.29  \n",
       "фэнтези                6.03  "
      ]
     },
     "execution_count": 83,
     "metadata": {},
     "output_type": "execute_result"
    }
   ],
   "source": [
    "data_movies_budget_box_office_pivot"
   ]
  },
  {
   "cell_type": "markdown",
   "id": "c942b70b",
   "metadata": {},
   "source": [
    "Похоже, что хорошо идут фильмы про:\n",
    "\n",
    "- биографические фильмы — тут также есть прибыль, получено 5.46%, а выделено от общего бюджета 5.07%; \n",
    "- боевик - разница между выделенной долей бюджета и сборами не очень велика, 2.90% против 3.15%, но она есть;    \n",
    "- комедии — сборы 5.42% от общей суммы, а затрачено всего 2.27% от общего бюджета;    \n",
    "- мультфильмы — разница между выделенной долей бюджета и сборами не очень велика, 5.06% против 5.94%, но она есть;    \n",
    "- семейные — сборы 3.09% от общей суммы, а затрачено 2.90% от общего бюджета;    \n",
    "- спорт — из всех полученных сборов 31.37% пришлось именно на эту категорию, это при том, что из всех выделяемых средств на фильмы о спорте было выделено всего 6.81% от общего бюджета;      \n",
    "- ужасы - сборы 2.25% от общей суммы сборов, а затрачено из общего бюджета 1.62%;    \n",
    "- фантастика — сборы 5.45% от общей суммы сборов, а затрачено из общего бюджета 3.61%.    \n",
    "Остальные жанры получили довольно скромные доходы, которые не покрыли даже расходы на бюджет."
   ]
  },
  {
   "cell_type": "markdown",
   "id": "64e17f06",
   "metadata": {},
   "source": [
    "### Общий вывод"
   ]
  },
  {
   "cell_type": "markdown",
   "id": "864fed47",
   "metadata": {},
   "source": [
    "В рамках первой части проекта был проведен важный этап предварительной обработки данных. Мы очистили наши данные, что является ключевым шагом в анализе данных. Это позволило нам устранить ошибки и пробелы для получения более точных и значимых результатов.    \n",
    "\n",
    "Различные способы записи данных могут усложнить их анализ и сравнение, поэтому важно стандартизировать данные, устраняя различные варианты написания. Это сократит количество ошибок в будущем. Кроме того, мы определили важные параметры для анализа данных, что также является важным шагом.    \n",
    "\n",
    "Киноиндустрия — одна из самых быстрорастущих и важных отраслей мировой экономики.    \n",
    "С 2010 по 2019 год эта отрасль показала значительный рост в количестве выпускаемых фильмов, а также в расходах на их создание.\n",
    "Стоит отметить, что с 2010 года наблюдается увеличение количества фильмов, получающих прокатные удостоверения. Однако в 2017 году произошло резкое снижение, что было связано с некоторыми проблемами в отрасли, включая качество фильмов и низкие кассовые сборы.    \n",
    "К 2019 году количество выпускаемых фильмов и затраты на их производство вернулись к уровням 2016 года.    \n",
    "Можно заключить, что с 2016 по 2018 годы фильмы категории «16+» лидировали по кассовым сборам, тогда как по другим категориям наблюдался спад или незначительные изменения. В 2019 году первое место по кассовым сборам заняли фильмы категории «6+», хотя разрыв был небольшим. Вероятно, это обусловлено тем, что после пика популярности в 2017 году фильмы категории «16+» начали терять аудиторию из-за перенасыщенности рынка. Кроме того, с 2017 года набирают популярность фильмы категории «12+», частично разделяя сегмент аудитории с фильмами «16+», что могло также способствовать снижению интереса к фильмам этой категории.\n",
    "\n",
    "Анализ данных о фильмах, выпущенных в прокат в России с 2010 по 2019 год, показывает, что большинство полнометражных фильмов, несмотря на лидирующие позиции по прокату, не смогли окупиться, а многие анимационные фильмы были провальными. Фильмы про спорт, биографические фильмы, мультфильмы, комедии, семейные фильмы, ужасы и фантастика показали сравнительно хорошие результаты в сборах и относительно малый разрыв между выделенными на них бюджетами и сборами за все время. В частности, фильмы про спорт оказались одними из наиболее прибыльных жанров за все время, принося 31,37% от общих сборов при затрате только 6,81% от общего бюджета."
   ]
  }
 ],
 "metadata": {
  "ExecuteTimeLog": [
   {
    "duration": 836,
    "start_time": "2023-11-12T12:16:28.665Z"
   },
   {
    "duration": 272,
    "start_time": "2023-11-12T12:16:29.502Z"
   },
   {
    "duration": 16,
    "start_time": "2023-11-12T12:16:29.776Z"
   },
   {
    "duration": 94,
    "start_time": "2023-11-12T12:16:29.794Z"
   },
   {
    "duration": 9,
    "start_time": "2023-11-12T12:16:29.890Z"
   },
   {
    "duration": 26,
    "start_time": "2023-11-12T12:16:29.901Z"
   },
   {
    "duration": 10,
    "start_time": "2023-11-12T12:16:29.929Z"
   },
   {
    "duration": 7,
    "start_time": "2023-11-12T12:16:29.940Z"
   },
   {
    "duration": 3,
    "start_time": "2023-11-12T12:16:29.949Z"
   },
   {
    "duration": 13,
    "start_time": "2023-11-12T12:16:29.955Z"
   },
   {
    "duration": 35,
    "start_time": "2023-11-12T12:16:29.969Z"
   },
   {
    "duration": 4,
    "start_time": "2023-11-12T12:16:30.005Z"
   },
   {
    "duration": 39,
    "start_time": "2023-11-12T12:16:30.011Z"
   },
   {
    "duration": 24,
    "start_time": "2023-11-12T12:16:30.052Z"
   },
   {
    "duration": 52,
    "start_time": "2023-11-12T12:16:30.078Z"
   },
   {
    "duration": 25,
    "start_time": "2023-11-12T12:16:30.132Z"
   },
   {
    "duration": 26,
    "start_time": "2023-11-12T12:16:30.159Z"
   },
   {
    "duration": 31,
    "start_time": "2023-11-12T12:16:30.187Z"
   },
   {
    "duration": 52,
    "start_time": "2023-11-12T12:16:30.220Z"
   },
   {
    "duration": 49,
    "start_time": "2023-11-12T12:16:30.274Z"
   },
   {
    "duration": 31,
    "start_time": "2023-11-12T12:16:30.324Z"
   },
   {
    "duration": 42,
    "start_time": "2023-11-12T12:16:30.357Z"
   },
   {
    "duration": 73,
    "start_time": "2023-11-12T12:16:30.400Z"
   },
   {
    "duration": 29,
    "start_time": "2023-11-12T12:16:30.474Z"
   },
   {
    "duration": 47,
    "start_time": "2023-11-12T12:16:30.504Z"
   },
   {
    "duration": 71,
    "start_time": "2023-11-12T12:16:30.552Z"
   },
   {
    "duration": 84,
    "start_time": "2023-11-12T12:16:30.625Z"
   },
   {
    "duration": 51,
    "start_time": "2023-11-12T12:16:30.714Z"
   },
   {
    "duration": 68,
    "start_time": "2023-11-12T12:16:30.767Z"
   },
   {
    "duration": 59,
    "start_time": "2023-11-12T12:16:30.837Z"
   },
   {
    "duration": 40,
    "start_time": "2023-11-12T12:16:30.898Z"
   },
   {
    "duration": 66,
    "start_time": "2023-11-12T12:16:30.939Z"
   },
   {
    "duration": 49,
    "start_time": "2023-11-12T12:16:31.007Z"
   },
   {
    "duration": 58,
    "start_time": "2023-11-12T12:16:31.058Z"
   },
   {
    "duration": 54,
    "start_time": "2023-11-12T12:16:31.117Z"
   },
   {
    "duration": 32,
    "start_time": "2023-11-12T12:16:31.172Z"
   },
   {
    "duration": 58,
    "start_time": "2023-11-12T12:16:31.205Z"
   },
   {
    "duration": 25,
    "start_time": "2023-11-12T12:16:31.265Z"
   },
   {
    "duration": 49,
    "start_time": "2023-11-12T12:16:31.292Z"
   },
   {
    "duration": 33,
    "start_time": "2023-11-12T12:16:31.344Z"
   },
   {
    "duration": 32,
    "start_time": "2023-11-12T12:16:31.379Z"
   },
   {
    "duration": 25,
    "start_time": "2023-11-12T12:16:31.414Z"
   },
   {
    "duration": 6,
    "start_time": "2023-11-12T12:16:31.440Z"
   },
   {
    "duration": 23,
    "start_time": "2023-11-12T12:16:31.447Z"
   },
   {
    "duration": 27,
    "start_time": "2023-11-12T12:16:31.471Z"
   },
   {
    "duration": 33,
    "start_time": "2023-11-12T12:16:31.500Z"
   },
   {
    "duration": 28,
    "start_time": "2023-11-12T12:16:31.535Z"
   },
   {
    "duration": 37,
    "start_time": "2023-11-12T12:16:31.565Z"
   },
   {
    "duration": 21,
    "start_time": "2023-11-12T12:16:31.604Z"
   },
   {
    "duration": 24,
    "start_time": "2023-11-12T12:16:31.626Z"
   },
   {
    "duration": 23,
    "start_time": "2023-11-12T12:16:31.651Z"
   },
   {
    "duration": 49,
    "start_time": "2023-11-12T12:16:31.675Z"
   },
   {
    "duration": 74,
    "start_time": "2023-11-12T12:16:31.725Z"
   },
   {
    "duration": 28,
    "start_time": "2023-11-12T12:16:31.800Z"
   },
   {
    "duration": 22,
    "start_time": "2023-11-12T12:16:31.829Z"
   },
   {
    "duration": 21,
    "start_time": "2023-11-12T12:16:31.852Z"
   },
   {
    "duration": 40,
    "start_time": "2023-11-12T12:16:31.874Z"
   },
   {
    "duration": 13,
    "start_time": "2023-11-12T12:16:31.915Z"
   },
   {
    "duration": 20,
    "start_time": "2023-11-12T12:16:31.929Z"
   },
   {
    "duration": 52,
    "start_time": "2023-11-12T12:16:31.951Z"
   },
   {
    "duration": 3,
    "start_time": "2023-11-12T12:16:32.005Z"
   },
   {
    "duration": 40,
    "start_time": "2023-11-12T12:16:32.009Z"
   },
   {
    "duration": 33,
    "start_time": "2023-11-12T12:16:32.050Z"
   },
   {
    "duration": 21,
    "start_time": "2023-11-12T12:16:32.084Z"
   },
   {
    "duration": 28,
    "start_time": "2023-11-12T12:16:32.106Z"
   },
   {
    "duration": 36,
    "start_time": "2023-11-12T12:16:32.135Z"
   },
   {
    "duration": 45,
    "start_time": "2023-11-12T12:16:32.172Z"
   },
   {
    "duration": 190,
    "start_time": "2023-11-12T12:16:32.219Z"
   },
   {
    "duration": 10,
    "start_time": "2023-11-12T12:16:32.411Z"
   },
   {
    "duration": 217,
    "start_time": "2023-11-12T12:16:32.423Z"
   },
   {
    "duration": 198,
    "start_time": "2023-11-12T12:16:32.642Z"
   },
   {
    "duration": 270,
    "start_time": "2023-11-12T12:16:32.842Z"
   },
   {
    "duration": 15,
    "start_time": "2023-11-12T12:16:33.114Z"
   },
   {
    "duration": 7,
    "start_time": "2023-11-12T12:16:33.131Z"
   },
   {
    "duration": 9,
    "start_time": "2023-11-12T12:16:33.139Z"
   },
   {
    "duration": 49,
    "start_time": "2023-11-12T12:16:33.150Z"
   },
   {
    "duration": 13,
    "start_time": "2023-11-12T12:16:33.200Z"
   },
   {
    "duration": 838,
    "start_time": "2023-11-16T20:18:19.922Z"
   },
   {
    "duration": 2,
    "start_time": "2023-11-16T20:18:20.762Z"
   },
   {
    "duration": 214,
    "start_time": "2023-11-16T20:18:20.765Z"
   },
   {
    "duration": 69,
    "start_time": "2023-11-16T20:18:20.981Z"
   },
   {
    "duration": 20,
    "start_time": "2023-11-16T20:18:21.052Z"
   },
   {
    "duration": 67,
    "start_time": "2023-11-16T20:18:21.073Z"
   },
   {
    "duration": 13,
    "start_time": "2023-11-16T20:18:21.142Z"
   },
   {
    "duration": 22,
    "start_time": "2023-11-16T20:18:21.157Z"
   },
   {
    "duration": 8,
    "start_time": "2023-11-16T20:18:21.180Z"
   },
   {
    "duration": 6,
    "start_time": "2023-11-16T20:18:21.191Z"
   },
   {
    "duration": 7,
    "start_time": "2023-11-16T20:18:21.199Z"
   },
   {
    "duration": 14,
    "start_time": "2023-11-16T20:18:21.207Z"
   },
   {
    "duration": 30,
    "start_time": "2023-11-16T20:18:21.222Z"
   },
   {
    "duration": 4,
    "start_time": "2023-11-16T20:18:21.253Z"
   },
   {
    "duration": 19,
    "start_time": "2023-11-16T20:18:21.258Z"
   },
   {
    "duration": 13,
    "start_time": "2023-11-16T20:18:21.279Z"
   },
   {
    "duration": 7,
    "start_time": "2023-11-16T20:18:21.294Z"
   },
   {
    "duration": 7,
    "start_time": "2023-11-16T20:18:21.302Z"
   },
   {
    "duration": 9,
    "start_time": "2023-11-16T20:18:21.311Z"
   },
   {
    "duration": 33,
    "start_time": "2023-11-16T20:18:21.321Z"
   },
   {
    "duration": 9,
    "start_time": "2023-11-16T20:18:21.356Z"
   },
   {
    "duration": 6,
    "start_time": "2023-11-16T20:18:21.367Z"
   },
   {
    "duration": 9,
    "start_time": "2023-11-16T20:18:21.375Z"
   },
   {
    "duration": 16,
    "start_time": "2023-11-16T20:18:21.386Z"
   },
   {
    "duration": 80,
    "start_time": "2023-11-16T20:18:21.404Z"
   },
   {
    "duration": 8,
    "start_time": "2023-11-16T20:18:21.485Z"
   },
   {
    "duration": 7,
    "start_time": "2023-11-16T20:18:21.494Z"
   },
   {
    "duration": 6,
    "start_time": "2023-11-16T20:18:21.505Z"
   },
   {
    "duration": 40,
    "start_time": "2023-11-16T20:18:21.512Z"
   },
   {
    "duration": 16,
    "start_time": "2023-11-16T20:18:21.553Z"
   },
   {
    "duration": 14,
    "start_time": "2023-11-16T20:18:21.571Z"
   },
   {
    "duration": 5,
    "start_time": "2023-11-16T20:18:21.587Z"
   },
   {
    "duration": 22,
    "start_time": "2023-11-16T20:18:21.594Z"
   },
   {
    "duration": 5,
    "start_time": "2023-11-16T20:18:21.618Z"
   },
   {
    "duration": 10,
    "start_time": "2023-11-16T20:18:21.652Z"
   },
   {
    "duration": 22,
    "start_time": "2023-11-16T20:18:21.663Z"
   },
   {
    "duration": 21,
    "start_time": "2023-11-16T20:18:21.687Z"
   },
   {
    "duration": 49,
    "start_time": "2023-11-16T20:18:21.709Z"
   },
   {
    "duration": 15,
    "start_time": "2023-11-16T20:18:21.759Z"
   },
   {
    "duration": 5,
    "start_time": "2023-11-16T20:18:21.776Z"
   },
   {
    "duration": 9,
    "start_time": "2023-11-16T20:18:21.782Z"
   },
   {
    "duration": 13,
    "start_time": "2023-11-16T20:18:21.792Z"
   },
   {
    "duration": 4,
    "start_time": "2023-11-16T20:18:21.806Z"
   },
   {
    "duration": 7,
    "start_time": "2023-11-16T20:18:21.812Z"
   },
   {
    "duration": 5,
    "start_time": "2023-11-16T20:18:21.852Z"
   },
   {
    "duration": 6,
    "start_time": "2023-11-16T20:18:21.859Z"
   },
   {
    "duration": 12,
    "start_time": "2023-11-16T20:18:21.867Z"
   },
   {
    "duration": 7,
    "start_time": "2023-11-16T20:18:21.881Z"
   },
   {
    "duration": 4,
    "start_time": "2023-11-16T20:18:21.889Z"
   },
   {
    "duration": 24,
    "start_time": "2023-11-16T20:18:21.895Z"
   },
   {
    "duration": 37,
    "start_time": "2023-11-16T20:18:21.920Z"
   },
   {
    "duration": 5,
    "start_time": "2023-11-16T20:18:21.959Z"
   },
   {
    "duration": 5,
    "start_time": "2023-11-16T20:18:21.966Z"
   },
   {
    "duration": 28,
    "start_time": "2023-11-16T20:18:21.973Z"
   },
   {
    "duration": 61,
    "start_time": "2023-11-16T20:18:22.003Z"
   },
   {
    "duration": 24,
    "start_time": "2023-11-16T20:18:22.065Z"
   },
   {
    "duration": 3,
    "start_time": "2023-11-16T20:18:22.091Z"
   },
   {
    "duration": 133,
    "start_time": "2023-11-16T20:18:22.095Z"
   },
   {
    "duration": 5,
    "start_time": "2023-11-16T20:18:22.230Z"
   },
   {
    "duration": 15,
    "start_time": "2023-11-16T20:18:22.237Z"
   },
   {
    "duration": 3,
    "start_time": "2023-11-16T20:18:22.253Z"
   },
   {
    "duration": 28,
    "start_time": "2023-11-16T20:18:22.257Z"
   },
   {
    "duration": 7,
    "start_time": "2023-11-16T20:18:22.288Z"
   },
   {
    "duration": 19,
    "start_time": "2023-11-16T20:18:22.296Z"
   },
   {
    "duration": 5,
    "start_time": "2023-11-16T20:18:22.317Z"
   },
   {
    "duration": 43,
    "start_time": "2023-11-16T20:18:22.324Z"
   },
   {
    "duration": 5,
    "start_time": "2023-11-16T20:18:22.369Z"
   },
   {
    "duration": 3,
    "start_time": "2023-11-16T20:18:22.376Z"
   },
   {
    "duration": 18,
    "start_time": "2023-11-16T20:18:22.381Z"
   },
   {
    "duration": 3,
    "start_time": "2023-11-16T20:18:22.401Z"
   },
   {
    "duration": 11,
    "start_time": "2023-11-16T20:18:22.405Z"
   },
   {
    "duration": 36,
    "start_time": "2023-11-16T20:18:22.418Z"
   },
   {
    "duration": 8,
    "start_time": "2023-11-16T20:18:22.455Z"
   },
   {
    "duration": 36,
    "start_time": "2023-11-16T20:18:22.464Z"
   },
   {
    "duration": 252,
    "start_time": "2023-11-16T20:18:22.502Z"
   },
   {
    "duration": 10,
    "start_time": "2023-11-16T20:18:22.755Z"
   },
   {
    "duration": 185,
    "start_time": "2023-11-16T20:18:22.767Z"
   },
   {
    "duration": 189,
    "start_time": "2023-11-16T20:18:22.953Z"
   },
   {
    "duration": 249,
    "start_time": "2023-11-16T20:18:23.144Z"
   },
   {
    "duration": 15,
    "start_time": "2023-11-16T20:18:23.395Z"
   },
   {
    "duration": 8,
    "start_time": "2023-11-16T20:18:23.412Z"
   },
   {
    "duration": 8,
    "start_time": "2023-11-16T20:18:23.453Z"
   },
   {
    "duration": 15,
    "start_time": "2023-11-16T20:18:23.462Z"
   },
   {
    "duration": 11,
    "start_time": "2023-11-16T20:18:23.479Z"
   },
   {
    "duration": 12,
    "start_time": "2023-11-16T20:35:19.121Z"
   },
   {
    "duration": 54,
    "start_time": "2023-11-17T08:21:20.800Z"
   },
   {
    "duration": 821,
    "start_time": "2023-11-17T08:21:53.937Z"
   },
   {
    "duration": 3,
    "start_time": "2023-11-17T08:21:54.761Z"
   },
   {
    "duration": 281,
    "start_time": "2023-11-17T08:21:54.765Z"
   },
   {
    "duration": 84,
    "start_time": "2023-11-17T08:21:55.048Z"
   },
   {
    "duration": 16,
    "start_time": "2023-11-17T08:21:55.133Z"
   },
   {
    "duration": 84,
    "start_time": "2023-11-17T08:21:55.151Z"
   },
   {
    "duration": 11,
    "start_time": "2023-11-17T08:21:55.236Z"
   },
   {
    "duration": 22,
    "start_time": "2023-11-17T08:21:55.249Z"
   },
   {
    "duration": 9,
    "start_time": "2023-11-17T08:21:55.273Z"
   },
   {
    "duration": 7,
    "start_time": "2023-11-17T08:21:55.284Z"
   },
   {
    "duration": 4,
    "start_time": "2023-11-17T08:21:55.292Z"
   },
   {
    "duration": 24,
    "start_time": "2023-11-17T08:21:55.298Z"
   },
   {
    "duration": 12,
    "start_time": "2023-11-17T08:21:55.324Z"
   },
   {
    "duration": 4,
    "start_time": "2023-11-17T08:21:55.337Z"
   },
   {
    "duration": 22,
    "start_time": "2023-11-17T08:21:55.343Z"
   },
   {
    "duration": 14,
    "start_time": "2023-11-17T08:21:55.366Z"
   },
   {
    "duration": 26,
    "start_time": "2023-11-17T08:21:55.381Z"
   },
   {
    "duration": 6,
    "start_time": "2023-11-17T08:21:55.409Z"
   },
   {
    "duration": 7,
    "start_time": "2023-11-17T08:21:55.418Z"
   },
   {
    "duration": 6,
    "start_time": "2023-11-17T08:21:55.426Z"
   },
   {
    "duration": 10,
    "start_time": "2023-11-17T08:21:55.433Z"
   },
   {
    "duration": 16,
    "start_time": "2023-11-17T08:21:55.444Z"
   },
   {
    "duration": 14,
    "start_time": "2023-11-17T08:21:55.461Z"
   },
   {
    "duration": 14,
    "start_time": "2023-11-17T08:21:55.476Z"
   },
   {
    "duration": 70,
    "start_time": "2023-11-17T08:21:55.492Z"
   },
   {
    "duration": 6,
    "start_time": "2023-11-17T08:21:55.564Z"
   },
   {
    "duration": 5,
    "start_time": "2023-11-17T08:21:55.572Z"
   },
   {
    "duration": 6,
    "start_time": "2023-11-17T08:21:55.581Z"
   },
   {
    "duration": 22,
    "start_time": "2023-11-17T08:21:55.588Z"
   },
   {
    "duration": 17,
    "start_time": "2023-11-17T08:21:55.611Z"
   },
   {
    "duration": 16,
    "start_time": "2023-11-17T08:21:55.630Z"
   },
   {
    "duration": 42,
    "start_time": "2023-11-17T08:21:55.647Z"
   },
   {
    "duration": 26,
    "start_time": "2023-11-17T08:21:55.691Z"
   },
   {
    "duration": 25,
    "start_time": "2023-11-17T08:21:55.718Z"
   },
   {
    "duration": 17,
    "start_time": "2023-11-17T08:21:55.744Z"
   },
   {
    "duration": 28,
    "start_time": "2023-11-17T08:21:55.763Z"
   },
   {
    "duration": 22,
    "start_time": "2023-11-17T08:21:55.792Z"
   },
   {
    "duration": 37,
    "start_time": "2023-11-17T08:21:55.815Z"
   },
   {
    "duration": 16,
    "start_time": "2023-11-17T08:21:55.853Z"
   },
   {
    "duration": 11,
    "start_time": "2023-11-17T08:21:55.870Z"
   },
   {
    "duration": 7,
    "start_time": "2023-11-17T08:21:55.882Z"
   },
   {
    "duration": 23,
    "start_time": "2023-11-17T08:21:55.891Z"
   },
   {
    "duration": 6,
    "start_time": "2023-11-17T08:21:55.916Z"
   },
   {
    "duration": 9,
    "start_time": "2023-11-17T08:21:55.923Z"
   },
   {
    "duration": 6,
    "start_time": "2023-11-17T08:21:55.933Z"
   },
   {
    "duration": 7,
    "start_time": "2023-11-17T08:21:55.941Z"
   },
   {
    "duration": 8,
    "start_time": "2023-11-17T08:21:55.949Z"
   },
   {
    "duration": 4,
    "start_time": "2023-11-17T08:21:55.959Z"
   },
   {
    "duration": 3,
    "start_time": "2023-11-17T08:21:55.965Z"
   },
   {
    "duration": 41,
    "start_time": "2023-11-17T08:21:55.969Z"
   },
   {
    "duration": 5,
    "start_time": "2023-11-17T08:21:56.012Z"
   },
   {
    "duration": 8,
    "start_time": "2023-11-17T08:21:56.019Z"
   },
   {
    "duration": 8,
    "start_time": "2023-11-17T08:21:56.028Z"
   },
   {
    "duration": 32,
    "start_time": "2023-11-17T08:21:56.037Z"
   },
   {
    "duration": 39,
    "start_time": "2023-11-17T08:21:56.070Z"
   },
   {
    "duration": 26,
    "start_time": "2023-11-17T08:21:56.110Z"
   },
   {
    "duration": 10,
    "start_time": "2023-11-17T08:21:56.138Z"
   },
   {
    "duration": 142,
    "start_time": "2023-11-17T08:21:56.150Z"
   },
   {
    "duration": 9,
    "start_time": "2023-11-17T08:21:56.293Z"
   },
   {
    "duration": 6,
    "start_time": "2023-11-17T08:21:56.303Z"
   },
   {
    "duration": 3,
    "start_time": "2023-11-17T08:21:56.311Z"
   },
   {
    "duration": 37,
    "start_time": "2023-11-17T08:21:56.315Z"
   },
   {
    "duration": 6,
    "start_time": "2023-11-17T08:21:56.354Z"
   },
   {
    "duration": 22,
    "start_time": "2023-11-17T08:21:56.361Z"
   },
   {
    "duration": 17,
    "start_time": "2023-11-17T08:21:56.385Z"
   },
   {
    "duration": 40,
    "start_time": "2023-11-17T08:21:56.403Z"
   },
   {
    "duration": 36,
    "start_time": "2023-11-17T08:21:56.445Z"
   },
   {
    "duration": 6,
    "start_time": "2023-11-17T08:21:56.483Z"
   },
   {
    "duration": 24,
    "start_time": "2023-11-17T08:21:56.491Z"
   },
   {
    "duration": 17,
    "start_time": "2023-11-17T08:21:56.516Z"
   },
   {
    "duration": 18,
    "start_time": "2023-11-17T08:21:56.534Z"
   },
   {
    "duration": 20,
    "start_time": "2023-11-17T08:21:56.554Z"
   },
   {
    "duration": 10,
    "start_time": "2023-11-17T08:21:56.576Z"
   },
   {
    "duration": 61,
    "start_time": "2023-11-17T08:21:56.587Z"
   },
   {
    "duration": 0,
    "start_time": "2023-11-17T08:21:56.650Z"
   },
   {
    "duration": 0,
    "start_time": "2023-11-17T08:21:56.651Z"
   },
   {
    "duration": 0,
    "start_time": "2023-11-17T08:21:56.653Z"
   },
   {
    "duration": 0,
    "start_time": "2023-11-17T08:21:56.654Z"
   },
   {
    "duration": 0,
    "start_time": "2023-11-17T08:21:56.655Z"
   },
   {
    "duration": 0,
    "start_time": "2023-11-17T08:21:56.656Z"
   },
   {
    "duration": 0,
    "start_time": "2023-11-17T08:21:56.657Z"
   },
   {
    "duration": 0,
    "start_time": "2023-11-17T08:21:56.659Z"
   },
   {
    "duration": 0,
    "start_time": "2023-11-17T08:21:56.660Z"
   },
   {
    "duration": 0,
    "start_time": "2023-11-17T08:21:56.661Z"
   },
   {
    "duration": 12,
    "start_time": "2023-11-17T08:22:43.277Z"
   },
   {
    "duration": 1411,
    "start_time": "2023-11-17T08:23:07.529Z"
   },
   {
    "duration": 13,
    "start_time": "2023-11-17T08:24:07.695Z"
   },
   {
    "duration": 9,
    "start_time": "2023-11-17T08:24:20.122Z"
   },
   {
    "duration": 9,
    "start_time": "2023-11-17T08:25:51.218Z"
   },
   {
    "duration": 15,
    "start_time": "2023-11-17T08:28:49.230Z"
   },
   {
    "duration": 11,
    "start_time": "2023-11-17T08:31:25.868Z"
   },
   {
    "duration": 1441,
    "start_time": "2023-11-17T15:58:36.002Z"
   },
   {
    "duration": 125,
    "start_time": "2023-11-17T15:58:45.662Z"
   },
   {
    "duration": 3,
    "start_time": "2023-11-17T15:59:09.400Z"
   },
   {
    "duration": 139,
    "start_time": "2023-11-17T15:59:09.406Z"
   },
   {
    "duration": 224,
    "start_time": "2023-11-17T15:59:09.546Z"
   },
   {
    "duration": 94,
    "start_time": "2023-11-17T15:59:09.772Z"
   },
   {
    "duration": 18,
    "start_time": "2023-11-17T15:59:09.868Z"
   },
   {
    "duration": 82,
    "start_time": "2023-11-17T15:59:09.887Z"
   },
   {
    "duration": 10,
    "start_time": "2023-11-17T15:59:09.971Z"
   },
   {
    "duration": 29,
    "start_time": "2023-11-17T15:59:09.983Z"
   },
   {
    "duration": 23,
    "start_time": "2023-11-17T15:59:10.014Z"
   },
   {
    "duration": 32,
    "start_time": "2023-11-17T15:59:10.038Z"
   },
   {
    "duration": 23,
    "start_time": "2023-11-17T15:59:10.072Z"
   },
   {
    "duration": 41,
    "start_time": "2023-11-17T15:59:10.097Z"
   },
   {
    "duration": 23,
    "start_time": "2023-11-17T15:59:10.142Z"
   },
   {
    "duration": 16,
    "start_time": "2023-11-17T15:59:10.166Z"
   },
   {
    "duration": 25,
    "start_time": "2023-11-17T15:59:10.183Z"
   },
   {
    "duration": 21,
    "start_time": "2023-11-17T15:59:10.215Z"
   },
   {
    "duration": 9,
    "start_time": "2023-11-17T15:59:10.238Z"
   },
   {
    "duration": 31,
    "start_time": "2023-11-17T15:59:10.248Z"
   },
   {
    "duration": 8,
    "start_time": "2023-11-17T15:59:10.280Z"
   },
   {
    "duration": 8,
    "start_time": "2023-11-17T15:59:10.290Z"
   },
   {
    "duration": 18,
    "start_time": "2023-11-17T15:59:10.299Z"
   },
   {
    "duration": 13,
    "start_time": "2023-11-17T15:59:10.318Z"
   },
   {
    "duration": 31,
    "start_time": "2023-11-17T15:59:10.332Z"
   },
   {
    "duration": 10,
    "start_time": "2023-11-17T15:59:10.364Z"
   },
   {
    "duration": 68,
    "start_time": "2023-11-17T15:59:10.376Z"
   },
   {
    "duration": 8,
    "start_time": "2023-11-17T15:59:10.446Z"
   },
   {
    "duration": 30,
    "start_time": "2023-11-17T15:59:10.456Z"
   },
   {
    "duration": 7,
    "start_time": "2023-11-17T15:59:10.488Z"
   },
   {
    "duration": 18,
    "start_time": "2023-11-17T15:59:10.496Z"
   },
   {
    "duration": 19,
    "start_time": "2023-11-17T15:59:10.521Z"
   },
   {
    "duration": 16,
    "start_time": "2023-11-17T15:59:10.542Z"
   },
   {
    "duration": 10,
    "start_time": "2023-11-17T15:59:10.560Z"
   },
   {
    "duration": 19,
    "start_time": "2023-11-17T15:59:10.571Z"
   },
   {
    "duration": 14,
    "start_time": "2023-11-17T15:59:10.606Z"
   },
   {
    "duration": 32,
    "start_time": "2023-11-17T15:59:10.622Z"
   },
   {
    "duration": 31,
    "start_time": "2023-11-17T15:59:10.656Z"
   },
   {
    "duration": 34,
    "start_time": "2023-11-17T15:59:10.693Z"
   },
   {
    "duration": 28,
    "start_time": "2023-11-17T15:59:10.729Z"
   },
   {
    "duration": 17,
    "start_time": "2023-11-17T15:59:10.758Z"
   },
   {
    "duration": 6,
    "start_time": "2023-11-17T15:59:10.776Z"
   },
   {
    "duration": 31,
    "start_time": "2023-11-17T15:59:10.784Z"
   },
   {
    "duration": 10,
    "start_time": "2023-11-17T15:59:10.821Z"
   },
   {
    "duration": 8,
    "start_time": "2023-11-17T15:59:10.833Z"
   },
   {
    "duration": 14,
    "start_time": "2023-11-17T15:59:10.843Z"
   },
   {
    "duration": 12,
    "start_time": "2023-11-17T15:59:10.859Z"
   },
   {
    "duration": 5,
    "start_time": "2023-11-17T15:59:10.873Z"
   },
   {
    "duration": 13,
    "start_time": "2023-11-17T15:59:10.880Z"
   },
   {
    "duration": 23,
    "start_time": "2023-11-17T15:59:10.895Z"
   },
   {
    "duration": 6,
    "start_time": "2023-11-17T15:59:10.920Z"
   },
   {
    "duration": 27,
    "start_time": "2023-11-17T15:59:10.928Z"
   },
   {
    "duration": 6,
    "start_time": "2023-11-17T15:59:10.957Z"
   },
   {
    "duration": 5,
    "start_time": "2023-11-17T15:59:10.965Z"
   },
   {
    "duration": 5,
    "start_time": "2023-11-17T15:59:10.972Z"
   },
   {
    "duration": 53,
    "start_time": "2023-11-17T15:59:10.979Z"
   },
   {
    "duration": 26,
    "start_time": "2023-11-17T15:59:11.034Z"
   },
   {
    "duration": 26,
    "start_time": "2023-11-17T15:59:11.062Z"
   },
   {
    "duration": 26,
    "start_time": "2023-11-17T15:59:11.090Z"
   },
   {
    "duration": 161,
    "start_time": "2023-11-17T15:59:11.120Z"
   },
   {
    "duration": 7,
    "start_time": "2023-11-17T15:59:11.283Z"
   },
   {
    "duration": 28,
    "start_time": "2023-11-17T15:59:11.291Z"
   },
   {
    "duration": 6,
    "start_time": "2023-11-17T15:59:11.328Z"
   },
   {
    "duration": 32,
    "start_time": "2023-11-17T15:59:11.336Z"
   },
   {
    "duration": 6,
    "start_time": "2023-11-17T15:59:11.370Z"
   },
   {
    "duration": 16,
    "start_time": "2023-11-17T15:59:11.378Z"
   },
   {
    "duration": 8,
    "start_time": "2023-11-17T15:59:11.395Z"
   },
   {
    "duration": 37,
    "start_time": "2023-11-17T15:59:11.409Z"
   },
   {
    "duration": 6,
    "start_time": "2023-11-17T15:59:11.448Z"
   },
   {
    "duration": 5,
    "start_time": "2023-11-17T15:59:11.456Z"
   },
   {
    "duration": 19,
    "start_time": "2023-11-17T15:59:11.463Z"
   },
   {
    "duration": 6,
    "start_time": "2023-11-17T15:59:11.483Z"
   },
   {
    "duration": 33,
    "start_time": "2023-11-17T15:59:11.490Z"
   },
   {
    "duration": 22,
    "start_time": "2023-11-17T15:59:11.525Z"
   },
   {
    "duration": 9,
    "start_time": "2023-11-17T15:59:11.548Z"
   },
   {
    "duration": 10,
    "start_time": "2023-11-17T15:59:11.558Z"
   },
   {
    "duration": 55,
    "start_time": "2023-11-17T15:59:11.569Z"
   },
   {
    "duration": 194,
    "start_time": "2023-11-17T15:59:11.626Z"
   },
   {
    "duration": 17,
    "start_time": "2023-11-17T15:59:11.822Z"
   },
   {
    "duration": 0,
    "start_time": "2023-11-17T15:59:11.841Z"
   },
   {
    "duration": 0,
    "start_time": "2023-11-17T15:59:11.842Z"
   },
   {
    "duration": 0,
    "start_time": "2023-11-17T15:59:11.843Z"
   },
   {
    "duration": 0,
    "start_time": "2023-11-17T15:59:11.845Z"
   },
   {
    "duration": 0,
    "start_time": "2023-11-17T15:59:11.846Z"
   },
   {
    "duration": 0,
    "start_time": "2023-11-17T15:59:11.847Z"
   },
   {
    "duration": 0,
    "start_time": "2023-11-17T15:59:11.849Z"
   },
   {
    "duration": 0,
    "start_time": "2023-11-17T15:59:11.850Z"
   },
   {
    "duration": 0,
    "start_time": "2023-11-17T15:59:11.852Z"
   },
   {
    "duration": 163,
    "start_time": "2023-11-17T16:06:47.552Z"
   },
   {
    "duration": 168,
    "start_time": "2023-11-17T16:07:30.480Z"
   },
   {
    "duration": 1449,
    "start_time": "2023-11-17T17:14:55.822Z"
   },
   {
    "duration": 3,
    "start_time": "2023-11-17T17:14:57.273Z"
   },
   {
    "duration": 204,
    "start_time": "2023-11-17T17:14:57.277Z"
   },
   {
    "duration": 68,
    "start_time": "2023-11-17T17:14:57.483Z"
   },
   {
    "duration": 16,
    "start_time": "2023-11-17T17:14:57.552Z"
   },
   {
    "duration": 92,
    "start_time": "2023-11-17T17:14:57.570Z"
   },
   {
    "duration": 11,
    "start_time": "2023-11-17T17:14:57.663Z"
   },
   {
    "duration": 26,
    "start_time": "2023-11-17T17:14:57.675Z"
   },
   {
    "duration": 10,
    "start_time": "2023-11-17T17:14:57.703Z"
   },
   {
    "duration": 25,
    "start_time": "2023-11-17T17:14:57.716Z"
   },
   {
    "duration": 31,
    "start_time": "2023-11-17T17:14:57.743Z"
   },
   {
    "duration": 33,
    "start_time": "2023-11-17T17:14:57.775Z"
   },
   {
    "duration": 21,
    "start_time": "2023-11-17T17:14:57.809Z"
   },
   {
    "duration": 7,
    "start_time": "2023-11-17T17:14:57.832Z"
   },
   {
    "duration": 28,
    "start_time": "2023-11-17T17:14:57.841Z"
   },
   {
    "duration": 19,
    "start_time": "2023-11-17T17:14:57.871Z"
   },
   {
    "duration": 15,
    "start_time": "2023-11-17T17:14:57.892Z"
   },
   {
    "duration": 21,
    "start_time": "2023-11-17T17:14:57.909Z"
   },
   {
    "duration": 15,
    "start_time": "2023-11-17T17:14:57.933Z"
   },
   {
    "duration": 25,
    "start_time": "2023-11-17T17:14:57.950Z"
   },
   {
    "duration": 19,
    "start_time": "2023-11-17T17:14:57.977Z"
   },
   {
    "duration": 26,
    "start_time": "2023-11-17T17:14:57.998Z"
   },
   {
    "duration": 20,
    "start_time": "2023-11-17T17:14:58.025Z"
   },
   {
    "duration": 39,
    "start_time": "2023-11-17T17:14:58.047Z"
   },
   {
    "duration": 65,
    "start_time": "2023-11-17T17:14:58.088Z"
   },
   {
    "duration": 7,
    "start_time": "2023-11-17T17:14:58.155Z"
   },
   {
    "duration": 18,
    "start_time": "2023-11-17T17:14:58.163Z"
   },
   {
    "duration": 25,
    "start_time": "2023-11-17T17:14:58.185Z"
   },
   {
    "duration": 44,
    "start_time": "2023-11-17T17:14:58.212Z"
   },
   {
    "duration": 44,
    "start_time": "2023-11-17T17:14:58.258Z"
   },
   {
    "duration": 24,
    "start_time": "2023-11-17T17:14:58.304Z"
   },
   {
    "duration": 17,
    "start_time": "2023-11-17T17:14:58.330Z"
   },
   {
    "duration": 59,
    "start_time": "2023-11-17T17:14:58.348Z"
   },
   {
    "duration": 26,
    "start_time": "2023-11-17T17:14:58.408Z"
   },
   {
    "duration": 41,
    "start_time": "2023-11-17T17:14:58.436Z"
   },
   {
    "duration": 35,
    "start_time": "2023-11-17T17:14:58.479Z"
   },
   {
    "duration": 26,
    "start_time": "2023-11-17T17:14:58.516Z"
   },
   {
    "duration": 28,
    "start_time": "2023-11-17T17:14:58.543Z"
   },
   {
    "duration": 16,
    "start_time": "2023-11-17T17:14:58.572Z"
   },
   {
    "duration": 16,
    "start_time": "2023-11-17T17:14:58.590Z"
   },
   {
    "duration": 18,
    "start_time": "2023-11-17T17:14:58.608Z"
   },
   {
    "duration": 34,
    "start_time": "2023-11-17T17:14:58.628Z"
   },
   {
    "duration": 21,
    "start_time": "2023-11-17T17:14:58.664Z"
   },
   {
    "duration": 27,
    "start_time": "2023-11-17T17:14:58.687Z"
   },
   {
    "duration": 32,
    "start_time": "2023-11-17T17:14:58.715Z"
   },
   {
    "duration": 16,
    "start_time": "2023-11-17T17:14:58.748Z"
   },
   {
    "duration": 14,
    "start_time": "2023-11-17T17:14:58.766Z"
   },
   {
    "duration": 37,
    "start_time": "2023-11-17T17:14:58.781Z"
   },
   {
    "duration": 6,
    "start_time": "2023-11-17T17:14:58.819Z"
   },
   {
    "duration": 34,
    "start_time": "2023-11-17T17:14:58.826Z"
   },
   {
    "duration": 23,
    "start_time": "2023-11-17T17:14:58.862Z"
   },
   {
    "duration": 11,
    "start_time": "2023-11-17T17:14:58.886Z"
   },
   {
    "duration": 22,
    "start_time": "2023-11-17T17:14:58.898Z"
   },
   {
    "duration": 40,
    "start_time": "2023-11-17T17:14:58.921Z"
   },
   {
    "duration": 26,
    "start_time": "2023-11-17T17:14:58.962Z"
   },
   {
    "duration": 46,
    "start_time": "2023-11-17T17:14:58.990Z"
   },
   {
    "duration": 9,
    "start_time": "2023-11-17T17:14:59.038Z"
   },
   {
    "duration": 187,
    "start_time": "2023-11-17T17:14:59.048Z"
   },
   {
    "duration": 7,
    "start_time": "2023-11-17T17:14:59.237Z"
   },
   {
    "duration": 15,
    "start_time": "2023-11-17T17:14:59.245Z"
   },
   {
    "duration": 17,
    "start_time": "2023-11-17T17:14:59.262Z"
   },
   {
    "duration": 36,
    "start_time": "2023-11-17T17:14:59.281Z"
   },
   {
    "duration": 6,
    "start_time": "2023-11-17T17:14:59.319Z"
   },
   {
    "duration": 19,
    "start_time": "2023-11-17T17:14:59.326Z"
   },
   {
    "duration": 8,
    "start_time": "2023-11-17T17:14:59.347Z"
   },
   {
    "duration": 51,
    "start_time": "2023-11-17T17:14:59.357Z"
   },
   {
    "duration": 16,
    "start_time": "2023-11-17T17:14:59.410Z"
   },
   {
    "duration": 9,
    "start_time": "2023-11-17T17:14:59.428Z"
   },
   {
    "duration": 30,
    "start_time": "2023-11-17T17:14:59.438Z"
   },
   {
    "duration": 26,
    "start_time": "2023-11-17T17:14:59.470Z"
   },
   {
    "duration": 44,
    "start_time": "2023-11-17T17:14:59.497Z"
   },
   {
    "duration": 20,
    "start_time": "2023-11-17T17:14:59.543Z"
   },
   {
    "duration": 22,
    "start_time": "2023-11-17T17:14:59.564Z"
   },
   {
    "duration": 10,
    "start_time": "2023-11-17T17:14:59.588Z"
   },
   {
    "duration": 24,
    "start_time": "2023-11-17T17:14:59.600Z"
   },
   {
    "duration": 191,
    "start_time": "2023-11-17T17:14:59.626Z"
   },
   {
    "duration": 160,
    "start_time": "2023-11-17T17:14:59.819Z"
   },
   {
    "duration": 181,
    "start_time": "2023-11-17T17:14:59.981Z"
   },
   {
    "duration": 148,
    "start_time": "2023-11-17T17:15:00.164Z"
   },
   {
    "duration": 0,
    "start_time": "2023-11-17T17:15:00.314Z"
   },
   {
    "duration": 0,
    "start_time": "2023-11-17T17:15:00.315Z"
   },
   {
    "duration": 0,
    "start_time": "2023-11-17T17:15:00.316Z"
   },
   {
    "duration": 0,
    "start_time": "2023-11-17T17:15:00.317Z"
   },
   {
    "duration": 0,
    "start_time": "2023-11-17T17:15:00.318Z"
   },
   {
    "duration": 0,
    "start_time": "2023-11-17T17:15:00.320Z"
   },
   {
    "duration": 0,
    "start_time": "2023-11-17T17:15:00.321Z"
   },
   {
    "duration": 1433,
    "start_time": "2023-11-18T04:59:42.973Z"
   },
   {
    "duration": 2,
    "start_time": "2023-11-18T04:59:44.409Z"
   },
   {
    "duration": 207,
    "start_time": "2023-11-18T04:59:44.413Z"
   },
   {
    "duration": 71,
    "start_time": "2023-11-18T04:59:44.621Z"
   },
   {
    "duration": 17,
    "start_time": "2023-11-18T04:59:44.693Z"
   },
   {
    "duration": 70,
    "start_time": "2023-11-18T04:59:44.712Z"
   },
   {
    "duration": 10,
    "start_time": "2023-11-18T04:59:44.784Z"
   },
   {
    "duration": 22,
    "start_time": "2023-11-18T04:59:44.795Z"
   },
   {
    "duration": 10,
    "start_time": "2023-11-18T04:59:44.819Z"
   },
   {
    "duration": 7,
    "start_time": "2023-11-18T04:59:44.832Z"
   },
   {
    "duration": 4,
    "start_time": "2023-11-18T04:59:44.841Z"
   },
   {
    "duration": 30,
    "start_time": "2023-11-18T04:59:44.846Z"
   },
   {
    "duration": 12,
    "start_time": "2023-11-18T04:59:44.877Z"
   },
   {
    "duration": 4,
    "start_time": "2023-11-18T04:59:44.890Z"
   },
   {
    "duration": 15,
    "start_time": "2023-11-18T04:59:44.896Z"
   },
   {
    "duration": 14,
    "start_time": "2023-11-18T04:59:44.912Z"
   },
   {
    "duration": 5,
    "start_time": "2023-11-18T04:59:44.928Z"
   },
   {
    "duration": 4,
    "start_time": "2023-11-18T04:59:44.966Z"
   },
   {
    "duration": 8,
    "start_time": "2023-11-18T04:59:44.971Z"
   },
   {
    "duration": 5,
    "start_time": "2023-11-18T04:59:44.980Z"
   },
   {
    "duration": 6,
    "start_time": "2023-11-18T04:59:44.986Z"
   },
   {
    "duration": 5,
    "start_time": "2023-11-18T04:59:44.994Z"
   },
   {
    "duration": 33,
    "start_time": "2023-11-18T04:59:45.000Z"
   },
   {
    "duration": 39,
    "start_time": "2023-11-18T04:59:45.035Z"
   },
   {
    "duration": 58,
    "start_time": "2023-11-18T04:59:45.076Z"
   },
   {
    "duration": 7,
    "start_time": "2023-11-18T04:59:45.136Z"
   },
   {
    "duration": 22,
    "start_time": "2023-11-18T04:59:45.144Z"
   },
   {
    "duration": 7,
    "start_time": "2023-11-18T04:59:45.170Z"
   },
   {
    "duration": 16,
    "start_time": "2023-11-18T04:59:45.179Z"
   },
   {
    "duration": 19,
    "start_time": "2023-11-18T04:59:45.196Z"
   },
   {
    "duration": 15,
    "start_time": "2023-11-18T04:59:45.216Z"
   },
   {
    "duration": 32,
    "start_time": "2023-11-18T04:59:45.233Z"
   },
   {
    "duration": 20,
    "start_time": "2023-11-18T04:59:45.267Z"
   },
   {
    "duration": 4,
    "start_time": "2023-11-18T04:59:45.289Z"
   },
   {
    "duration": 12,
    "start_time": "2023-11-18T04:59:45.294Z"
   },
   {
    "duration": 24,
    "start_time": "2023-11-18T04:59:45.308Z"
   },
   {
    "duration": 48,
    "start_time": "2023-11-18T04:59:45.334Z"
   },
   {
    "duration": 27,
    "start_time": "2023-11-18T04:59:45.384Z"
   },
   {
    "duration": 16,
    "start_time": "2023-11-18T04:59:45.413Z"
   },
   {
    "duration": 10,
    "start_time": "2023-11-18T04:59:45.430Z"
   },
   {
    "duration": 25,
    "start_time": "2023-11-18T04:59:45.441Z"
   },
   {
    "duration": 9,
    "start_time": "2023-11-18T04:59:45.468Z"
   },
   {
    "duration": 6,
    "start_time": "2023-11-18T04:59:45.478Z"
   },
   {
    "duration": 7,
    "start_time": "2023-11-18T04:59:45.485Z"
   },
   {
    "duration": 12,
    "start_time": "2023-11-18T04:59:45.494Z"
   },
   {
    "duration": 5,
    "start_time": "2023-11-18T04:59:45.507Z"
   },
   {
    "duration": 12,
    "start_time": "2023-11-18T04:59:45.514Z"
   },
   {
    "duration": 5,
    "start_time": "2023-11-18T04:59:45.527Z"
   },
   {
    "duration": 3,
    "start_time": "2023-11-18T04:59:45.566Z"
   },
   {
    "duration": 20,
    "start_time": "2023-11-18T04:59:45.570Z"
   },
   {
    "duration": 6,
    "start_time": "2023-11-18T04:59:45.592Z"
   },
   {
    "duration": 13,
    "start_time": "2023-11-18T04:59:45.599Z"
   },
   {
    "duration": 7,
    "start_time": "2023-11-18T04:59:45.614Z"
   },
   {
    "duration": 46,
    "start_time": "2023-11-18T04:59:45.623Z"
   },
   {
    "duration": 27,
    "start_time": "2023-11-18T04:59:45.671Z"
   },
   {
    "duration": 26,
    "start_time": "2023-11-18T04:59:45.700Z"
   },
   {
    "duration": 8,
    "start_time": "2023-11-18T04:59:45.728Z"
   },
   {
    "duration": 156,
    "start_time": "2023-11-18T04:59:45.737Z"
   },
   {
    "duration": 6,
    "start_time": "2023-11-18T04:59:45.894Z"
   },
   {
    "duration": 11,
    "start_time": "2023-11-18T04:59:45.901Z"
   },
   {
    "duration": 3,
    "start_time": "2023-11-18T04:59:45.913Z"
   },
   {
    "duration": 29,
    "start_time": "2023-11-18T04:59:45.918Z"
   },
   {
    "duration": 6,
    "start_time": "2023-11-18T04:59:45.964Z"
   },
   {
    "duration": 14,
    "start_time": "2023-11-18T04:59:45.972Z"
   },
   {
    "duration": 5,
    "start_time": "2023-11-18T04:59:45.988Z"
   },
   {
    "duration": 26,
    "start_time": "2023-11-18T04:59:45.995Z"
   },
   {
    "duration": 41,
    "start_time": "2023-11-18T04:59:46.024Z"
   },
   {
    "duration": 4,
    "start_time": "2023-11-18T04:59:46.067Z"
   },
   {
    "duration": 20,
    "start_time": "2023-11-18T04:59:46.072Z"
   },
   {
    "duration": 6,
    "start_time": "2023-11-18T04:59:46.094Z"
   },
   {
    "duration": 24,
    "start_time": "2023-11-18T04:59:46.102Z"
   },
   {
    "duration": 21,
    "start_time": "2023-11-18T04:59:46.127Z"
   },
   {
    "duration": 22,
    "start_time": "2023-11-18T04:59:46.149Z"
   },
   {
    "duration": 9,
    "start_time": "2023-11-18T04:59:46.173Z"
   },
   {
    "duration": 15,
    "start_time": "2023-11-18T04:59:46.183Z"
   },
   {
    "duration": 190,
    "start_time": "2023-11-18T04:59:46.200Z"
   },
   {
    "duration": 156,
    "start_time": "2023-11-18T04:59:46.392Z"
   },
   {
    "duration": 172,
    "start_time": "2023-11-18T04:59:46.549Z"
   },
   {
    "duration": 108,
    "start_time": "2023-11-18T04:59:46.722Z"
   },
   {
    "duration": 0,
    "start_time": "2023-11-18T04:59:46.831Z"
   },
   {
    "duration": 0,
    "start_time": "2023-11-18T04:59:46.832Z"
   },
   {
    "duration": 0,
    "start_time": "2023-11-18T04:59:46.833Z"
   },
   {
    "duration": 0,
    "start_time": "2023-11-18T04:59:46.834Z"
   },
   {
    "duration": 0,
    "start_time": "2023-11-18T04:59:46.835Z"
   },
   {
    "duration": 0,
    "start_time": "2023-11-18T04:59:46.836Z"
   },
   {
    "duration": 1325,
    "start_time": "2023-11-18T17:23:07.006Z"
   },
   {
    "duration": 2,
    "start_time": "2023-11-18T17:23:08.333Z"
   },
   {
    "duration": 278,
    "start_time": "2023-11-18T17:23:08.337Z"
   },
   {
    "duration": 69,
    "start_time": "2023-11-18T17:23:08.617Z"
   },
   {
    "duration": 15,
    "start_time": "2023-11-18T17:23:08.687Z"
   },
   {
    "duration": 97,
    "start_time": "2023-11-18T17:23:08.703Z"
   },
   {
    "duration": 12,
    "start_time": "2023-11-18T17:23:08.802Z"
   },
   {
    "duration": 36,
    "start_time": "2023-11-18T17:23:08.816Z"
   },
   {
    "duration": 16,
    "start_time": "2023-11-18T17:23:08.853Z"
   },
   {
    "duration": 13,
    "start_time": "2023-11-18T17:23:08.872Z"
   },
   {
    "duration": 7,
    "start_time": "2023-11-18T17:23:08.886Z"
   },
   {
    "duration": 15,
    "start_time": "2023-11-18T17:23:08.895Z"
   },
   {
    "duration": 11,
    "start_time": "2023-11-18T17:23:08.911Z"
   },
   {
    "duration": 11,
    "start_time": "2023-11-18T17:23:08.923Z"
   },
   {
    "duration": 29,
    "start_time": "2023-11-18T17:23:08.936Z"
   },
   {
    "duration": 13,
    "start_time": "2023-11-18T17:23:08.966Z"
   },
   {
    "duration": 10,
    "start_time": "2023-11-18T17:23:08.981Z"
   },
   {
    "duration": 32,
    "start_time": "2023-11-18T17:23:08.992Z"
   },
   {
    "duration": 9,
    "start_time": "2023-11-18T17:23:09.025Z"
   },
   {
    "duration": 10,
    "start_time": "2023-11-18T17:23:09.035Z"
   },
   {
    "duration": 13,
    "start_time": "2023-11-18T17:23:09.047Z"
   },
   {
    "duration": 8,
    "start_time": "2023-11-18T17:23:09.062Z"
   },
   {
    "duration": 13,
    "start_time": "2023-11-18T17:23:09.072Z"
   },
   {
    "duration": 17,
    "start_time": "2023-11-18T17:23:09.086Z"
   },
   {
    "duration": 50,
    "start_time": "2023-11-18T17:23:09.105Z"
   },
   {
    "duration": 6,
    "start_time": "2023-11-18T17:23:09.157Z"
   },
   {
    "duration": 41,
    "start_time": "2023-11-18T17:23:09.165Z"
   },
   {
    "duration": 17,
    "start_time": "2023-11-18T17:23:09.209Z"
   },
   {
    "duration": 44,
    "start_time": "2023-11-18T17:23:09.227Z"
   },
   {
    "duration": 24,
    "start_time": "2023-11-18T17:23:09.273Z"
   },
   {
    "duration": 15,
    "start_time": "2023-11-18T17:23:09.298Z"
   },
   {
    "duration": 13,
    "start_time": "2023-11-18T17:23:09.314Z"
   },
   {
    "duration": 46,
    "start_time": "2023-11-18T17:23:09.328Z"
   },
   {
    "duration": 4,
    "start_time": "2023-11-18T17:23:09.376Z"
   },
   {
    "duration": 14,
    "start_time": "2023-11-18T17:23:09.381Z"
   },
   {
    "duration": 25,
    "start_time": "2023-11-18T17:23:09.397Z"
   },
   {
    "duration": 21,
    "start_time": "2023-11-18T17:23:09.423Z"
   },
   {
    "duration": 26,
    "start_time": "2023-11-18T17:23:09.445Z"
   },
   {
    "duration": 34,
    "start_time": "2023-11-18T17:23:09.472Z"
   },
   {
    "duration": 7,
    "start_time": "2023-11-18T17:23:09.507Z"
   },
   {
    "duration": 7,
    "start_time": "2023-11-18T17:23:09.516Z"
   },
   {
    "duration": 12,
    "start_time": "2023-11-18T17:23:09.524Z"
   },
   {
    "duration": 4,
    "start_time": "2023-11-18T17:23:09.538Z"
   },
   {
    "duration": 22,
    "start_time": "2023-11-18T17:23:09.544Z"
   },
   {
    "duration": 25,
    "start_time": "2023-11-18T17:23:09.567Z"
   },
   {
    "duration": 24,
    "start_time": "2023-11-18T17:23:09.594Z"
   },
   {
    "duration": 21,
    "start_time": "2023-11-18T17:23:09.620Z"
   },
   {
    "duration": 6,
    "start_time": "2023-11-18T17:23:09.643Z"
   },
   {
    "duration": 23,
    "start_time": "2023-11-18T17:23:09.650Z"
   },
   {
    "duration": 21,
    "start_time": "2023-11-18T17:23:09.675Z"
   },
   {
    "duration": 15,
    "start_time": "2023-11-18T17:23:09.698Z"
   },
   {
    "duration": 13,
    "start_time": "2023-11-18T17:23:09.714Z"
   },
   {
    "duration": 10,
    "start_time": "2023-11-18T17:23:09.729Z"
   },
   {
    "duration": 38,
    "start_time": "2023-11-18T17:23:09.740Z"
   },
   {
    "duration": 25,
    "start_time": "2023-11-18T17:23:09.779Z"
   },
   {
    "duration": 24,
    "start_time": "2023-11-18T17:23:09.806Z"
   },
   {
    "duration": 3,
    "start_time": "2023-11-18T17:23:09.831Z"
   },
   {
    "duration": 146,
    "start_time": "2023-11-18T17:23:09.835Z"
   },
   {
    "duration": 6,
    "start_time": "2023-11-18T17:23:09.982Z"
   },
   {
    "duration": 10,
    "start_time": "2023-11-18T17:23:09.989Z"
   },
   {
    "duration": 10,
    "start_time": "2023-11-18T17:23:10.000Z"
   },
   {
    "duration": 32,
    "start_time": "2023-11-18T17:23:10.011Z"
   },
   {
    "duration": 11,
    "start_time": "2023-11-18T17:23:10.044Z"
   },
   {
    "duration": 16,
    "start_time": "2023-11-18T17:23:10.056Z"
   },
   {
    "duration": 5,
    "start_time": "2023-11-18T17:23:10.073Z"
   },
   {
    "duration": 35,
    "start_time": "2023-11-18T17:23:10.080Z"
   },
   {
    "duration": 6,
    "start_time": "2023-11-18T17:23:10.117Z"
   },
   {
    "duration": 28,
    "start_time": "2023-11-18T17:23:10.125Z"
   },
   {
    "duration": 18,
    "start_time": "2023-11-18T17:23:10.155Z"
   },
   {
    "duration": 23,
    "start_time": "2023-11-18T17:23:10.174Z"
   },
   {
    "duration": 16,
    "start_time": "2023-11-18T17:23:10.199Z"
   },
   {
    "duration": 25,
    "start_time": "2023-11-18T17:23:10.216Z"
   },
   {
    "duration": 21,
    "start_time": "2023-11-18T17:23:10.242Z"
   },
   {
    "duration": 27,
    "start_time": "2023-11-18T17:23:10.264Z"
   },
   {
    "duration": 14,
    "start_time": "2023-11-18T17:23:10.293Z"
   },
   {
    "duration": 162,
    "start_time": "2023-11-18T17:23:10.308Z"
   },
   {
    "duration": 162,
    "start_time": "2023-11-18T17:23:10.472Z"
   },
   {
    "duration": 170,
    "start_time": "2023-11-18T17:23:10.636Z"
   },
   {
    "duration": 104,
    "start_time": "2023-11-18T17:23:10.807Z"
   },
   {
    "duration": 0,
    "start_time": "2023-11-18T17:23:10.913Z"
   },
   {
    "duration": 0,
    "start_time": "2023-11-18T17:23:10.914Z"
   },
   {
    "duration": 0,
    "start_time": "2023-11-18T17:23:10.915Z"
   },
   {
    "duration": 0,
    "start_time": "2023-11-18T17:23:10.916Z"
   },
   {
    "duration": 0,
    "start_time": "2023-11-18T17:23:10.917Z"
   },
   {
    "duration": 0,
    "start_time": "2023-11-18T17:23:10.918Z"
   },
   {
    "duration": 1359,
    "start_time": "2023-11-18T17:50:11.148Z"
   },
   {
    "duration": 3,
    "start_time": "2023-11-18T17:50:12.509Z"
   },
   {
    "duration": 201,
    "start_time": "2023-11-18T17:50:12.513Z"
   },
   {
    "duration": 62,
    "start_time": "2023-11-18T17:50:12.716Z"
   },
   {
    "duration": 15,
    "start_time": "2023-11-18T17:50:12.780Z"
   },
   {
    "duration": 95,
    "start_time": "2023-11-18T17:50:12.796Z"
   },
   {
    "duration": 10,
    "start_time": "2023-11-18T17:50:12.892Z"
   },
   {
    "duration": 26,
    "start_time": "2023-11-18T17:50:12.903Z"
   },
   {
    "duration": 9,
    "start_time": "2023-11-18T17:50:12.931Z"
   },
   {
    "duration": 13,
    "start_time": "2023-11-18T17:50:12.941Z"
   },
   {
    "duration": 8,
    "start_time": "2023-11-18T17:50:12.955Z"
   },
   {
    "duration": 14,
    "start_time": "2023-11-18T17:50:12.964Z"
   },
   {
    "duration": 17,
    "start_time": "2023-11-18T17:50:12.980Z"
   },
   {
    "duration": 9,
    "start_time": "2023-11-18T17:50:12.999Z"
   },
   {
    "duration": 32,
    "start_time": "2023-11-18T17:50:13.010Z"
   },
   {
    "duration": 12,
    "start_time": "2023-11-18T17:50:13.043Z"
   },
   {
    "duration": 27,
    "start_time": "2023-11-18T17:50:13.057Z"
   },
   {
    "duration": 13,
    "start_time": "2023-11-18T17:50:13.086Z"
   },
   {
    "duration": 14,
    "start_time": "2023-11-18T17:50:13.100Z"
   },
   {
    "duration": 11,
    "start_time": "2023-11-18T17:50:13.115Z"
   },
   {
    "duration": 15,
    "start_time": "2023-11-18T17:50:13.127Z"
   },
   {
    "duration": 28,
    "start_time": "2023-11-18T17:50:13.143Z"
   },
   {
    "duration": 7,
    "start_time": "2023-11-18T17:50:13.172Z"
   },
   {
    "duration": 15,
    "start_time": "2023-11-18T17:50:13.180Z"
   },
   {
    "duration": 52,
    "start_time": "2023-11-18T17:50:13.196Z"
   },
   {
    "duration": 15,
    "start_time": "2023-11-18T17:50:13.250Z"
   },
   {
    "duration": 5,
    "start_time": "2023-11-18T17:50:13.267Z"
   },
   {
    "duration": 17,
    "start_time": "2023-11-18T17:50:13.274Z"
   },
   {
    "duration": 28,
    "start_time": "2023-11-18T17:50:13.292Z"
   },
   {
    "duration": 16,
    "start_time": "2023-11-18T17:50:13.322Z"
   },
   {
    "duration": 16,
    "start_time": "2023-11-18T17:50:13.339Z"
   },
   {
    "duration": 24,
    "start_time": "2023-11-18T17:50:13.356Z"
   },
   {
    "duration": 27,
    "start_time": "2023-11-18T17:50:13.382Z"
   },
   {
    "duration": 12,
    "start_time": "2023-11-18T17:50:13.411Z"
   },
   {
    "duration": 12,
    "start_time": "2023-11-18T17:50:13.425Z"
   },
   {
    "duration": 33,
    "start_time": "2023-11-18T17:50:13.439Z"
   },
   {
    "duration": 21,
    "start_time": "2023-11-18T17:50:13.473Z"
   },
   {
    "duration": 26,
    "start_time": "2023-11-18T17:50:13.496Z"
   },
   {
    "duration": 16,
    "start_time": "2023-11-18T17:50:13.524Z"
   },
   {
    "duration": 27,
    "start_time": "2023-11-18T17:50:13.541Z"
   },
   {
    "duration": 39,
    "start_time": "2023-11-18T17:50:13.573Z"
   },
   {
    "duration": 16,
    "start_time": "2023-11-18T17:50:13.614Z"
   },
   {
    "duration": 28,
    "start_time": "2023-11-18T17:50:13.632Z"
   },
   {
    "duration": 37,
    "start_time": "2023-11-18T17:50:13.662Z"
   },
   {
    "duration": 17,
    "start_time": "2023-11-18T17:50:13.701Z"
   },
   {
    "duration": 12,
    "start_time": "2023-11-18T17:50:13.719Z"
   },
   {
    "duration": 9,
    "start_time": "2023-11-18T17:50:13.732Z"
   },
   {
    "duration": 5,
    "start_time": "2023-11-18T17:50:13.742Z"
   },
   {
    "duration": 6,
    "start_time": "2023-11-18T17:50:13.749Z"
   },
   {
    "duration": 22,
    "start_time": "2023-11-18T17:50:13.757Z"
   },
   {
    "duration": 20,
    "start_time": "2023-11-18T17:50:13.781Z"
   },
   {
    "duration": 8,
    "start_time": "2023-11-18T17:50:13.803Z"
   },
   {
    "duration": 6,
    "start_time": "2023-11-18T17:50:13.812Z"
   },
   {
    "duration": 28,
    "start_time": "2023-11-18T17:50:13.819Z"
   },
   {
    "duration": 23,
    "start_time": "2023-11-18T17:50:13.849Z"
   },
   {
    "duration": 22,
    "start_time": "2023-11-18T17:50:13.874Z"
   },
   {
    "duration": 8,
    "start_time": "2023-11-18T17:50:13.898Z"
   },
   {
    "duration": 130,
    "start_time": "2023-11-18T17:50:13.907Z"
   },
   {
    "duration": 5,
    "start_time": "2023-11-18T17:50:14.039Z"
   },
   {
    "duration": 22,
    "start_time": "2023-11-18T17:50:14.045Z"
   },
   {
    "duration": 11,
    "start_time": "2023-11-18T17:50:14.068Z"
   },
   {
    "duration": 25,
    "start_time": "2023-11-18T17:50:14.080Z"
   },
   {
    "duration": 29,
    "start_time": "2023-11-18T17:50:14.106Z"
   },
   {
    "duration": 18,
    "start_time": "2023-11-18T17:50:14.137Z"
   },
   {
    "duration": 6,
    "start_time": "2023-11-18T17:50:14.157Z"
   },
   {
    "duration": 37,
    "start_time": "2023-11-18T17:50:14.164Z"
   },
   {
    "duration": 6,
    "start_time": "2023-11-18T17:50:14.203Z"
   },
   {
    "duration": 16,
    "start_time": "2023-11-18T17:50:14.211Z"
   },
   {
    "duration": 29,
    "start_time": "2023-11-18T17:50:14.228Z"
   },
   {
    "duration": 18,
    "start_time": "2023-11-18T17:50:14.259Z"
   },
   {
    "duration": 27,
    "start_time": "2023-11-18T17:50:14.279Z"
   },
   {
    "duration": 24,
    "start_time": "2023-11-18T17:50:14.308Z"
   },
   {
    "duration": 10,
    "start_time": "2023-11-18T17:50:14.334Z"
   },
   {
    "duration": 15,
    "start_time": "2023-11-18T17:50:14.346Z"
   },
   {
    "duration": 21,
    "start_time": "2023-11-18T17:50:14.363Z"
   },
   {
    "duration": 154,
    "start_time": "2023-11-18T17:50:14.386Z"
   },
   {
    "duration": 165,
    "start_time": "2023-11-18T17:50:14.542Z"
   },
   {
    "duration": 162,
    "start_time": "2023-11-18T17:50:14.709Z"
   },
   {
    "duration": 289,
    "start_time": "2023-11-18T17:50:14.872Z"
   },
   {
    "duration": 17,
    "start_time": "2023-11-18T17:50:15.163Z"
   },
   {
    "duration": 13,
    "start_time": "2023-11-18T17:50:15.181Z"
   },
   {
    "duration": 14,
    "start_time": "2023-11-18T17:50:15.195Z"
   },
   {
    "duration": 103,
    "start_time": "2023-11-18T17:50:15.211Z"
   },
   {
    "duration": 13,
    "start_time": "2023-11-18T17:50:15.316Z"
   },
   {
    "duration": 1147,
    "start_time": "2023-11-18T17:51:44.936Z"
   },
   {
    "duration": 2,
    "start_time": "2023-11-18T17:51:46.085Z"
   },
   {
    "duration": 102,
    "start_time": "2023-11-18T17:51:46.088Z"
   },
   {
    "duration": 59,
    "start_time": "2023-11-18T17:51:46.192Z"
   },
   {
    "duration": 24,
    "start_time": "2023-11-18T17:51:46.253Z"
   },
   {
    "duration": 58,
    "start_time": "2023-11-18T17:51:46.279Z"
   },
   {
    "duration": 9,
    "start_time": "2023-11-18T17:51:46.338Z"
   },
   {
    "duration": 41,
    "start_time": "2023-11-18T17:51:46.348Z"
   },
   {
    "duration": 23,
    "start_time": "2023-11-18T17:51:46.391Z"
   },
   {
    "duration": 22,
    "start_time": "2023-11-18T17:51:46.415Z"
   },
   {
    "duration": 28,
    "start_time": "2023-11-18T17:51:46.438Z"
   },
   {
    "duration": 33,
    "start_time": "2023-11-18T17:51:46.467Z"
   },
   {
    "duration": 23,
    "start_time": "2023-11-18T17:51:46.502Z"
   },
   {
    "duration": 18,
    "start_time": "2023-11-18T17:51:46.528Z"
   },
   {
    "duration": 19,
    "start_time": "2023-11-18T17:51:46.548Z"
   },
   {
    "duration": 29,
    "start_time": "2023-11-18T17:51:46.569Z"
   },
   {
    "duration": 5,
    "start_time": "2023-11-18T17:51:46.599Z"
   },
   {
    "duration": 29,
    "start_time": "2023-11-18T17:51:46.605Z"
   },
   {
    "duration": 34,
    "start_time": "2023-11-18T17:51:46.636Z"
   },
   {
    "duration": 12,
    "start_time": "2023-11-18T17:51:46.672Z"
   },
   {
    "duration": 29,
    "start_time": "2023-11-18T17:51:46.685Z"
   },
   {
    "duration": 15,
    "start_time": "2023-11-18T17:51:46.716Z"
   },
   {
    "duration": 16,
    "start_time": "2023-11-18T17:51:46.732Z"
   },
   {
    "duration": 28,
    "start_time": "2023-11-18T17:51:46.749Z"
   },
   {
    "duration": 62,
    "start_time": "2023-11-18T17:51:46.778Z"
   },
   {
    "duration": 6,
    "start_time": "2023-11-18T17:51:46.842Z"
   },
   {
    "duration": 24,
    "start_time": "2023-11-18T17:51:46.850Z"
   },
   {
    "duration": 27,
    "start_time": "2023-11-18T17:51:46.876Z"
   },
   {
    "duration": 40,
    "start_time": "2023-11-18T17:51:46.904Z"
   },
   {
    "duration": 17,
    "start_time": "2023-11-18T17:51:46.946Z"
   },
   {
    "duration": 56,
    "start_time": "2023-11-18T17:51:46.964Z"
   },
   {
    "duration": 14,
    "start_time": "2023-11-18T17:51:47.021Z"
   },
   {
    "duration": 44,
    "start_time": "2023-11-18T17:51:47.036Z"
   },
   {
    "duration": 16,
    "start_time": "2023-11-18T17:51:47.082Z"
   },
   {
    "duration": 39,
    "start_time": "2023-11-18T17:51:47.100Z"
   },
   {
    "duration": 36,
    "start_time": "2023-11-18T17:51:47.141Z"
   },
   {
    "duration": 27,
    "start_time": "2023-11-18T17:51:47.179Z"
   },
   {
    "duration": 25,
    "start_time": "2023-11-18T17:51:47.208Z"
   },
   {
    "duration": 26,
    "start_time": "2023-11-18T17:51:47.235Z"
   },
   {
    "duration": 19,
    "start_time": "2023-11-18T17:51:47.263Z"
   },
   {
    "duration": 29,
    "start_time": "2023-11-18T17:51:47.287Z"
   },
   {
    "duration": 33,
    "start_time": "2023-11-18T17:51:47.317Z"
   },
   {
    "duration": 10,
    "start_time": "2023-11-18T17:51:47.351Z"
   },
   {
    "duration": 24,
    "start_time": "2023-11-18T17:51:47.362Z"
   },
   {
    "duration": 27,
    "start_time": "2023-11-18T17:51:47.388Z"
   },
   {
    "duration": 11,
    "start_time": "2023-11-18T17:51:47.417Z"
   },
   {
    "duration": 32,
    "start_time": "2023-11-18T17:51:47.430Z"
   },
   {
    "duration": 13,
    "start_time": "2023-11-18T17:51:47.463Z"
   },
   {
    "duration": 17,
    "start_time": "2023-11-18T17:51:47.477Z"
   },
   {
    "duration": 28,
    "start_time": "2023-11-18T17:51:47.495Z"
   },
   {
    "duration": 20,
    "start_time": "2023-11-18T17:51:47.524Z"
   },
   {
    "duration": 27,
    "start_time": "2023-11-18T17:51:47.546Z"
   },
   {
    "duration": 26,
    "start_time": "2023-11-18T17:51:47.575Z"
   },
   {
    "duration": 36,
    "start_time": "2023-11-18T17:51:47.603Z"
   },
   {
    "duration": 30,
    "start_time": "2023-11-18T17:51:47.640Z"
   },
   {
    "duration": 23,
    "start_time": "2023-11-18T17:51:47.671Z"
   },
   {
    "duration": 21,
    "start_time": "2023-11-18T17:51:47.695Z"
   },
   {
    "duration": 148,
    "start_time": "2023-11-18T17:51:47.717Z"
   },
   {
    "duration": 5,
    "start_time": "2023-11-18T17:51:47.867Z"
   },
   {
    "duration": 30,
    "start_time": "2023-11-18T17:51:47.873Z"
   },
   {
    "duration": 30,
    "start_time": "2023-11-18T17:51:47.904Z"
   },
   {
    "duration": 45,
    "start_time": "2023-11-18T17:51:47.935Z"
   },
   {
    "duration": 28,
    "start_time": "2023-11-18T17:51:47.981Z"
   },
   {
    "duration": 47,
    "start_time": "2023-11-18T17:51:48.010Z"
   },
   {
    "duration": 36,
    "start_time": "2023-11-18T17:51:48.058Z"
   },
   {
    "duration": 68,
    "start_time": "2023-11-18T17:51:48.095Z"
   },
   {
    "duration": 16,
    "start_time": "2023-11-18T17:51:48.164Z"
   },
   {
    "duration": 32,
    "start_time": "2023-11-18T17:51:48.181Z"
   },
   {
    "duration": 47,
    "start_time": "2023-11-18T17:51:48.214Z"
   },
   {
    "duration": 33,
    "start_time": "2023-11-18T17:51:48.263Z"
   },
   {
    "duration": 39,
    "start_time": "2023-11-18T17:51:48.298Z"
   },
   {
    "duration": 48,
    "start_time": "2023-11-18T17:51:48.339Z"
   },
   {
    "duration": 33,
    "start_time": "2023-11-18T17:51:48.389Z"
   },
   {
    "duration": 25,
    "start_time": "2023-11-18T17:51:48.424Z"
   },
   {
    "duration": 47,
    "start_time": "2023-11-18T17:51:48.451Z"
   },
   {
    "duration": 163,
    "start_time": "2023-11-18T17:51:48.500Z"
   },
   {
    "duration": 146,
    "start_time": "2023-11-18T17:51:48.664Z"
   },
   {
    "duration": 159,
    "start_time": "2023-11-18T17:51:48.812Z"
   },
   {
    "duration": 285,
    "start_time": "2023-11-18T17:51:48.973Z"
   },
   {
    "duration": 19,
    "start_time": "2023-11-18T17:51:49.259Z"
   },
   {
    "duration": 25,
    "start_time": "2023-11-18T17:51:49.280Z"
   },
   {
    "duration": 14,
    "start_time": "2023-11-18T17:51:49.307Z"
   },
   {
    "duration": 76,
    "start_time": "2023-11-18T17:51:49.323Z"
   },
   {
    "duration": 39,
    "start_time": "2023-11-18T17:51:49.400Z"
   },
   {
    "duration": 1366,
    "start_time": "2023-11-18T19:32:25.923Z"
   },
   {
    "duration": 3,
    "start_time": "2023-11-18T19:32:27.291Z"
   },
   {
    "duration": 269,
    "start_time": "2023-11-18T19:32:27.296Z"
   },
   {
    "duration": 79,
    "start_time": "2023-11-18T19:32:27.568Z"
   },
   {
    "duration": 24,
    "start_time": "2023-11-18T19:32:27.649Z"
   },
   {
    "duration": 84,
    "start_time": "2023-11-18T19:32:27.675Z"
   },
   {
    "duration": 13,
    "start_time": "2023-11-18T19:32:27.761Z"
   },
   {
    "duration": 36,
    "start_time": "2023-11-18T19:32:27.775Z"
   },
   {
    "duration": 14,
    "start_time": "2023-11-18T19:32:27.813Z"
   },
   {
    "duration": 9,
    "start_time": "2023-11-18T19:32:27.830Z"
   },
   {
    "duration": 9,
    "start_time": "2023-11-18T19:32:27.841Z"
   },
   {
    "duration": 41,
    "start_time": "2023-11-18T19:32:27.851Z"
   },
   {
    "duration": 11,
    "start_time": "2023-11-18T19:32:27.893Z"
   },
   {
    "duration": 16,
    "start_time": "2023-11-18T19:32:27.905Z"
   },
   {
    "duration": 31,
    "start_time": "2023-11-18T19:32:27.922Z"
   },
   {
    "duration": 17,
    "start_time": "2023-11-18T19:32:27.955Z"
   },
   {
    "duration": 6,
    "start_time": "2023-11-18T19:32:27.973Z"
   },
   {
    "duration": 11,
    "start_time": "2023-11-18T19:32:27.980Z"
   },
   {
    "duration": 16,
    "start_time": "2023-11-18T19:32:27.992Z"
   },
   {
    "duration": 60,
    "start_time": "2023-11-18T19:32:28.010Z"
   },
   {
    "duration": 18,
    "start_time": "2023-11-18T19:32:28.072Z"
   },
   {
    "duration": 33,
    "start_time": "2023-11-18T19:32:28.092Z"
   },
   {
    "duration": 44,
    "start_time": "2023-11-18T19:32:28.127Z"
   },
   {
    "duration": 32,
    "start_time": "2023-11-18T19:32:28.174Z"
   },
   {
    "duration": 95,
    "start_time": "2023-11-18T19:32:28.208Z"
   },
   {
    "duration": 6,
    "start_time": "2023-11-18T19:32:28.305Z"
   },
   {
    "duration": 14,
    "start_time": "2023-11-18T19:32:28.312Z"
   },
   {
    "duration": 19,
    "start_time": "2023-11-18T19:32:28.330Z"
   },
   {
    "duration": 26,
    "start_time": "2023-11-18T19:32:28.350Z"
   },
   {
    "duration": 17,
    "start_time": "2023-11-18T19:32:28.377Z"
   },
   {
    "duration": 15,
    "start_time": "2023-11-18T19:32:28.396Z"
   },
   {
    "duration": 39,
    "start_time": "2023-11-18T19:32:28.412Z"
   },
   {
    "duration": 36,
    "start_time": "2023-11-18T19:32:28.453Z"
   },
   {
    "duration": 19,
    "start_time": "2023-11-18T19:32:28.491Z"
   },
   {
    "duration": 11,
    "start_time": "2023-11-18T19:32:28.512Z"
   },
   {
    "duration": 27,
    "start_time": "2023-11-18T19:32:28.524Z"
   },
   {
    "duration": 26,
    "start_time": "2023-11-18T19:32:28.553Z"
   },
   {
    "duration": 26,
    "start_time": "2023-11-18T19:32:28.581Z"
   },
   {
    "duration": 14,
    "start_time": "2023-11-18T19:32:28.609Z"
   },
   {
    "duration": 21,
    "start_time": "2023-11-18T19:32:28.625Z"
   },
   {
    "duration": 15,
    "start_time": "2023-11-18T19:32:28.648Z"
   },
   {
    "duration": 38,
    "start_time": "2023-11-18T19:32:28.671Z"
   },
   {
    "duration": 8,
    "start_time": "2023-11-18T19:32:28.711Z"
   },
   {
    "duration": 6,
    "start_time": "2023-11-18T19:32:28.720Z"
   },
   {
    "duration": 28,
    "start_time": "2023-11-18T19:32:28.727Z"
   },
   {
    "duration": 19,
    "start_time": "2023-11-18T19:32:28.756Z"
   },
   {
    "duration": 17,
    "start_time": "2023-11-18T19:32:28.776Z"
   },
   {
    "duration": 5,
    "start_time": "2023-11-18T19:32:28.795Z"
   },
   {
    "duration": 3,
    "start_time": "2023-11-18T19:32:28.802Z"
   },
   {
    "duration": 31,
    "start_time": "2023-11-18T19:32:28.806Z"
   },
   {
    "duration": 26,
    "start_time": "2023-11-18T19:32:28.839Z"
   },
   {
    "duration": 41,
    "start_time": "2023-11-18T19:32:28.866Z"
   },
   {
    "duration": 33,
    "start_time": "2023-11-18T19:32:28.908Z"
   },
   {
    "duration": 67,
    "start_time": "2023-11-18T19:32:28.943Z"
   },
   {
    "duration": 25,
    "start_time": "2023-11-18T19:32:29.012Z"
   },
   {
    "duration": 24,
    "start_time": "2023-11-18T19:32:29.038Z"
   },
   {
    "duration": 9,
    "start_time": "2023-11-18T19:32:29.063Z"
   },
   {
    "duration": 128,
    "start_time": "2023-11-18T19:32:29.073Z"
   },
   {
    "duration": 6,
    "start_time": "2023-11-18T19:32:29.203Z"
   },
   {
    "duration": 9,
    "start_time": "2023-11-18T19:32:29.210Z"
   },
   {
    "duration": 7,
    "start_time": "2023-11-18T19:32:29.220Z"
   },
   {
    "duration": 35,
    "start_time": "2023-11-18T19:32:29.229Z"
   },
   {
    "duration": 11,
    "start_time": "2023-11-18T19:32:29.265Z"
   },
   {
    "duration": 20,
    "start_time": "2023-11-18T19:32:29.278Z"
   },
   {
    "duration": 6,
    "start_time": "2023-11-18T19:32:29.300Z"
   },
   {
    "duration": 27,
    "start_time": "2023-11-18T19:32:29.307Z"
   },
   {
    "duration": 10,
    "start_time": "2023-11-18T19:32:29.336Z"
   },
   {
    "duration": 4,
    "start_time": "2023-11-18T19:32:29.373Z"
   },
   {
    "duration": 24,
    "start_time": "2023-11-18T19:32:29.379Z"
   },
   {
    "duration": 28,
    "start_time": "2023-11-18T19:32:29.405Z"
   },
   {
    "duration": 27,
    "start_time": "2023-11-18T19:32:29.435Z"
   },
   {
    "duration": 21,
    "start_time": "2023-11-18T19:32:29.464Z"
   },
   {
    "duration": 11,
    "start_time": "2023-11-18T19:32:29.487Z"
   },
   {
    "duration": 13,
    "start_time": "2023-11-18T19:32:29.499Z"
   },
   {
    "duration": 21,
    "start_time": "2023-11-18T19:32:29.514Z"
   },
   {
    "duration": 203,
    "start_time": "2023-11-18T19:32:29.537Z"
   },
   {
    "duration": 164,
    "start_time": "2023-11-18T19:32:29.742Z"
   },
   {
    "duration": 176,
    "start_time": "2023-11-18T19:32:29.907Z"
   },
   {
    "duration": 293,
    "start_time": "2023-11-18T19:32:30.084Z"
   },
   {
    "duration": 19,
    "start_time": "2023-11-18T19:32:30.379Z"
   },
   {
    "duration": 36,
    "start_time": "2023-11-18T19:32:30.400Z"
   },
   {
    "duration": 57,
    "start_time": "2023-11-18T19:32:30.441Z"
   },
   {
    "duration": 71,
    "start_time": "2023-11-18T19:32:30.499Z"
   },
   {
    "duration": 97,
    "start_time": "2023-11-18T19:32:30.571Z"
   }
  ],
  "kernelspec": {
   "display_name": "Python 3 (ipykernel)",
   "language": "python",
   "name": "python3"
  },
  "language_info": {
   "codemirror_mode": {
    "name": "ipython",
    "version": 3
   },
   "file_extension": ".py",
   "mimetype": "text/x-python",
   "name": "python",
   "nbconvert_exporter": "python",
   "pygments_lexer": "ipython3",
   "version": "3.11.5"
  },
  "toc": {
   "base_numbering": 1,
   "nav_menu": {},
   "number_sections": true,
   "sideBar": true,
   "skip_h1_title": true,
   "title_cell": "Содержание",
   "title_sidebar": "Contents",
   "toc_cell": true,
   "toc_position": {},
   "toc_section_display": true,
   "toc_window_display": false
  }
 },
 "nbformat": 4,
 "nbformat_minor": 5
}
